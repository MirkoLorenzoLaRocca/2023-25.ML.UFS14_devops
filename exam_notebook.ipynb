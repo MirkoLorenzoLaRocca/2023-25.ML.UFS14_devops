{
 "cells": [
  {
   "cell_type": "code",
   "execution_count": 27,
   "id": "03ca2faf",
   "metadata": {},
   "outputs": [
    {
     "data": {
      "text/plain": [
       "'763104351884.dkr.ecr.us-east-1.amazonaws.com/tensorflow-inference:2.12.1-cpu'"
      ]
     },
     "execution_count": 27,
     "metadata": {},
     "output_type": "execute_result"
    }
   ],
   "source": [
    "import scipy.sparse\n",
    "from sagemaker import image_uris\n",
    "image_uris.retrieve(framework='tensorflow',region='us-east-1',version='2.12.1',image_scope='inference',instance_type='ml.c5.4xlarge')"
   ]
  },
  {
   "cell_type": "code",
   "execution_count": 28,
   "id": "7013238b",
   "metadata": {},
   "outputs": [
    {
     "name": "stdout",
     "output_type": "stream",
     "text": [
      "WARNING! Your password will be stored unencrypted in /home/ec2-user/.docker/config.json.\n",
      "Configure a credential helper to remove this warning. See\n",
      "https://docs.docker.com/engine/reference/commandline/login/#credentials-store\n",
      "\n",
      "Login Succeeded\n"
     ]
    }
   ],
   "source": [
    "!aws ecr get-login-password --region us-east-1 | docker login --username AWS --password-stdin 520713654638.dkr.ecr.us-east-1.amazonaws.com"
   ]
  },
  {
   "cell_type": "code",
   "execution_count": 29,
   "id": "77a7cf96",
   "metadata": {},
   "outputs": [
    {
     "name": "stdout",
     "output_type": "stream",
     "text": [
      "1.12.0-cpu: Pulling from sagemaker-tensorflow-serving\n",
      "\n",
      "\u001b[1B8f4ce990: Pulling fs layer \n",
      "\u001b[1B282d9c4b: Pulling fs layer \n",
      "\u001b[1B3db6dc03: Pulling fs layer \n",
      "\u001b[1Bc605f3f1: Pulling fs layer \n",
      "\u001b[1B10487652: Pulling fs layer \n",
      "\u001b[1Bdde97789: Pulling fs layer \n",
      "\u001b[1Bb514193e: Pulling fs layer \n",
      "\u001b[1B9f2d3d2a: Pulling fs layer \n",
      "\u001b[1Be4419145: Pull complete 874kB/1.874kBBA\u001b[2K\u001b[6A\u001b[2K\u001b[9A\u001b[2K\u001b[4A\u001b[2K\u001b[5A\u001b[2K\u001b[9A\u001b[2K\u001b[9A\u001b[2K\u001b[5A\u001b[2K\u001b[4A\u001b[2K\u001b[4A\u001b[2K\u001b[4A\u001b[2K\u001b[3A\u001b[2K\u001b[4A\u001b[2K\u001b[4A\u001b[2K\u001b[3A\u001b[2K\u001b[1A\u001b[2K\u001b[9A\u001b[2K\u001b[9A\u001b[2K\u001b[9A\u001b[2K\u001b[9A\u001b[2K\u001b[9A\u001b[2K\u001b[9A\u001b[2K\u001b[9A\u001b[2K\u001b[9A\u001b[2K\u001b[9A\u001b[2K\u001b[9A\u001b[2K\u001b[9A\u001b[2K\u001b[9A\u001b[2K\u001b[9A\u001b[2K\u001b[9A\u001b[2K\u001b[9A\u001b[2K\u001b[9A\u001b[2K\u001b[9A\u001b[2K\u001b[9A\u001b[2K\u001b[9A\u001b[2K\u001b[9A\u001b[2K\u001b[9A\u001b[2K\u001b[7A\u001b[2K\u001b[5A\u001b[2K\u001b[5A\u001b[2K\u001b[5A\u001b[2K\u001b[5A\u001b[2K\u001b[5A\u001b[2K\u001b[5A\u001b[2K\u001b[5A\u001b[2K\u001b[5A\u001b[2K\u001b[5A\u001b[2K\u001b[4A\u001b[2K\u001b[4A\u001b[2K\u001b[4A\u001b[2K\u001b[4A\u001b[2K\u001b[4A\u001b[2K\u001b[4A\u001b[2K\u001b[4A\u001b[2K\u001b[4A\u001b[2K\u001b[4A\u001b[2K\u001b[4A\u001b[2K\u001b[4A\u001b[2K\u001b[4A\u001b[2K\u001b[4A\u001b[2K\u001b[4A\u001b[2K\u001b[4A\u001b[2K\u001b[3A\u001b[2K\u001b[3A\u001b[2K\u001b[3A\u001b[2K\u001b[3A\u001b[2K\u001b[3A\u001b[2K\u001b[3A\u001b[2K\u001b[3A\u001b[2K\u001b[3A\u001b[2K\u001b[3A\u001b[2K\u001b[3A\u001b[2K\u001b[3A\u001b[2K\u001b[3A\u001b[2K\u001b[2A\u001b[2KDigest: sha256:026c2a51a2e9e258481b17c110f9c9640dc010bf71463d4bd31e925ced7c6a49\n",
      "Status: Downloaded newer image for 520713654638.dkr.ecr.us-east-1.amazonaws.com/sagemaker-tensorflow-serving:1.12.0-cpu\n",
      "520713654638.dkr.ecr.us-east-1.amazonaws.com/sagemaker-tensorflow-serving:1.12.0-cpu\n"
     ]
    }
   ],
   "source": [
    "!docker pull 520713654638.dkr.ecr.us-east-1.amazonaws.com/sagemaker-tensorflow-serving:1.12.0-cpu"
   ]
  },
  {
   "cell_type": "code",
   "execution_count": 30,
   "id": "9e85f8fd",
   "metadata": {},
   "outputs": [
    {
     "data": {
      "text/html": [
       "<pre style=\"white-space:pre;overflow-x:auto;line-height:normal;font-family:Menlo,'DejaVu Sans Mono',consolas,'Courier New',monospace\"><span style=\"color: #7fbfbf; text-decoration-color: #7fbfbf\">[11/22/24 15:46:54] </span><span style=\"color: #0069ff; text-decoration-color: #0069ff; font-weight: bold\">INFO    </span> Defaulting to only available Python version: py310                   <a href=\"file:///home/ec2-user/anaconda3/envs/python3/lib/python3.10/site-packages/sagemaker/image_uris.py\" target=\"_blank\"><span style=\"color: #7f7f7f; text-decoration-color: #7f7f7f\">image_uris.py</span></a><span style=\"color: #7f7f7f; text-decoration-color: #7f7f7f\">:</span><a href=\"file:///home/ec2-user/anaconda3/envs/python3/lib/python3.10/site-packages/sagemaker/image_uris.py#603\" target=\"_blank\"><span style=\"color: #7f7f7f; text-decoration-color: #7f7f7f\">603</span></a>\n",
       "</pre>\n"
      ],
      "text/plain": [
       "\u001b[2;36m[11/22/24 15:46:54]\u001b[0m\u001b[2;36m \u001b[0m\u001b[1;38;2;0;105;255mINFO    \u001b[0m Defaulting to only available Python version: py310                   \u001b]8;id=920402;file:///home/ec2-user/anaconda3/envs/python3/lib/python3.10/site-packages/sagemaker/image_uris.py\u001b\\\u001b[2mimage_uris.py\u001b[0m\u001b]8;;\u001b\\\u001b[2m:\u001b[0m\u001b]8;id=295198;file:///home/ec2-user/anaconda3/envs/python3/lib/python3.10/site-packages/sagemaker/image_uris.py#603\u001b\\\u001b[2m603\u001b[0m\u001b]8;;\u001b\\\n"
      ]
     },
     "metadata": {},
     "output_type": "display_data"
    },
    {
     "data": {
      "text/plain": [
       "'763104351884.dkr.ecr.us-east-1.amazonaws.com/tensorflow-training:2.12.0-cpu-py310'"
      ]
     },
     "execution_count": 30,
     "metadata": {},
     "output_type": "execute_result"
    }
   ],
   "source": [
    "import scipy.sparse\n",
    "from sagemaker import image_uris\n",
    "image_uris.retrieve(framework='tensorflow',region='us-east-1',version='2.12.0',image_scope='training',instance_type='ml.c5.4xlarge')"
   ]
  },
  {
   "cell_type": "code",
   "execution_count": 31,
   "id": "0bd895ef",
   "metadata": {},
   "outputs": [
    {
     "name": "stdout",
     "output_type": "stream",
     "text": [
      "WARNING! Your password will be stored unencrypted in /home/ec2-user/.docker/config.json.\n",
      "Configure a credential helper to remove this warning. See\n",
      "https://docs.docker.com/engine/reference/commandline/login/#credentials-store\n",
      "\n",
      "Login Succeeded\n"
     ]
    }
   ],
   "source": [
    "!aws ecr get-login-password --region us-east-1 | docker login --username AWS --password-stdin 763104351884.dkr.ecr.us-east-1.amazonaws.com"
   ]
  },
  {
   "cell_type": "code",
   "execution_count": 32,
   "id": "63c9eba6",
   "metadata": {},
   "outputs": [
    {
     "name": "stdout",
     "output_type": "stream",
     "text": [
      "REPOSITORY                                                                  TAG          IMAGE ID       CREATED          SIZE\n",
      "319840978863.dkr.ecr.us-east-1.amazonaws.com/tensorflow-inference           mondo        26210a2e8da1   57 minutes ago   4.53GB\n",
      "520713654638.dkr.ecr.us-east-1.amazonaws.com/sagemaker-tensorflow-serving   1.12.0-cpu   27aee10a9f6a   5 years ago      377MB\n"
     ]
    }
   ],
   "source": [
    "!docker images"
   ]
  },
  {
   "cell_type": "code",
   "execution_count": null,
   "id": "c699c7dc",
   "metadata": {},
   "outputs": [],
   "source": [
    "!docker build -t 319840978863.dkr.ecr.us-east-1.amazonaws.com/tensorflow-training:mondo -f Dockerfile.train ."
   ]
  },
  {
   "cell_type": "code",
   "execution_count": 34,
   "id": "4de1b17b",
   "metadata": {},
   "outputs": [
    {
     "name": "stdout",
     "output_type": "stream",
     "text": [
      "REPOSITORY                                                                  TAG          IMAGE ID       CREATED             SIZE\n",
      "319840978863.dkr.ecr.us-east-1.amazonaws.com/tensorflow-training            mondo        f75946f23fd8   4 minutes ago       7GB\n",
      "319840978863.dkr.ecr.us-east-1.amazonaws.com/tensorflow-inference           mondo        26210a2e8da1   About an hour ago   4.53GB\n",
      "520713654638.dkr.ecr.us-east-1.amazonaws.com/sagemaker-tensorflow-serving   1.12.0-cpu   27aee10a9f6a   5 years ago         377MB\n"
     ]
    }
   ],
   "source": [
    "!docker images"
   ]
  },
  {
   "cell_type": "code",
   "execution_count": 38,
   "id": "67831c50",
   "metadata": {},
   "outputs": [
    {
     "name": "stdout",
     "output_type": "stream",
     "text": [
      "image_name: tensorflow-training ######################\n",
      "account: 319840978863 ######################\n",
      "region: us-east-1 ######################\n",
      "fullname: 319840978863.dkr.ecr.us-east-1.amazonaws.com/tensorflow-training:2.12.0-cpu-py310-pluto-2 ######################\n"
     ]
    },
    {
     "name": "stderr",
     "output_type": "stream",
     "text": [
      "\n",
      "An error occurred (RepositoryNotFoundException) when calling the DescribeRepositories operation: The repository with name 'tensorflow-training' does not exist in the registry with id '319840978863'\n"
     ]
    },
    {
     "name": "stdout",
     "output_type": "stream",
     "text": [
      "{\n",
      "    \"repository\": {\n",
      "        \"repositoryArn\": \"arn:aws:ecr:us-east-1:319840978863:repository/tensorflow-training\",\n",
      "        \"registryId\": \"319840978863\",\n",
      "        \"repositoryName\": \"tensorflow-training\",\n",
      "        \"repositoryUri\": \"319840978863.dkr.ecr.us-east-1.amazonaws.com/tensorflow-training\",\n",
      "        \"createdAt\": 1732291185.597,\n",
      "        \"imageTagMutability\": \"MUTABLE\",\n",
      "        \"imageScanningConfiguration\": {\n",
      "            \"scanOnPush\": false\n",
      "        },\n",
      "        \"encryptionConfiguration\": {\n",
      "            \"encryptionType\": \"AES256\"\n",
      "        }\n",
      "    }\n",
      "}\n"
     ]
    }
   ],
   "source": [
    "%%sh\n",
    "# Specify an image name\n",
    "image_name=tensorflow-training\n",
    "echo \"image_name: ${image_name} ######################\"\n",
    "\n",
    "account=$(aws sts get-caller-identity --query Account --output text)\n",
    "echo \"account: ${account} ######################\"\n",
    "\n",
    "# Get the region defined in the current configuration (default to us-west-2 if none defined)\n",
    "region=$(aws configure get region)\n",
    "echo \"region: ${region} ######################\"\n",
    "\n",
    "fullname=\"${account}.dkr.ecr.${region}.amazonaws.com/${image_name}:2.12.0-cpu-py310-pluto-2\"\n",
    "echo \"fullname: ${fullname} ######################\"\n",
    "\n",
    "aws ecr describe-repositories --repository-names \"${image_name}\"\n",
    "if [ $? -ne 0 ]\n",
    "then\n",
    "aws ecr create-repository --repository-name \"${image_name}\"\n",
    "fi"
   ]
  },
  {
   "cell_type": "code",
   "execution_count": 39,
   "id": "33bf629c",
   "metadata": {},
   "outputs": [
    {
     "name": "stdout",
     "output_type": "stream",
     "text": [
      "WARNING! Your password will be stored unencrypted in /home/ec2-user/.docker/config.json.\n",
      "Configure a credential helper to remove this warning. See\n",
      "https://docs.docker.com/engine/reference/commandline/login/#credentials-store\n",
      "\n",
      "Login Succeeded\n"
     ]
    }
   ],
   "source": [
    "!aws ecr get-login-password --region us-east-1 | docker login --username AWS --password-stdin  319840978863.dkr.ecr.us-east-1.amazonaws.com"
   ]
  },
  {
   "cell_type": "code",
   "execution_count": 40,
   "id": "fdcb857d",
   "metadata": {},
   "outputs": [
    {
     "name": "stdout",
     "output_type": "stream",
     "text": [
      "REPOSITORY                                                                  TAG          IMAGE ID       CREATED             SIZE\n",
      "319840978863.dkr.ecr.us-east-1.amazonaws.com/tensorflow-training            mondo        f75946f23fd8   9 minutes ago       7GB\n",
      "319840978863.dkr.ecr.us-east-1.amazonaws.com/tensorflow-inference           mondo        26210a2e8da1   About an hour ago   4.53GB\n",
      "520713654638.dkr.ecr.us-east-1.amazonaws.com/sagemaker-tensorflow-serving   1.12.0-cpu   27aee10a9f6a   5 years ago         377MB\n"
     ]
    }
   ],
   "source": [
    "!docker images"
   ]
  },
  {
   "cell_type": "code",
   "execution_count": 41,
   "id": "2ab69f45",
   "metadata": {},
   "outputs": [
    {
     "name": "stdout",
     "output_type": "stream",
     "text": [
      "Error response from daemon: No such image: ciao:mondo\n"
     ]
    }
   ],
   "source": [
    "!docker tag ciao:mondo 319840978863.dkr.ecr.us-east-1.amazonaws.com/tensorflow-training:mondo"
   ]
  },
  {
   "cell_type": "code",
   "execution_count": 42,
   "id": "a2c36bfd",
   "metadata": {},
   "outputs": [
    {
     "name": "stdout",
     "output_type": "stream",
     "text": [
      "REPOSITORY                                                                  TAG          IMAGE ID       CREATED             SIZE\n",
      "319840978863.dkr.ecr.us-east-1.amazonaws.com/tensorflow-training            mondo        f75946f23fd8   10 minutes ago      7GB\n",
      "319840978863.dkr.ecr.us-east-1.amazonaws.com/tensorflow-inference           mondo        26210a2e8da1   About an hour ago   4.53GB\n",
      "520713654638.dkr.ecr.us-east-1.amazonaws.com/sagemaker-tensorflow-serving   1.12.0-cpu   27aee10a9f6a   5 years ago         377MB\n"
     ]
    }
   ],
   "source": [
    "!docker images"
   ]
  },
  {
   "cell_type": "code",
   "execution_count": 43,
   "id": "527d946b",
   "metadata": {},
   "outputs": [
    {
     "name": "stdout",
     "output_type": "stream",
     "text": [
      "The push refers to repository [319840978863.dkr.ecr.us-east-1.amazonaws.com/tensorflow-training]\n",
      "\n",
      "\u001b[1Be5280b47: Preparing \n",
      "\u001b[1Bd88e4ba4: Preparing \n",
      "\u001b[1B5f6e8138: Preparing \n",
      "\u001b[1B117206ec: Preparing \n",
      "\u001b[1B22878ecf: Preparing \n",
      "\u001b[1Bdb4f6696: Preparing \n",
      "\u001b[1Bf529ae49: Preparing \n",
      "\u001b[1B75f13e59: Preparing \n",
      "\u001b[1B0c6c24f9: Preparing \n",
      "\u001b[1Ba1e64371: Preparing \n",
      "\u001b[1B29631b13: Preparing \n",
      "\u001b[1B3f03efd0: Preparing \n",
      "\u001b[1B9b75d5ee: Preparing \n",
      "\u001b[1B370de786: Preparing \n",
      "\u001b[1Ba16f1a7a: Preparing \n",
      "\u001b[1Bfc8740d1: Preparing \n",
      "\u001b[1B292691fc: Preparing \n",
      "\u001b[1B6672bf9d: Preparing \n",
      "\u001b[1B607be3da: Preparing \n",
      "\u001b[1Bafc9b360: Preparing \n",
      "\u001b[1Bf934e4df: Preparing \n",
      "\u001b[1B80a2a6eb: Preparing \n",
      "\u001b[16B5f13e59: Waiting g \n",
      "\u001b[16Bc6c24f9: Waiting g \n",
      "\u001b[1Bf0a068df: Preparing \n",
      "\u001b[17B1e64371: Waiting g \n",
      "\u001b[1B37a36861: Preparing \n",
      "\u001b[1Becb4bd81: Preparing \n",
      "\u001b[1B34b60c81: Preparing \n",
      "\u001b[1B07d5d0ab: Preparing \n",
      "\u001b[1Be6c8e003: Preparing \n",
      "\u001b[1Bab822c1c: Preparing \n",
      "\u001b[1B3609315f: Preparing \n",
      "\u001b[20B16f1a7a: Pushed   2.248GB/2.217GB\u001b[2K\u001b[32A\u001b[2K\u001b[32A\u001b[2K\u001b[32A\u001b[2K\u001b[30A\u001b[2K\u001b[32A\u001b[2K\u001b[34A\u001b[2K\u001b[27A\u001b[2K\u001b[32A\u001b[2K\u001b[26A\u001b[2K\u001b[26A\u001b[2K\u001b[32A\u001b[2K\u001b[26A\u001b[2K\u001b[32A\u001b[2K\u001b[25A\u001b[2K\u001b[32A\u001b[2K\u001b[24A\u001b[2K\u001b[32A\u001b[2K\u001b[32A\u001b[2K\u001b[26A\u001b[2K\u001b[24A\u001b[2K\u001b[29A\u001b[2K\u001b[24A\u001b[2K\u001b[32A\u001b[2K\u001b[22A\u001b[2K\u001b[32A\u001b[2K\u001b[24A\u001b[2K\u001b[23A\u001b[2K\u001b[26A\u001b[2K\u001b[32A\u001b[2K\u001b[24A\u001b[2K\u001b[23A\u001b[2K\u001b[24A\u001b[2K\u001b[23A\u001b[2K\u001b[32A\u001b[2K\u001b[24A\u001b[2K\u001b[22A\u001b[2K\u001b[24A\u001b[2K\u001b[23A\u001b[2K\u001b[22A\u001b[2K\u001b[32A\u001b[2K\u001b[23A\u001b[2K\u001b[22A\u001b[2K\u001b[23A\u001b[2K\u001b[24A\u001b[2K\u001b[32A\u001b[2K\u001b[23A\u001b[2K\u001b[22A\u001b[2K\u001b[23A\u001b[2K\u001b[22A\u001b[2K\u001b[24A\u001b[2K\u001b[23A\u001b[2K\u001b[32A\u001b[2K\u001b[24A\u001b[2K\u001b[21A\u001b[2K\u001b[22A\u001b[2K\u001b[32A\u001b[2K\u001b[24A\u001b[2K\u001b[23A\u001b[2K\u001b[32A\u001b[2K\u001b[23A\u001b[2K\u001b[21A\u001b[2K\u001b[24A\u001b[2K\u001b[23A\u001b[2K\u001b[21A\u001b[2K\u001b[22A\u001b[2K\u001b[24A\u001b[2K\u001b[22A\u001b[2K\u001b[24A\u001b[2K\u001b[21A\u001b[2K\u001b[24A\u001b[2K\u001b[23A\u001b[2K\u001b[21A\u001b[2K\u001b[23A\u001b[2K\u001b[22A\u001b[2K\u001b[21A\u001b[2K\u001b[23A\u001b[2K\u001b[22A\u001b[2K\u001b[23A\u001b[2K\u001b[22A\u001b[2K\u001b[24A\u001b[2K\u001b[23A\u001b[2K\u001b[32A\u001b[2K\u001b[24A\u001b[2K\u001b[32A\u001b[2K\u001b[22A\u001b[2K\u001b[24A\u001b[2K\u001b[22A\u001b[2K\u001b[24A\u001b[2K\u001b[22A\u001b[2K\u001b[22A\u001b[2K\u001b[22A\u001b[2K\u001b[24A\u001b[2K\u001b[22A\u001b[2K\u001b[32A\u001b[2K\u001b[22A\u001b[2K\u001b[32A\u001b[2K\u001b[22A\u001b[2K\u001b[32A\u001b[2K\u001b[24A\u001b[2K\u001b[22A\u001b[2K\u001b[24A\u001b[2K\u001b[23A\u001b[2K\u001b[24A\u001b[2K\u001b[23A\u001b[2K\u001b[32A\u001b[2K\u001b[22A\u001b[2K\u001b[32A\u001b[2K\u001b[22A\u001b[2K\u001b[24A\u001b[2K\u001b[23A\u001b[2K\u001b[32A\u001b[2K\u001b[24A\u001b[2K\u001b[32A\u001b[2K\u001b[22A\u001b[2K\u001b[32A\u001b[2K\u001b[23A\u001b[2K\u001b[23A\u001b[2K\u001b[22A\u001b[2K\u001b[23A\u001b[2K\u001b[22A\u001b[2K\u001b[23A\u001b[2K\u001b[32A\u001b[2K\u001b[23A\u001b[2K\u001b[22A\u001b[2K\u001b[23A\u001b[2K\u001b[32A\u001b[2K\u001b[24A\u001b[2K\u001b[32A\u001b[2K\u001b[21A\u001b[2K\u001b[24A\u001b[2K\u001b[23A\u001b[2K\u001b[32A\u001b[2K\u001b[21A\u001b[2K\u001b[24A\u001b[2K\u001b[23A\u001b[2K\u001b[22A\u001b[2K\u001b[23A\u001b[2K\u001b[24A\u001b[2K\u001b[23A\u001b[2K\u001b[24A\u001b[2K\u001b[23A\u001b[2K\u001b[32A\u001b[2K\u001b[24A\u001b[2K\u001b[23A\u001b[2K\u001b[32A\u001b[2K\u001b[23A\u001b[2K\u001b[32A\u001b[2K\u001b[32A\u001b[2K\u001b[23A\u001b[2K\u001b[32A\u001b[2K\u001b[24A\u001b[2K\u001b[32A\u001b[2K\u001b[21A\u001b[2K\u001b[23A\u001b[2K\u001b[32A\u001b[2K\u001b[23A\u001b[2K\u001b[32A\u001b[2K\u001b[24A\u001b[2K\u001b[21A\u001b[2K\u001b[24A\u001b[2K\u001b[23A\u001b[2K\u001b[32A\u001b[2K\u001b[20A\u001b[2K\u001b[24A\u001b[2K\u001b[21A\u001b[2K\u001b[23A\u001b[2K\u001b[21A\u001b[2K\u001b[20A\u001b[2K\u001b[21A\u001b[2K\u001b[20A\u001b[2K\u001b[23A\u001b[2K\u001b[21A\u001b[2K\u001b[20A\u001b[2K\u001b[32A\u001b[2K\u001b[24A\u001b[2K\u001b[32A\u001b[2K\u001b[23A\u001b[2K\u001b[32A\u001b[2K\u001b[23A\u001b[2K\u001b[32A\u001b[2K\u001b[21A\u001b[2K\u001b[23A\u001b[2K\u001b[20A\u001b[2K\u001b[21A\u001b[2K\u001b[32A\u001b[2K\u001b[32A\u001b[2K\u001b[23A\u001b[2K\u001b[24A\u001b[2K\u001b[23A\u001b[2K\u001b[32A\u001b[2K\u001b[23A\u001b[2K\u001b[32A\u001b[2K\u001b[20A\u001b[2K\u001b[32A\u001b[2K\u001b[23A\u001b[2K\u001b[32A\u001b[2K\u001b[20A\u001b[2K\u001b[21A\u001b[2K\u001b[24A\u001b[2K\u001b[23A\u001b[2K\u001b[24A\u001b[2K\u001b[20A\u001b[2K\u001b[24A\u001b[2K\u001b[20A\u001b[2K\u001b[24A\u001b[2K\u001b[23A\u001b[2K\u001b[21A\u001b[2K\u001b[23A\u001b[2K\u001b[21A\u001b[2K\u001b[23A\u001b[2K\u001b[20A\u001b[2K\u001b[32A\u001b[2K\u001b[32A\u001b[2K\u001b[20A\u001b[2K\u001b[32A\u001b[2K\u001b[21A\u001b[2K\u001b[23A\u001b[2K\u001b[32A\u001b[2K\u001b[23A\u001b[2K\u001b[32A\u001b[2K\u001b[23A\u001b[2K\u001b[20A\u001b[2K\u001b[32A\u001b[2K\u001b[20A\u001b[2K\u001b[24A\u001b[2K\u001b[20A\u001b[2K\u001b[23A\u001b[2K\u001b[32A\u001b[2K\u001b[23A\u001b[2K\u001b[24A\u001b[2K\u001b[20A\u001b[2K\u001b[23A\u001b[2K\u001b[20A\u001b[2K\u001b[24A\u001b[2K\u001b[23A\u001b[2K\u001b[21A\u001b[2K\u001b[23A\u001b[2K\u001b[32A\u001b[2K\u001b[21A\u001b[2K\u001b[32A\u001b[2K\u001b[20A\u001b[2K\u001b[23A\u001b[2K\u001b[32A\u001b[2K\u001b[23A\u001b[2K\u001b[20A\u001b[2K\u001b[21A\u001b[2K\u001b[24A\u001b[2K\u001b[32A\u001b[2K\u001b[21A\u001b[2K\u001b[24A\u001b[2K\u001b[23A\u001b[2K\u001b[24A\u001b[2K\u001b[23A\u001b[2K\u001b[20A\u001b[2K\u001b[24A\u001b[2K\u001b[32A\u001b[2K\u001b[23A\u001b[2K\u001b[21A\u001b[2K\u001b[23A\u001b[2K\u001b[20A\u001b[2K\u001b[21A\u001b[2K\u001b[20A\u001b[2K\u001b[24A\u001b[2K\u001b[21A\u001b[2K\u001b[23A\u001b[2K\u001b[32A\u001b[2K\u001b[21A\u001b[2K\u001b[20A\u001b[2K\u001b[21A\u001b[2K\u001b[32A\u001b[2K\u001b[23A\u001b[2K\u001b[32A\u001b[2K\u001b[23A\u001b[2K\u001b[32A\u001b[2K\u001b[24A\u001b[2K\u001b[32A\u001b[2K\u001b[20A\u001b[2K\u001b[23A\u001b[2K\u001b[24A\u001b[2K\u001b[23A\u001b[2K\u001b[21A\u001b[2K\u001b[23A\u001b[2K\u001b[21A\u001b[2K\u001b[20A\u001b[2K\u001b[23A\u001b[2K\u001b[20A\u001b[2K\u001b[21A\u001b[2K\u001b[23A\u001b[2K\u001b[21A\u001b[2K\u001b[20A\u001b[2K\u001b[23A\u001b[2K\u001b[21A\u001b[2K\u001b[32A\u001b[2K\u001b[21A\u001b[2K\u001b[24A\u001b[2K\u001b[21A\u001b[2K\u001b[23A\u001b[2K\u001b[21A\u001b[2K\u001b[32A\u001b[2K\u001b[23A\u001b[2K\u001b[24A\u001b[2K\u001b[20A\u001b[2K\u001b[32A\u001b[2K\u001b[21A\u001b[2K\u001b[32A\u001b[2K\u001b[24A\u001b[2K\u001b[23A\u001b[2K\u001b[24A\u001b[2K\u001b[20A\u001b[2K\u001b[24A\u001b[2K\u001b[32A\u001b[2K\u001b[23A\u001b[2K\u001b[32A\u001b[2K\u001b[20A\u001b[2K\u001b[32A\u001b[2K\u001b[20A\u001b[2K\u001b[32A\u001b[2K\u001b[24A\u001b[2K\u001b[32A\u001b[2K\u001b[24A\u001b[2K\u001b[20A\u001b[2K\u001b[20A\u001b[2K\u001b[23A\u001b[2K\u001b[32A\u001b[2K\u001b[20A\u001b[2K\u001b[21A\u001b[2K\u001b[20A\u001b[2K\u001b[23A\u001b[2K\u001b[23A\u001b[2K\u001b[24A\u001b[2K\u001b[23A\u001b[2K\u001b[21A\u001b[2K\u001b[23A\u001b[2K\u001b[24A\u001b[2K\u001b[32A\u001b[2K\u001b[23A\u001b[2K\u001b[20A\u001b[2K\u001b[21A\u001b[2K\u001b[20A\u001b[2K\u001b[24A\u001b[2K\u001b[20A\u001b[2K\u001b[24A\u001b[2K\u001b[23A\u001b[2K\u001b[32A\u001b[2K\u001b[20A\u001b[2K\u001b[32A\u001b[2K\u001b[21A\u001b[2K\u001b[20A\u001b[2K\u001b[23A\u001b[2K\u001b[21A\u001b[2K\u001b[20A\u001b[2K\u001b[24A\u001b[2K\u001b[20A\u001b[2K\u001b[32A\u001b[2K\u001b[21A\u001b[2K\u001b[23A\u001b[2K\u001b[21A\u001b[2K\u001b[24A\u001b[2K\u001b[32A\u001b[2K\u001b[21A\u001b[2K\u001b[32A\u001b[2K\u001b[21A\u001b[2K\u001b[32A\u001b[2K\u001b[21A\u001b[2K\u001b[32A\u001b[2K\u001b[21A\u001b[2K\u001b[20A\u001b[2K\u001b[23A\u001b[2K\u001b[32A\u001b[2K\u001b[23A\u001b[2K\u001b[32A\u001b[2K\u001b[20A\u001b[2K\u001b[32A\u001b[2K\u001b[21A\u001b[2K\u001b[23A\u001b[2K\u001b[32A\u001b[2K\u001b[21A\u001b[2K\u001b[32A\u001b[2K\u001b[21A\u001b[2K\u001b[32A\u001b[2K\u001b[20A\u001b[2K\u001b[32A\u001b[2K\u001b[23A\u001b[2K\u001b[32A\u001b[2K\u001b[21A\u001b[2K\u001b[20A\u001b[2K\u001b[21A\u001b[2K\u001b[32A\u001b[2K\u001b[24A\u001b[2K\u001b[23A\u001b[2K\u001b[20A\u001b[2K\u001b[21A\u001b[2K\u001b[32A\u001b[2K\u001b[20A\u001b[2K\u001b[23A\u001b[2K\u001b[24A\u001b[2K\u001b[23A\u001b[2K\u001b[24A\u001b[2K\u001b[23A\u001b[2K\u001b[32A\u001b[2K\u001b[20A\u001b[2K\u001b[23A\u001b[2K\u001b[21A\u001b[2K\u001b[20A\u001b[2K\u001b[23A\u001b[2K\u001b[24A\u001b[2K\u001b[32A\u001b[2K\u001b[23A\u001b[2K\u001b[21A\u001b[2K\u001b[32A\u001b[2K\u001b[24A\u001b[2K\u001b[32A\u001b[2K\u001b[20A\u001b[2K\u001b[24A\u001b[2K\u001b[32A\u001b[2K\u001b[23A\u001b[2K\u001b[20A\u001b[2K\u001b[23A\u001b[2K\u001b[32A\u001b[2K\u001b[23A\u001b[2K\u001b[24A\u001b[2K\u001b[23A\u001b[2K\u001b[20A\u001b[2K\u001b[32A\u001b[2K\u001b[23A\u001b[2K\u001b[24A\u001b[2K\u001b[23A\u001b[2K\u001b[24A\u001b[2K\u001b[32A\u001b[2K\u001b[24A\u001b[2K\u001b[21A\u001b[2K\u001b[32A\u001b[2K\u001b[21A\u001b[2K\u001b[20A\u001b[2K\u001b[21A\u001b[2K\u001b[32A\u001b[2K\u001b[21A\u001b[2K\u001b[24A\u001b[2K\u001b[21A\u001b[2K\u001b[20A\u001b[2K\u001b[24A\u001b[2K\u001b[20A\u001b[2K\u001b[21A\u001b[2K\u001b[24A\u001b[2K\u001b[32A\u001b[2K\u001b[21A\u001b[2K\u001b[32A\u001b[2K\u001b[24A\u001b[2K\u001b[20A\u001b[2K\u001b[32A\u001b[2K\u001b[20A\u001b[2K\u001b[32A\u001b[2K\u001b[24A\u001b[2K\u001b[24A\u001b[2K\u001b[20A\u001b[2K\u001b[23A\u001b[2K\u001b[20A\u001b[2K\u001b[21A\u001b[2K\u001b[20A\u001b[2K\u001b[21A\u001b[2K\u001b[24A\u001b[2K\u001b[21A\u001b[2K\u001b[24A\u001b[2K\u001b[32A\u001b[2K\u001b[23A\u001b[2K\u001b[20A\u001b[2K\u001b[32A\u001b[2K\u001b[24A\u001b[2K\u001b[23A\u001b[2K\u001b[20A\u001b[2K\u001b[32A\u001b[2K\u001b[20A\u001b[2K\u001b[32A\u001b[2K\u001b[21A\u001b[2K\u001b[24A\u001b[2K\u001b[32A\u001b[2K\u001b[20A\u001b[2K\u001b[32A\u001b[2K\u001b[20A\u001b[2K\u001b[24A\u001b[2K\u001b[32A\u001b[2KPushing    176MB/2.217GB\u001b[32A\u001b[2K\u001b[20A\u001b[2K\u001b[21A\u001b[2K\u001b[32A\u001b[2K\u001b[20A\u001b[2K\u001b[24A\u001b[2K\u001b[20A\u001b[2K\u001b[24A\u001b[2K\u001b[32A\u001b[2K\u001b[21A\u001b[2K\u001b[24A\u001b[2K\u001b[20A\u001b[2K\u001b[24A\u001b[2K\u001b[21A\u001b[2K\u001b[24A\u001b[2K\u001b[20A\u001b[2K\u001b[24A\u001b[2K\u001b[32A\u001b[2K\u001b[20A\u001b[2K\u001b[32A\u001b[2K\u001b[21A\u001b[2K\u001b[20A\u001b[2K\u001b[21A\u001b[2K\u001b[20A\u001b[2K\u001b[32A\u001b[2K\u001b[20A\u001b[2K\u001b[21A\u001b[2K\u001b[20A\u001b[2K\u001b[24A\u001b[2K\u001b[32A\u001b[2K\u001b[24A\u001b[2K\u001b[32A\u001b[2K\u001b[24A\u001b[2K\u001b[32A\u001b[2K\u001b[21A\u001b[2K\u001b[24A\u001b[2K\u001b[21A\u001b[2K\u001b[32A\u001b[2K\u001b[24A\u001b[2K\u001b[20A\u001b[2K\u001b[23A\u001b[2K\u001b[20A\u001b[2K\u001b[21A\u001b[2K\u001b[24A\u001b[2K\u001b[20A\u001b[2K\u001b[24A\u001b[2K\u001b[20A\u001b[2K\u001b[21A\u001b[2K\u001b[20A\u001b[2K\u001b[21A\u001b[2K\u001b[20A\u001b[2K\u001b[21A\u001b[2K\u001b[32A\u001b[2K\u001b[23A\u001b[2K\u001b[21A\u001b[2K\u001b[20A\u001b[2K\u001b[24A\u001b[2K\u001b[20A\u001b[2K\u001b[24A\u001b[2K\u001b[20A\u001b[2K\u001b[21A\u001b[2K\u001b[32A\u001b[2K\u001b[20A\u001b[2K\u001b[21A\u001b[2K\u001b[32A\u001b[2K\u001b[24A\u001b[2K\u001b[32A\u001b[2K\u001b[24A\u001b[2K\u001b[23A\u001b[2K\u001b[32A\u001b[2K\u001b[21A\u001b[2K\u001b[32A\u001b[2K\u001b[21A\u001b[2K\u001b[24A\u001b[2K\u001b[32A\u001b[2K\u001b[23A\u001b[2K\u001b[20A\u001b[2K\u001b[21A\u001b[2K\u001b[20A\u001b[2K\u001b[32A\u001b[2K\u001b[20A\u001b[2K\u001b[24A\u001b[2K\u001b[23A\u001b[2K\u001b[24A\u001b[2K\u001b[32A\u001b[2K\u001b[24A\u001b[2K\u001b[21A\u001b[2K\u001b[20A\u001b[2K\u001b[21A\u001b[2K\u001b[23A\u001b[2K\u001b[32A\u001b[2K\u001b[20A\u001b[2K\u001b[32A\u001b[2K\u001b[21A\u001b[2K\u001b[23A\u001b[2K\u001b[24A\u001b[2K\u001b[24A\u001b[2K\u001b[20A\u001b[2K\u001b[21A\u001b[2K\u001b[32A\u001b[2K\u001b[23A\u001b[2K\u001b[21A\u001b[2K\u001b[20A\u001b[2K\u001b[21A\u001b[2K\u001b[32A\u001b[2K\u001b[21A\u001b[2K\u001b[20A\u001b[2K\u001b[21A\u001b[2K\u001b[32A\u001b[2K\u001b[20A\u001b[2K\u001b[32A\u001b[2K\u001b[21A\u001b[2K\u001b[20A\u001b[2K\u001b[32A\u001b[2K\u001b[20A\u001b[2K\u001b[32A\u001b[2K\u001b[21A\u001b[2K\u001b[20A\u001b[2K\u001b[32A\u001b[2K\u001b[20A\u001b[2K\u001b[24A\u001b[2K\u001b[20A\u001b[2K\u001b[24A\u001b[2K\u001b[32A\u001b[2K\u001b[24A\u001b[2K\u001b[32A\u001b[2K\u001b[24A\u001b[2K\u001b[21A\u001b[2K\u001b[20A\u001b[2K\u001b[21A\u001b[2K\u001b[32A\u001b[2K\u001b[24A\u001b[2K\u001b[21A\u001b[2K\u001b[32A\u001b[2K\u001b[21A\u001b[2K\u001b[24A\u001b[2K\u001b[32A\u001b[2K\u001b[32A\u001b[2K\u001b[21A\u001b[2K\u001b[23A\u001b[2K\u001b[32A\u001b[2K\u001b[21A\u001b[2K\u001b[24A\u001b[2K\u001b[21A\u001b[2K\u001b[24A\u001b[2K\u001b[23A\u001b[2K\u001b[21A\u001b[2K\u001b[24A\u001b[2K\u001b[32A\u001b[2K\u001b[24A\u001b[2K\u001b[32A\u001b[2K\u001b[24A\u001b[2K\u001b[23A\u001b[2K\u001b[24A\u001b[2K\u001b[32A\u001b[2K\u001b[24A\u001b[2K\u001b[32A\u001b[2K\u001b[21A\u001b[2K\u001b[24A\u001b[2K\u001b[21A\u001b[2K\u001b[32A\u001b[2K\u001b[21A\u001b[2K\u001b[23A\u001b[2K\u001b[21A\u001b[2K\u001b[23A\u001b[2K\u001b[24A\u001b[2K\u001b[23A\u001b[2K\u001b[24A\u001b[2K\u001b[23A\u001b[2K\u001b[24A\u001b[2K\u001b[23A\u001b[2K\u001b[24A\u001b[2K\u001b[21A\u001b[2K\u001b[23A\u001b[2K\u001b[21A\u001b[2K\u001b[23A\u001b[2K\u001b[21A\u001b[2K\u001b[21A\u001b[2K\u001b[20A\u001b[2K\u001b[32A\u001b[2K\u001b[32A\u001b[2K\u001b[20A\u001b[2K\u001b[20A\u001b[2K\u001b[24A\u001b[2K\u001b[21A\u001b[2K\u001b[24A\u001b[2K\u001b[23A\u001b[2K\u001b[21A\u001b[2K\u001b[20A\u001b[2K\u001b[24A\u001b[2K\u001b[20A\u001b[2K\u001b[24A\u001b[2K\u001b[21A\u001b[2K\u001b[24A\u001b[2K\u001b[21A\u001b[2K\u001b[24A\u001b[2K\u001b[21A\u001b[2K\u001b[32A\u001b[2K\u001b[19A\u001b[2K\u001b[21A\u001b[2KPushing  532.5MB/871.7MB\u001b[20A\u001b[2K\u001b[32A\u001b[2K\u001b[19A\u001b[2K\u001b[20A\u001b[2K\u001b[32A\u001b[2K\u001b[20A\u001b[2K\u001b[32A\u001b[2K\u001b[24A\u001b[2K\u001b[19A\u001b[2K\u001b[32A\u001b[2K\u001b[20A\u001b[2K\u001b[19A\u001b[2K\u001b[21A\u001b[2K\u001b[32A\u001b[2K\u001b[20A\u001b[2K\u001b[24A\u001b[2K\u001b[21A\u001b[2K\u001b[20A\u001b[2K\u001b[32A\u001b[2K\u001b[20A\u001b[2K\u001b[24A\u001b[2K\u001b[21A\u001b[2K\u001b[24A\u001b[2K\u001b[32A\u001b[2K\u001b[19A\u001b[2K\u001b[24A\u001b[2K\u001b[20A\u001b[2K\u001b[24A\u001b[2K\u001b[32A\u001b[2K\u001b[21A\u001b[2K\u001b[19A\u001b[2K\u001b[21A\u001b[2K\u001b[24A\u001b[2K\u001b[32A\u001b[2K\u001b[20A\u001b[2K\u001b[32A\u001b[2K\u001b[19A\u001b[2K\u001b[32A\u001b[2K\u001b[20A\u001b[2K\u001b[32A\u001b[2K\u001b[21A\u001b[2K\u001b[19A\u001b[2K\u001b[20A\u001b[2K\u001b[19A\u001b[2K\u001b[32A\u001b[2K\u001b[24A\u001b[2K\u001b[21A\u001b[2K\u001b[24A\u001b[2K\u001b[21A\u001b[2K\u001b[24A\u001b[2K\u001b[21A\u001b[2K\u001b[32A\u001b[2K\u001b[24A\u001b[2K\u001b[20A\u001b[2K\u001b[24A\u001b[2K\u001b[21A\u001b[2K\u001b[32A\u001b[2K\u001b[21A\u001b[2K\u001b[20A\u001b[2K\u001b[24A\u001b[2K\u001b[20A\u001b[2K\u001b[32A\u001b[2K\u001b[24A\u001b[2K\u001b[32A\u001b[2K\u001b[24A\u001b[2K\u001b[21A\u001b[2K\u001b[24A\u001b[2K\u001b[21A\u001b[2K\u001b[32A\u001b[2K\u001b[21A\u001b[2K\u001b[24A\u001b[2K\u001b[18A\u001b[2K\u001b[24A\u001b[2K\u001b[21A\u001b[2K\u001b[20A\u001b[2K\u001b[32A\u001b[2K\u001b[24A\u001b[2K\u001b[32A\u001b[2K\u001b[24A\u001b[2K\u001b[20A\u001b[2K\u001b[21A\u001b[2K\u001b[24A\u001b[2K\u001b[32A\u001b[2K\u001b[21A\u001b[2K\u001b[32A\u001b[2K\u001b[21A\u001b[2K\u001b[24A\u001b[2K\u001b[32A\u001b[2K\u001b[21A\u001b[2K\u001b[32A\u001b[2K\u001b[24A\u001b[2K\u001b[20A\u001b[2K\u001b[32A\u001b[2K\u001b[21A\u001b[2K\u001b[20A\u001b[2K\u001b[32A\u001b[2K\u001b[20A\u001b[2K\u001b[24A\u001b[2K\u001b[21A\u001b[2K\u001b[24A\u001b[2K\u001b[21A\u001b[2K\u001b[21A\u001b[2K\u001b[32A\u001b[2K\u001b[20A\u001b[2K\u001b[24A\u001b[2K\u001b[20A\u001b[2K\u001b[24A\u001b[2K\u001b[32A\u001b[2K\u001b[24A\u001b[2K\u001b[21A\u001b[2K\u001b[20A\u001b[2K\u001b[24A\u001b[2K\u001b[20A\u001b[2K\u001b[24A\u001b[2K\u001b[32A\u001b[2K\u001b[24A\u001b[2K\u001b[17A\u001b[2K\u001b[21A\u001b[2K\u001b[24A\u001b[2K\u001b[21A\u001b[2K\u001b[20A\u001b[2K\u001b[21A\u001b[2K\u001b[20A\u001b[2K\u001b[21A\u001b[2K\u001b[32A\u001b[2K\u001b[16A\u001b[2K\u001b[32A\u001b[2K\u001b[20A\u001b[2K\u001b[21A\u001b[2K\u001b[32A\u001b[2K\u001b[20A\u001b[2K\u001b[24A\u001b[2K\u001b[21A\u001b[2K\u001b[24A\u001b[2K\u001b[21A\u001b[2K\u001b[20A\u001b[2K\u001b[21A\u001b[2K\u001b[20A\u001b[2K\u001b[32A\u001b[2K\u001b[21A\u001b[2K\u001b[32A\u001b[2K\u001b[21A\u001b[2K\u001b[20A\u001b[2K\u001b[32A\u001b[2K\u001b[20A\u001b[2K\u001b[32A\u001b[2K\u001b[20A\u001b[2K\u001b[32A\u001b[2K\u001b[20A\u001b[2K\u001b[15A\u001b[2K\u001b[32A\u001b[2K\u001b[15A\u001b[2K\u001b[32A\u001b[2K\u001b[15A\u001b[2K\u001b[21A\u001b[2K\u001b[15A\u001b[2K\u001b[24A\u001b[2K\u001b[20A\u001b[2K\u001b[21A\u001b[2K\u001b[15A\u001b[2K\u001b[21A\u001b[2K\u001b[15A\u001b[2K\u001b[21A\u001b[2K\u001b[21A\u001b[2K\u001b[15A\u001b[2K\u001b[21A\u001b[2K\u001b[15A\u001b[2K\u001b[21A\u001b[2K\u001b[15A\u001b[2K\u001b[32A\u001b[2K\u001b[21A\u001b[2K\u001b[32A\u001b[2K\u001b[21A\u001b[2K\u001b[24A\u001b[2K\u001b[32A\u001b[2K\u001b[20A\u001b[2K\u001b[32A\u001b[2K\u001b[21A\u001b[2K\u001b[32A\u001b[2K\u001b[20A\u001b[2K\u001b[15A\u001b[2K\u001b[20A\u001b[2K\u001b[21A\u001b[2K\u001b[32A\u001b[2K\u001b[15A\u001b[2K\u001b[24A\u001b[2K\u001b[20A\u001b[2K\u001b[21A\u001b[2K\u001b[32A\u001b[2K\u001b[21A\u001b[2K\u001b[24A\u001b[2K\u001b[20A\u001b[2K\u001b[24A\u001b[2K\u001b[32A\u001b[2K\u001b[20A\u001b[2K\u001b[24A\u001b[2K\u001b[20A\u001b[2K\u001b[24A\u001b[2K\u001b[32A\u001b[2K\u001b[24A\u001b[2K\u001b[32A\u001b[2K\u001b[20A\u001b[2K\u001b[20A\u001b[2K\u001b[15A\u001b[2K\u001b[20A\u001b[2K\u001b[32A\u001b[2K\u001b[24A\u001b[2K\u001b[15A\u001b[2K\u001b[24A\u001b[2K\u001b[20A\u001b[2K\u001b[21A\u001b[2K\u001b[24A\u001b[2K\u001b[21A\u001b[2K\u001b[24A\u001b[2K\u001b[20A\u001b[2K\u001b[21A\u001b[2K\u001b[20A\u001b[2K\u001b[21A\u001b[2K\u001b[32A\u001b[2K\u001b[20A\u001b[2K\u001b[32A\u001b[2K\u001b[24A\u001b[2K\u001b[21A\u001b[2K\u001b[32A\u001b[2K\u001b[20A\u001b[2K\u001b[32A\u001b[2K\u001b[21A\u001b[2K\u001b[15A\u001b[2K\u001b[24A\u001b[2K\u001b[21A\u001b[2K\u001b[32A\u001b[2K\u001b[20A\u001b[2K\u001b[15A\u001b[2K\u001b[32A\u001b[2K\u001b[21A\u001b[2K\u001b[32A\u001b[2K\u001b[15A\u001b[2K\u001b[24A\u001b[2K\u001b[32A\u001b[2K\u001b[21A\u001b[2K\u001b[32A\u001b[2K\u001b[24A\u001b[2K\u001b[15A\u001b[2K\u001b[21A\u001b[2K\u001b[32A\u001b[2K\u001b[24A\u001b[2K\u001b[32A\u001b[2K\u001b[21A\u001b[2K\u001b[21A\u001b[2K\u001b[32A\u001b[2K\u001b[21A\u001b[2K\u001b[24A\u001b[2K\u001b[24A\u001b[2K\u001b[20A\u001b[2K\u001b[21A\u001b[2K\u001b[24A\u001b[2K\u001b[20A\u001b[2K\u001b[21A\u001b[2K\u001b[20A\u001b[2K\u001b[32A\u001b[2K\u001b[15A\u001b[2K\u001b[24A\u001b[2K\u001b[20A\u001b[2K\u001b[15A\u001b[2K\u001b[21A\u001b[2K\u001b[20A\u001b[2K\u001b[21A\u001b[2K\u001b[32A\u001b[2K\u001b[15A\u001b[2K\u001b[20A\u001b[2K\u001b[21A\u001b[2K\u001b[20A\u001b[2K\u001b[20A\u001b[2K\u001b[32A\u001b[2K\u001b[20A\u001b[2K\u001b[21A\u001b[2K\u001b[32A\u001b[2K\u001b[21A\u001b[2K\u001b[24A\u001b[2K\u001b[21A\u001b[2K\u001b[15A\u001b[2K\u001b[20A\u001b[2K\u001b[32A\u001b[2K\u001b[20A\u001b[2K\u001b[32A\u001b[2K\u001b[20A\u001b[2K\u001b[32A\u001b[2K\u001b[20A\u001b[2K\u001b[21A\u001b[2K\u001b[32A\u001b[2K\u001b[15A\u001b[2K\u001b[32A\u001b[2K\u001b[21A\u001b[2K\u001b[32A\u001b[2K\u001b[14A\u001b[2K\u001b[21A\u001b[2K\u001b[20A\u001b[2K\u001b[14A\u001b[2K\u001b[20A\u001b[2K\u001b[14A\u001b[2K\u001b[20A\u001b[2K\u001b[15A\u001b[2K\u001b[20A\u001b[2K\u001b[32A\u001b[2K\u001b[21A\u001b[2K\u001b[20A\u001b[2K\u001b[32A\u001b[2K\u001b[15A\u001b[2K\u001b[20A\u001b[2K\u001b[21A\u001b[2K\u001b[20A\u001b[2K\u001b[21A\u001b[2K\u001b[14A\u001b[2K\u001b[21A\u001b[2K\u001b[20A\u001b[2K\u001b[21A\u001b[2K\u001b[14A\u001b[2K\u001b[21A\u001b[2K\u001b[32A\u001b[2K\u001b[21A\u001b[2K\u001b[20A\u001b[2K\u001b[32A\u001b[2K\u001b[20A\u001b[2K\u001b[32A\u001b[2K\u001b[21A\u001b[2K\u001b[32A\u001b[2K\u001b[20A\u001b[2K\u001b[32A\u001b[2K\u001b[15A\u001b[2K\u001b[14A\u001b[2K\u001b[20A\u001b[2K\u001b[21A\u001b[2K\u001b[20A\u001b[2K\u001b[21A\u001b[2K\u001b[14A\u001b[2K\u001b[32A\u001b[2K\u001b[20A\u001b[2K\u001b[14A\u001b[2K\u001b[32A\u001b[2K\u001b[21A\u001b[2K\u001b[32A\u001b[2K\u001b[20A\u001b[2K\u001b[21A\u001b[2K\u001b[14A\u001b[2K\u001b[20A\u001b[2K\u001b[21A\u001b[2K\u001b[32A\u001b[2K\u001b[14A\u001b[2K\u001b[21A\u001b[2K\u001b[32A\u001b[2K\u001b[20A\u001b[2K\u001b[14A\u001b[2K\u001b[20A\u001b[2K\u001b[21A\u001b[2K\u001b[20A\u001b[2K\u001b[32A\u001b[2K\u001b[20A\u001b[2K\u001b[14A\u001b[2K\u001b[32A\u001b[2K\u001b[14A\u001b[2K\u001b[32A\u001b[2K\u001b[21A\u001b[2K\u001b[20A\u001b[2K\u001b[32A\u001b[2K\u001b[13A\u001b[2K\u001b[20A\u001b[2K\u001b[21A\u001b[2K\u001b[20A\u001b[2K\u001b[21A\u001b[2K\u001b[20A\u001b[2K\u001b[14A\u001b[2K\u001b[21A\u001b[2K\u001b[32A\u001b[2K\u001b[21A\u001b[2K\u001b[13A\u001b[2K\u001b[32A\u001b[2K\u001b[14A\u001b[2K\u001b[32A\u001b[2K\u001b[14A\u001b[2K\u001b[20A\u001b[2K\u001b[14A\u001b[2K\u001b[13A\u001b[2K\u001b[21A\u001b[2K\u001b[13A\u001b[2K\u001b[20A\u001b[2K\u001b[13A\u001b[2K\u001b[20A\u001b[2K\u001b[14A\u001b[2K\u001b[14A\u001b[2K\u001b[13A\u001b[2K\u001b[14A\u001b[2K\u001b[21A\u001b[2K\u001b[20A\u001b[2K\u001b[14A\u001b[2K\u001b[32A\u001b[2K\u001b[14A\u001b[2K\u001b[21A\u001b[2K\u001b[14A\u001b[2K\u001b[21A\u001b[2K\u001b[32A\u001b[2K\u001b[20A\u001b[2K\u001b[32A\u001b[2K\u001b[13A\u001b[2K\u001b[14A\u001b[2K\u001b[32A\u001b[2K\u001b[21A\u001b[2K\u001b[14A\u001b[2K\u001b[13A\u001b[2K\u001b[14A\u001b[2K\u001b[32A\u001b[2K\u001b[13A\u001b[2K\u001b[14A\u001b[2K\u001b[21A\u001b[2K\u001b[13A\u001b[2K\u001b[14A\u001b[2K\u001b[13A\u001b[2K\u001b[20A\u001b[2K\u001b[32A\u001b[2K\u001b[20A\u001b[2K\u001b[32A\u001b[2K\u001b[20A\u001b[2K\u001b[21A\u001b[2K\u001b[20A\u001b[2K\u001b[21A\u001b[2K\u001b[32A\u001b[2K\u001b[21A\u001b[2K\u001b[13A\u001b[2K\u001b[20A\u001b[2K\u001b[14A\u001b[2K\u001b[13A\u001b[2K\u001b[21A\u001b[2K\u001b[32A\u001b[2K\u001b[21A\u001b[2K\u001b[20A\u001b[2K\u001b[13A\u001b[2K\u001b[20A\u001b[2K\u001b[13A\u001b[2K\u001b[20A\u001b[2K\u001b[13A\u001b[2K\u001b[21A\u001b[2K\u001b[13A\u001b[2K\u001b[21A\u001b[2K\u001b[13A\u001b[2K\u001b[21A\u001b[2K\u001b[32A\u001b[2K\u001b[13A\u001b[2K\u001b[32A\u001b[2K\u001b[20A\u001b[2K\u001b[13A\u001b[2K\u001b[14A\u001b[2K\u001b[21A\u001b[2K\u001b[32A\u001b[2K\u001b[20A\u001b[2K\u001b[13A\u001b[2K\u001b[32A\u001b[2K\u001b[14A\u001b[2K\u001b[13A\u001b[2K\u001b[21A\u001b[2K\u001b[32A\u001b[2K\u001b[14A\u001b[2K\u001b[32A\u001b[2K\u001b[14A\u001b[2K\u001b[32A\u001b[2K\u001b[13A\u001b[2K\u001b[14A\u001b[2K\u001b[21A\u001b[2K\u001b[13A\u001b[2K\u001b[21A\u001b[2K\u001b[20A\u001b[2K\u001b[13A\u001b[2K\u001b[20A\u001b[2K\u001b[32A\u001b[2K\u001b[21A\u001b[2K\u001b[20A\u001b[2K\u001b[13A\u001b[2K\u001b[13A\u001b[2K\u001b[32A\u001b[2K\u001b[21A\u001b[2K\u001b[20A\u001b[2K\u001b[32A\u001b[2K\u001b[14A\u001b[2K\u001b[32A\u001b[2K\u001b[14A\u001b[2K\u001b[32A\u001b[2K\u001b[20A\u001b[2K\u001b[21A\u001b[2K\u001b[14A\u001b[2K\u001b[20A\u001b[2K\u001b[21A\u001b[2K\u001b[21A\u001b[2K\u001b[20A\u001b[2K\u001b[21A\u001b[2K\u001b[14A\u001b[2K\u001b[21A\u001b[2K\u001b[14A\u001b[2K\u001b[21A\u001b[2K\u001b[14A\u001b[2K\u001b[21A\u001b[2K\u001b[20A\u001b[2K\u001b[14A\u001b[2K\u001b[20A\u001b[2K\u001b[14A\u001b[2K\u001b[20A\u001b[2K\u001b[12A\u001b[2K\u001b[14A\u001b[2K\u001b[20A\u001b[2K\u001b[21A\u001b[2K\u001b[11A\u001b[2K\u001b[11A\u001b[2K\u001b[20A\u001b[2K\u001b[11A\u001b[2K\u001b[20A\u001b[2K\u001b[11A\u001b[2K\u001b[14A\u001b[2K\u001b[11A\u001b[2K\u001b[20A\u001b[2K\u001b[21A\u001b[2K\u001b[14A\u001b[2K\u001b[21A\u001b[2K\u001b[14A\u001b[2K\u001b[20A\u001b[2K\u001b[21A\u001b[2K\u001b[14A\u001b[2K\u001b[11A\u001b[2K\u001b[21A\u001b[2K\u001b[20A\u001b[2K\u001b[14A\u001b[2K\u001b[21A\u001b[2K\u001b[14A\u001b[2K\u001b[21A\u001b[2K\u001b[10A\u001b[2K\u001b[11A\u001b[2K\u001b[10A\u001b[2K\u001b[11A\u001b[2K\u001b[21A\u001b[2K\u001b[10A\u001b[2K\u001b[21A\u001b[2K\u001b[10A\u001b[2K\u001b[21A\u001b[2K\u001b[11A\u001b[2K\u001b[21A\u001b[2K\u001b[10A\u001b[2K\u001b[21A\u001b[2K\u001b[14A\u001b[2K\u001b[21A\u001b[2K\u001b[20A\u001b[2K\u001b[14A\u001b[2K\u001b[21A\u001b[2K\u001b[20A\u001b[2K\u001b[11A\u001b[2K\u001b[20A\u001b[2K\u001b[11A\u001b[2K\u001b[20A\u001b[2K\u001b[21A\u001b[2K\u001b[20A\u001b[2K\u001b[20A\u001b[2K\u001b[11A\u001b[2K\u001b[20A\u001b[2K\u001b[11A\u001b[2K\u001b[14A\u001b[2K\u001b[21A\u001b[2K\u001b[14A\u001b[2K\u001b[20A\u001b[2K\u001b[14A\u001b[2K\u001b[10A\u001b[2K\u001b[21A\u001b[2K\u001b[14A\u001b[2K\u001b[11A\u001b[2K\u001b[14A\u001b[2K\u001b[10A\u001b[2K\u001b[14A\u001b[2K\u001b[21A\u001b[2K\u001b[20A\u001b[2K\u001b[21A\u001b[2K\u001b[20A\u001b[2K\u001b[14A\u001b[2K\u001b[20A\u001b[2K\u001b[14A\u001b[2K\u001b[21A\u001b[2K\u001b[14A\u001b[2K\u001b[21A\u001b[2K\u001b[10A\u001b[2K\u001b[14A\u001b[2K\u001b[10A\u001b[2K\u001b[14A\u001b[2K\u001b[20A\u001b[2K\u001b[14A\u001b[2K\u001b[20A\u001b[2K\u001b[10A\u001b[2K\u001b[14A\u001b[2K\u001b[9A\u001b[2K\u001b[14A\u001b[2K\u001b[10A\u001b[2K\u001b[14A\u001b[2K\u001b[20A\u001b[2K\u001b[21A\u001b[2K\u001b[20A\u001b[2K\u001b[10A\u001b[2K\u001b[21A\u001b[2K\u001b[10A\u001b[2K\u001b[14A\u001b[2K\u001b[10A\u001b[2K\u001b[20A\u001b[2K\u001b[10A\u001b[2K\u001b[9A\u001b[2K\u001b[10A\u001b[2K\u001b[14A\u001b[2K\u001b[20A\u001b[2K\u001b[14A\u001b[2K\u001b[20A\u001b[2K\u001b[14A\u001b[2K\u001b[21A\u001b[2K\u001b[20A\u001b[2K\u001b[14A\u001b[2K\u001b[21A\u001b[2K\u001b[20A\u001b[2K\u001b[21A\u001b[2K\u001b[20A\u001b[2K\u001b[21A\u001b[2K\u001b[14A\u001b[2K\u001b[20A\u001b[2K\u001b[21A\u001b[2K\u001b[9A\u001b[2K\u001b[21A\u001b[2K\u001b[9A\u001b[2K\u001b[21A\u001b[2K\u001b[20A\u001b[2K\u001b[9A\u001b[2K\u001b[20A\u001b[2K\u001b[21A\u001b[2K\u001b[14A\u001b[2K\u001b[9A\u001b[2K\u001b[20A\u001b[2K\u001b[9A\u001b[2K\u001b[20A\u001b[2K\u001b[14A\u001b[2K\u001b[21A\u001b[2K\u001b[14A\u001b[2K\u001b[10A\u001b[2K\u001b[14A\u001b[2K\u001b[21A\u001b[2K\u001b[10A\u001b[2K\u001b[21A\u001b[2K\u001b[9A\u001b[2K\u001b[14A\u001b[2K\u001b[9A\u001b[2K\u001b[14A\u001b[2K\u001b[9A\u001b[2K\u001b[20A\u001b[2K\u001b[10A\u001b[2K\u001b[20A\u001b[2K\u001b[10A\u001b[2K\u001b[20A\u001b[2K\u001b[9A\u001b[2K\u001b[14A\u001b[2K\u001b[10A\u001b[2K\u001b[9A\u001b[2K\u001b[14A\u001b[2K\u001b[10A\u001b[2K\u001b[21A\u001b[2K\u001b[10A\u001b[2K\u001b[20A\u001b[2K\u001b[14A\u001b[2K\u001b[10A\u001b[2K\u001b[20A\u001b[2K\u001b[21A\u001b[2K\u001b[20A\u001b[2K\u001b[21A\u001b[2K\u001b[20A\u001b[2K\u001b[21A\u001b[2K\u001b[20A\u001b[2K\u001b[14A\u001b[2K\u001b[9A\u001b[2K\u001b[21A\u001b[2K\u001b[20A\u001b[2K\u001b[21A\u001b[2K\u001b[9A\u001b[2K\u001b[20A\u001b[2K\u001b[14A\u001b[2K\u001b[20A\u001b[2K\u001b[10A\u001b[2K\u001b[20A\u001b[2K\u001b[10A\u001b[2K\u001b[14A\u001b[2K\u001b[21A\u001b[2K\u001b[9A\u001b[2K\u001b[21A\u001b[2K\u001b[10A\u001b[2K\u001b[9A\u001b[2K\u001b[21A\u001b[2K\u001b[9A\u001b[2K\u001b[21A\u001b[2K\u001b[9A\u001b[2K\u001b[14A\u001b[2K\u001b[20A\u001b[2K\u001b[14A\u001b[2K\u001b[9A\u001b[2K\u001b[14A\u001b[2K\u001b[10A\u001b[2K\u001b[20A\u001b[2K\u001b[21A\u001b[2K\u001b[9A\u001b[2K\u001b[14A\u001b[2K\u001b[9A\u001b[2K\u001b[14A\u001b[2K\u001b[10A\u001b[2K\u001b[10A\u001b[2K\u001b[9A\u001b[2K\u001b[21A\u001b[2K\u001b[14A\u001b[2K\u001b[10A\u001b[2K\u001b[14A\u001b[2K\u001b[10A\u001b[2K\u001b[21A\u001b[2K\u001b[9A\u001b[2K\u001b[21A\u001b[2K\u001b[9A\u001b[2K\u001b[10A\u001b[2K\u001b[9A\u001b[2K\u001b[14A\u001b[2K\u001b[20A\u001b[2K\u001b[14A\u001b[2K\u001b[10A\u001b[2K\u001b[9A\u001b[2K\u001b[14A\u001b[2K\u001b[20A\u001b[2K\u001b[14A\u001b[2K\u001b[20A\u001b[2K\u001b[14A\u001b[2K\u001b[20A\u001b[2K\u001b[10A\u001b[2K\u001b[21A\u001b[2K\u001b[20A\u001b[2K\u001b[21A\u001b[2K\u001b[10A\u001b[2K\u001b[21A\u001b[2K\u001b[9A\u001b[2K\u001b[20A\u001b[2K\u001b[10A\u001b[2K\u001b[20A\u001b[2K\u001b[14A\u001b[2K\u001b[20A\u001b[2K\u001b[14A\u001b[2K\u001b[10A\u001b[2K\u001b[14A\u001b[2K\u001b[9A\u001b[2K\u001b[20A\u001b[2K\u001b[9A\u001b[2K\u001b[14A\u001b[2K\u001b[9A\u001b[2K\u001b[14A\u001b[2K\u001b[9A\u001b[2K\u001b[20A\u001b[2K\u001b[9A\u001b[2K\u001b[20A\u001b[2K\u001b[9A\u001b[2K\u001b[21A\u001b[2K\u001b[20A\u001b[2K\u001b[14A\u001b[2K\u001b[20A\u001b[2K\u001b[10A\u001b[2K\u001b[9A\u001b[2K\u001b[10A\u001b[2K\u001b[9A\u001b[2K\u001b[10A\u001b[2K\u001b[20A\u001b[2K\u001b[9A\u001b[2K\u001b[20A\u001b[2K\u001b[9A\u001b[2K\u001b[10A\u001b[2K\u001b[20A\u001b[2K\u001b[9A\u001b[2K\u001b[20A\u001b[2K\u001b[21A\u001b[2K\u001b[20A\u001b[2K\u001b[10A\u001b[2K\u001b[14A\u001b[2K\u001b[9A\u001b[2K\u001b[20A\u001b[2K\u001b[14A\u001b[2K\u001b[10A\u001b[2K\u001b[20A\u001b[2K\u001b[14A\u001b[2K\u001b[9A\u001b[2K\u001b[14A\u001b[2K\u001b[10A\u001b[2K\u001b[14A\u001b[2K\u001b[10A\u001b[2K\u001b[21A\u001b[2K\u001b[9A\u001b[2K\u001b[10A\u001b[2K\u001b[20A\u001b[2K\u001b[14A\u001b[2K\u001b[20A\u001b[2K\u001b[21A\u001b[2K\u001b[14A\u001b[2K\u001b[21A\u001b[2K\u001b[10A\u001b[2K\u001b[20A\u001b[2K\u001b[10A\u001b[2K\u001b[14A\u001b[2K\u001b[10A\u001b[2K\u001b[9A\u001b[2K\u001b[14A\u001b[2K\u001b[9A\u001b[2K\u001b[9A\u001b[2K\u001b[14A\u001b[2K\u001b[9A\u001b[2K\u001b[14A\u001b[2K\u001b[9A\u001b[2K\u001b[14A\u001b[2K\u001b[21A\u001b[2K\u001b[14A\u001b[2K\u001b[21A\u001b[2K\u001b[10A\u001b[2K\u001b[20A\u001b[2K\u001b[14A\u001b[2K\u001b[9A\u001b[2K\u001b[21A\u001b[2K\u001b[10A\u001b[2K\u001b[9A\u001b[2K\u001b[10A\u001b[2K\u001b[21A\u001b[2K\u001b[14A\u001b[2K\u001b[9A\u001b[2K\u001b[21A\u001b[2K\u001b[14A\u001b[2K\u001b[10A\u001b[2K\u001b[21A\u001b[2K\u001b[14A\u001b[2K\u001b[21A\u001b[2K\u001b[20A\u001b[2K\u001b[9A\u001b[2K\u001b[9A\u001b[2K\u001b[21A\u001b[2K\u001b[9A\u001b[2K\u001b[20A\u001b[2K\u001b[9A\u001b[2K\u001b[21A\u001b[2K\u001b[9A\u001b[2K\u001b[21A\u001b[2K\u001b[9A\u001b[2K\u001b[21A\u001b[2K\u001b[9A\u001b[2K\u001b[21A\u001b[2K\u001b[20A\u001b[2K\u001b[21A\u001b[2K\u001b[20A\u001b[2K\u001b[9A\u001b[2K\u001b[21A\u001b[2K\u001b[14A\u001b[2K\u001b[21A\u001b[2K\u001b[14A\u001b[2K\u001b[10A\u001b[2K\u001b[21A\u001b[2K\u001b[20A\u001b[2K\u001b[10A\u001b[2K\u001b[14A\u001b[2K\u001b[9A\u001b[2K\u001b[21A\u001b[2K\u001b[20A\u001b[2K\u001b[21A\u001b[2K\u001b[20A\u001b[2K\u001b[9A\u001b[2K\u001b[14A\u001b[2K\u001b[21A\u001b[2K\u001b[14A\u001b[2K\u001b[20A\u001b[2K\u001b[9A\u001b[2K\u001b[20A\u001b[2K\u001b[21A\u001b[2K\u001b[9A\u001b[2K\u001b[10A\u001b[2K\u001b[9A\u001b[2K\u001b[20A\u001b[2K\u001b[21A\u001b[2K\u001b[9A\u001b[2K\u001b[14A\u001b[2K\u001b[10A\u001b[2K\u001b[14A\u001b[2K\u001b[21A\u001b[2K\u001b[14A\u001b[2K\u001b[21A\u001b[2K\u001b[20A\u001b[2K\u001b[10A\u001b[2K\u001b[21A\u001b[2K\u001b[14A\u001b[2K\u001b[21A\u001b[2K\u001b[9A\u001b[2K\u001b[20A\u001b[2K\u001b[10A\u001b[2K\u001b[20A\u001b[2K\u001b[14A\u001b[2K\u001b[9A\u001b[2K\u001b[14A\u001b[2K\u001b[21A\u001b[2K\u001b[14A\u001b[2K\u001b[9A\u001b[2K\u001b[21A\u001b[2K\u001b[10A\u001b[2K\u001b[21A\u001b[2K\u001b[14A\u001b[2K\u001b[10A\u001b[2K\u001b[14A\u001b[2K\u001b[10A\u001b[2K\u001b[9A\u001b[2K\u001b[20A\u001b[2K\u001b[9A\u001b[2K\u001b[21A\u001b[2K\u001b[9A\u001b[2K\u001b[10A\u001b[2K\u001b[14A\u001b[2K\u001b[10A\u001b[2K\u001b[20A\u001b[2K\u001b[21A\u001b[2K\u001b[20A\u001b[2K\u001b[10A\u001b[2K\u001b[14A\u001b[2K\u001b[9A\u001b[2K\u001b[10A\u001b[2K\u001b[21A\u001b[2K\u001b[10A\u001b[2K\u001b[20A\u001b[2K\u001b[9A\u001b[2K\u001b[14A\u001b[2K\u001b[10A\u001b[2K\u001b[9A\u001b[2K\u001b[14A\u001b[2K\u001b[10A\u001b[2K\u001b[9A\u001b[2K\u001b[10A\u001b[2K\u001b[9A\u001b[2K\u001b[14A\u001b[2K\u001b[10A\u001b[2K\u001b[21A\u001b[2K\u001b[10A\u001b[2K\u001b[14A\u001b[2K\u001b[9A\u001b[2K\u001b[10A\u001b[2K\u001b[9A\u001b[2K\u001b[20A\u001b[2K\u001b[21A\u001b[2K\u001b[9A\u001b[2K\u001b[20A\u001b[2K\u001b[9A\u001b[2K\u001b[20A\u001b[2K\u001b[14A\u001b[2K\u001b[9A\u001b[2K\u001b[20A\u001b[2K\u001b[9A\u001b[2K\u001b[20A\u001b[2K\u001b[21A\u001b[2K\u001b[10A\u001b[2K\u001b[9A\u001b[2K\u001b[21A\u001b[2K\u001b[20A\u001b[2K\u001b[10A\u001b[2K\u001b[20A\u001b[2K\u001b[14A\u001b[2K\u001b[20A\u001b[2K\u001b[21A\u001b[2K\u001b[9A\u001b[2K\u001b[10A\u001b[2K\u001b[14A\u001b[2K\u001b[10A\u001b[2K\u001b[14A\u001b[2K\u001b[20A\u001b[2K\u001b[9A\u001b[2K\u001b[14A\u001b[2K\u001b[10A\u001b[2K\u001b[9A\u001b[2K\u001b[10A\u001b[2K\u001b[20A\u001b[2K\u001b[14A\u001b[2K\u001b[10A\u001b[2K\u001b[20A\u001b[2K\u001b[10A\u001b[2K\u001b[9A\u001b[2K\u001b[21A\u001b[2K\u001b[9A\u001b[2K\u001b[21A\u001b[2K\u001b[14A\u001b[2K\u001b[9A\u001b[2K\u001b[14A\u001b[2K\u001b[10A\u001b[2K\u001b[21A\u001b[2K\u001b[10A\u001b[2K\u001b[20A\u001b[2K\u001b[9A\u001b[2K\u001b[20A\u001b[2K\u001b[10A\u001b[2K\u001b[14A\u001b[2K\u001b[10A\u001b[2K\u001b[14A\u001b[2K\u001b[21A\u001b[2K\u001b[10A\u001b[2K\u001b[14A\u001b[2K\u001b[21A\u001b[2K\u001b[10A\u001b[2K\u001b[21A\u001b[2K\u001b[9A\u001b[2K\u001b[10A\u001b[2K\u001b[14A\u001b[2K\u001b[20A\u001b[2K\u001b[10A\u001b[2K\u001b[10A\u001b[2K\u001b[10A\u001b[2K\u001b[9A\u001b[2K\u001b[10A\u001b[2K\u001b[21A\u001b[2K\u001b[10A\u001b[2K\u001b[21A\u001b[2K\u001b[21A\u001b[2K\u001b[14A\u001b[2K\u001b[10A\u001b[2K\u001b[10A\u001b[2K\u001b[14A\u001b[2K\u001b[20A\u001b[2K\u001b[9A\u001b[2K\u001b[20A\u001b[2K\u001b[9A\u001b[2K\u001b[10A\u001b[2K\u001b[14A\u001b[2K\u001b[10A\u001b[2K\u001b[20A\u001b[2K\u001b[10A\u001b[2K\u001b[21A\u001b[2K\u001b[10A\u001b[2K\u001b[20A\u001b[2K\u001b[10A\u001b[2K\u001b[9A\u001b[2K\u001b[10A\u001b[2K\u001b[21A\u001b[2K\u001b[10A\u001b[2K\u001b[21A\u001b[2K\u001b[10A\u001b[2K\u001b[9A\u001b[2K\u001b[10A\u001b[2K\u001b[21A\u001b[2K\u001b[20A\u001b[2K\u001b[9A\u001b[2K\u001b[14A\u001b[2K\u001b[9A\u001b[2K\u001b[9A\u001b[2K\u001b[9A\u001b[2K\u001b[10A\u001b[2K\u001b[9A\u001b[2K\u001b[21A\u001b[2K\u001b[9A\u001b[2K\u001b[20A\u001b[2K\u001b[9A\u001b[2K\u001b[9A\u001b[2K\u001b[20A\u001b[2K\u001b[21A\u001b[2K\u001b[20A\u001b[2K\u001b[21A\u001b[2K\u001b[20A\u001b[2K\u001b[21A\u001b[2K\u001b[20A\u001b[2K\u001b[14A\u001b[2K\u001b[20A\u001b[2K\u001b[20A\u001b[2K\u001b[20A\u001b[2K\u001b[14A\u001b[2K\u001b[8A\u001b[2K\u001b[21A\u001b[2K\u001b[9A\u001b[2K\u001b[7A\u001b[2K\u001b[21A\u001b[2K\u001b[6A\u001b[2K\u001b[14A\u001b[2K\u001b[20A\u001b[2K\u001b[14A\u001b[2K\u001b[21A\u001b[2K\u001b[14A\u001b[2K\u001b[20A\u001b[2K\u001b[21A\u001b[2K\u001b[5A\u001b[2K\u001b[21A\u001b[2K\u001b[14A\u001b[2K\u001b[21A\u001b[2K\u001b[14A\u001b[2K\u001b[21A\u001b[2K\u001b[4A\u001b[2K\u001b[21A\u001b[2K\u001b[14A\u001b[2K\u001b[21A\u001b[2K\u001b[4A\u001b[2K\u001b[21A\u001b[2K\u001b[4A\u001b[2K\u001b[21A\u001b[2K\u001b[4A\u001b[2K\u001b[14A\u001b[2K\u001b[4A\u001b[2K\u001b[14A\u001b[2K\u001b[4A\u001b[2K\u001b[14A\u001b[2K\u001b[4A\u001b[2K\u001b[21A\u001b[2K\u001b[4A\u001b[2K\u001b[4A\u001b[2K\u001b[14A\u001b[2K\u001b[3A\u001b[2K\u001b[14A\u001b[2K\u001b[20A\u001b[2K\u001b[3A\u001b[2K\u001b[20A\u001b[2K\u001b[3A\u001b[2K\u001b[20A\u001b[2K\u001b[20A\u001b[2K\u001b[14A\u001b[2K\u001b[20A\u001b[2K\u001b[4A\u001b[2K\u001b[14A\u001b[2K\u001b[20A\u001b[2K\u001b[2A\u001b[2K\u001b[20A\u001b[2K\u001b[3A\u001b[2K\u001b[14A\u001b[2K\u001b[3A\u001b[2K\u001b[14A\u001b[2K\u001b[20A\u001b[2K\u001b[21A\u001b[2K\u001b[14A\u001b[2K\u001b[20A\u001b[2K\u001b[20A\u001b[2K\u001b[14A\u001b[2K\u001b[3A\u001b[2K\u001b[14A\u001b[2K\u001b[1A\u001b[2K\u001b[20A\u001b[2K\u001b[14A\u001b[2K\u001b[1A\u001b[2K\u001b[20A\u001b[2K\u001b[1A\u001b[2K\u001b[14A\u001b[2K\u001b[3A\u001b[2K\u001b[1A\u001b[2K\u001b[14A\u001b[2K\u001b[1A\u001b[2K\u001b[20A\u001b[2K\u001b[3A\u001b[2K\u001b[14A\u001b[2K\u001b[20A\u001b[2K\u001b[14A\u001b[2K\u001b[20A\u001b[2K\u001b[14A\u001b[2K\u001b[3A\u001b[2K\u001b[1A\u001b[2K\u001b[3A\u001b[2K\u001b[20A\u001b[2K\u001b[3A\u001b[2K\u001b[14A\u001b[2K\u001b[3A\u001b[2K\u001b[20A\u001b[2K\u001b[1A\u001b[2K\u001b[3A\u001b[2K\u001b[20A\u001b[2K\u001b[3A\u001b[2K\u001b[1A\u001b[2K\u001b[20A\u001b[2K\u001b[3A\u001b[2K\u001b[1A\u001b[2K\u001b[3A\u001b[2K\u001b[20A\u001b[2K\u001b[14A\u001b[2K\u001b[3A\u001b[2K\u001b[14A\u001b[2K\u001b[20A\u001b[2K\u001b[14A\u001b[2K\u001b[1A\u001b[2K\u001b[14A\u001b[2K\u001b[20A\u001b[2K\u001b[3A\u001b[2K\u001b[20A\u001b[2K\u001b[20A\u001b[2K\u001b[1A\u001b[2K\u001b[14A\u001b[2K\u001b[1A\u001b[2K\u001b[3A\u001b[2K\u001b[20A\u001b[2K\u001b[3A\u001b[2K\u001b[20A\u001b[2K\u001b[3A\u001b[2K\u001b[1A\u001b[2K\u001b[3A\u001b[2K\u001b[20A\u001b[2K\u001b[3A\u001b[2KPushing  35.32MB/72.81MB\u001b[3A\u001b[2K\u001b[20A\u001b[2K\u001b[3A\u001b[2K\u001b[3A\u001b[2K\u001b[1A\u001b[2K\u001b[3A\u001b[2K\u001b[20A\u001b[2K\u001b[1A\u001b[2K\u001b[20A\u001b[2K\u001b[3A\u001b[2K\u001b[3A\u001b[2K\u001b[1A\u001b[2K\u001b[3A\u001b[2K\u001b[20A\u001b[2K\u001b[3A\u001b[2K\u001b[20A\u001b[2K\u001b[3A\u001b[2K\u001b[1A\u001b[2K\u001b[3A\u001b[2K\u001b[20A\u001b[2K\u001b[20A\u001b[2K\u001b[20A\u001b[2K\u001b[1A\u001b[2K\u001b[20A\u001b[2K\u001b[1A\u001b[2K\u001b[20A\u001b[2K\u001b[3A\u001b[2K\u001b[20A\u001b[2K\u001b[3A\u001b[2K\u001b[20A\u001b[2K\u001b[1A\u001b[2K\u001b[20A\u001b[2K\u001b[3A\u001b[2K\u001b[20A\u001b[2K\u001b[3A\u001b[2K\u001b[20A\u001b[2K\u001b[20A\u001b[2K\u001b[20A\u001b[2K\u001b[3A\u001b[2K\u001b[20A\u001b[2K\u001b[20A\u001b[2K\u001b[1A\u001b[2K\u001b[20A\u001b[2K\u001b[20A\u001b[2K\u001b[3A\u001b[2K\u001b[20A\u001b[2K\u001b[1A\u001b[2K\u001b[20A\u001b[2K\u001b[3A\u001b[2K\u001b[20A\u001b[2K\u001b[1A\u001b[2K\u001b[20A\u001b[2K\u001b[3A\u001b[2K\u001b[1A\u001b[2K\u001b[20A\u001b[2K\u001b[1A\u001b[2K\u001b[3A\u001b[2K\u001b[20A\u001b[2K\u001b[3A\u001b[2K\u001b[1A\u001b[2K\u001b[20A\u001b[2K\u001b[20A\u001b[2K\u001b[20A\u001b[2K\u001b[20A\u001b[2K\u001b[20A\u001b[2K\u001b[3A\u001b[2K\u001b[20A\u001b[2K\u001b[3A\u001b[2K\u001b[20A\u001b[2K\u001b[3A\u001b[2K\u001b[20A\u001b[2K\u001b[20A\u001b[2K\u001b[3A\u001b[2K\u001b[3A\u001b[2K\u001b[20A\u001b[2K\u001b[20A\u001b[2K\u001b[20A\u001b[2K\u001b[3A\u001b[2K\u001b[20A\u001b[2K\u001b[3A\u001b[2K\u001b[20A\u001b[2K\u001b[20A\u001b[2K\u001b[20A\u001b[2K\u001b[3A\u001b[2K\u001b[20A\u001b[2K\u001b[3A\u001b[2K\u001b[20A\u001b[2K\u001b[3A\u001b[2K\u001b[20A\u001b[2K\u001b[3A\u001b[2K\u001b[20A\u001b[2K\u001b[3A\u001b[2K\u001b[20A\u001b[2K\u001b[3A\u001b[2K\u001b[20A\u001b[2K\u001b[20A\u001b[2K\u001b[3A\u001b[2K\u001b[20A\u001b[2K\u001b[3A\u001b[2K\u001b[20A\u001b[2K\u001b[3A\u001b[2K\u001b[3A\u001b[2K\u001b[20A\u001b[2K\u001b[3A\u001b[2K\u001b[3A\u001b[2K\u001b[20A\u001b[2K\u001b[3A\u001b[2K\u001b[20A\u001b[2K\u001b[3A\u001b[2K\u001b[20A\u001b[2K\u001b[3A\u001b[2K\u001b[20A\u001b[2K\u001b[3A\u001b[2K\u001b[20A\u001b[2K\u001b[20A\u001b[2K\u001b[3A\u001b[2K\u001b[20A\u001b[2K\u001b[20A\u001b[2K\u001b[3A\u001b[2K\u001b[20A\u001b[2K\u001b[3A\u001b[2K\u001b[20A\u001b[2K\u001b[3A\u001b[2K\u001b[20A\u001b[2K\u001b[3A\u001b[2K\u001b[20A\u001b[2K\u001b[3A\u001b[2K\u001b[3A\u001b[2K\u001b[20A\u001b[2K\u001b[3A\u001b[2K\u001b[3A\u001b[2K\u001b[3A\u001b[2K\u001b[20A\u001b[2K\u001b[3A\u001b[2K\u001b[20A\u001b[2K\u001b[20A\u001b[2K\u001b[3A\u001b[2K\u001b[20A\u001b[2K\u001b[20A\u001b[2K\u001b[20A\u001b[2K\u001b[3A\u001b[2K\u001b[20A\u001b[2K\u001b[3A\u001b[2K\u001b[20A\u001b[2K\u001b[3A\u001b[2K\u001b[20A\u001b[2K\u001b[3A\u001b[2K\u001b[20A\u001b[2K\u001b[20A\u001b[2K\u001b[20A\u001b[2K\u001b[3A\u001b[2K\u001b[20A\u001b[2K\u001b[3A\u001b[2K\u001b[20A\u001b[2K\u001b[3A\u001b[2K\u001b[3A\u001b[2K\u001b[20A\u001b[2K\u001b[3A\u001b[2K\u001b[20A\u001b[2K\u001b[20A\u001b[2K\u001b[20A\u001b[2K\u001b[3A\u001b[2K\u001b[20A\u001b[2K\u001b[3A\u001b[2K\u001b[20A\u001b[2K\u001b[3A\u001b[2K\u001b[20A\u001b[2K\u001b[3A\u001b[2K\u001b[20A\u001b[2K\u001b[3A\u001b[2K\u001b[20A\u001b[2K\u001b[3A\u001b[2K\u001b[20A\u001b[2K\u001b[3A\u001b[2K\u001b[20A\u001b[2K\u001b[3A\u001b[2K\u001b[20A\u001b[2K\u001b[3A\u001b[2K\u001b[3A\u001b[2K\u001b[3A\u001b[2K\u001b[20A\u001b[2K\u001b[3A\u001b[2K\u001b[3A\u001b[2K\u001b[3A\u001b[2K\u001b[3A\u001b[2K\u001b[20A\u001b[2K\u001b[20A\u001b[2K\u001b[3A\u001b[2K\u001b[20A\u001b[2K\u001b[20A\u001b[2K\u001b[20A\u001b[2K\u001b[3A\u001b[2K\u001b[20A\u001b[2K\u001b[20A\u001b[2K\u001b[20A\u001b[2K\u001b[3A\u001b[2K\u001b[20A\u001b[2K\u001b[3A\u001b[2K\u001b[3A\u001b[2K\u001b[20A\u001b[2K\u001b[3A\u001b[2K\u001b[20A\u001b[2K\u001b[3A\u001b[2K\u001b[20A\u001b[2K\u001b[20A\u001b[2K\u001b[20A\u001b[2K\u001b[3A\u001b[2K\u001b[20A\u001b[2K\u001b[3A\u001b[2K\u001b[3A\u001b[2K\u001b[3A\u001b[2K\u001b[3A\u001b[2K\u001b[20A\u001b[2K\u001b[3A\u001b[2K\u001b[20A\u001b[2K\u001b[3A\u001b[2K\u001b[20A\u001b[2K\u001b[3A\u001b[2K\u001b[20A\u001b[2K\u001b[3A\u001b[2K\u001b[20A\u001b[2K\u001b[3A\u001b[2K\u001b[20A\u001b[2K\u001b[3A\u001b[2K\u001b[20A\u001b[2K\u001b[3A\u001b[2K\u001b[20A\u001b[2K\u001b[3A\u001b[2K\u001b[20A\u001b[2K\u001b[20A\u001b[2K\u001b[3A\u001b[2K\u001b[20A\u001b[2K\u001b[20A\u001b[2K\u001b[20A\u001b[2K\u001b[20A\u001b[2K\u001b[20A\u001b[2K\u001b[3A\u001b[2K\u001b[20A\u001b[2K\u001b[3A\u001b[2K\u001b[3A\u001b[2K\u001b[20A\u001b[2K\u001b[3A\u001b[2K\u001b[3A\u001b[2K\u001b[3A\u001b[2K\u001b[20A\u001b[2K\u001b[3A\u001b[2K\u001b[20A\u001b[2K\u001b[3A\u001b[2K\u001b[20A\u001b[2K\u001b[3A\u001b[2K\u001b[20A\u001b[2K\u001b[3A\u001b[2K\u001b[3A\u001b[2K\u001b[3A\u001b[2K\u001b[20A\u001b[2K\u001b[3A\u001b[2K\u001b[20A\u001b[2K\u001b[3A\u001b[2K\u001b[3A\u001b[2K\u001b[20A\u001b[2K\u001b[3A\u001b[2K\u001b[20A\u001b[2K\u001b[3A\u001b[2K\u001b[20A\u001b[2K\u001b[3A\u001b[2K\u001b[20A\u001b[2K\u001b[3A\u001b[2K\u001b[20A\u001b[2K\u001b[3A\u001b[2K\u001b[20A\u001b[2K\u001b[3A\u001b[2K\u001b[20A\u001b[2K\u001b[3A\u001b[2K\u001b[20A\u001b[2K\u001b[3A\u001b[2K\u001b[20A\u001b[2K\u001b[3A\u001b[2K\u001b[20A\u001b[2K\u001b[20A\u001b[2K\u001b[20A\u001b[2K\u001b[3A\u001b[2K\u001b[3A\u001b[2K\u001b[3A\u001b[2K\u001b[20A\u001b[2K\u001b[3A\u001b[2K\u001b[20A\u001b[2K\u001b[3A\u001b[2K\u001b[20A\u001b[2K\u001b[3A\u001b[2K\u001b[20A\u001b[2K\u001b[3A\u001b[2K\u001b[20A\u001b[2K\u001b[3A\u001b[2K\u001b[3A\u001b[2K\u001b[3A\u001b[2K\u001b[20A\u001b[2K\u001b[3A\u001b[2K\u001b[20A\u001b[2K\u001b[3A\u001b[2K\u001b[20A\u001b[2K\u001b[20A\u001b[2K\u001b[3A\u001b[2K\u001b[3A\u001b[2K\u001b[20A\u001b[2K\u001b[3A\u001b[2K\u001b[20A\u001b[2K\u001b[3A\u001b[2K\u001b[3A\u001b[2K\u001b[20A\u001b[2K\u001b[3A\u001b[2K\u001b[20A\u001b[2K\u001b[3A\u001b[2K\u001b[3A\u001b[2K\u001b[20A\u001b[2K\u001b[3A\u001b[2K\u001b[20A\u001b[2K\u001b[3A\u001b[2K\u001b[20A\u001b[2K\u001b[3A\u001b[2K\u001b[20A\u001b[2K\u001b[3A\u001b[2K\u001b[20A\u001b[2K\u001b[3A\u001b[2K\u001b[3A\u001b[2K\u001b[20A\u001b[2K\u001b[3A\u001b[2K\u001b[20A\u001b[2K\u001b[3A\u001b[2K\u001b[3A\u001b[2K\u001b[3A\u001b[2K\u001b[20A\u001b[2K\u001b[3A\u001b[2K\u001b[20A\u001b[2K\u001b[3A\u001b[2K\u001b[20A\u001b[2K\u001b[3A\u001b[2K\u001b[20A\u001b[2K\u001b[20A\u001b[2K\u001b[3A\u001b[2K\u001b[20A\u001b[2K\u001b[20A\u001b[2K\u001b[20A\u001b[2K\u001b[3A\u001b[2K\u001b[20A\u001b[2K\u001b[3A\u001b[2K\u001b[20A\u001b[2K\u001b[3A\u001b[2K\u001b[20A\u001b[2K\u001b[3A\u001b[2K\u001b[20A\u001b[2K\u001b[3A\u001b[2K\u001b[20A\u001b[2K\u001b[3A\u001b[2K\u001b[20A\u001b[2K\u001b[3A\u001b[2K\u001b[20A\u001b[2K\u001b[3A\u001b[2K\u001b[20A\u001b[2K\u001b[3A\u001b[2K\u001b[20A\u001b[2K\u001b[3A\u001b[2K\u001b[20A\u001b[2K\u001b[3A\u001b[2K\u001b[20A\u001b[2K\u001b[3A\u001b[2K\u001b[20A\u001b[2K\u001b[3A\u001b[2K\u001b[20A\u001b[2K\u001b[3A\u001b[2K\u001b[20A\u001b[2K\u001b[3A\u001b[2K\u001b[20A\u001b[2K\u001b[20A\u001b[2K\u001b[3A\u001b[2K\u001b[20A\u001b[2K\u001b[3A\u001b[2K\u001b[20A\u001b[2K\u001b[3A\u001b[2K\u001b[3A\u001b[2K\u001b[3A\u001b[2K\u001b[3A\u001b[2K\u001b[3A\u001b[2K\u001b[20A\u001b[2K\u001b[3A\u001b[2K\u001b[20A\u001b[2K\u001b[3A\u001b[2K\u001b[20A\u001b[2K\u001b[3A\u001b[2K\u001b[20A\u001b[2K\u001b[3A\u001b[2K\u001b[20A\u001b[2K\u001b[3A\u001b[2K\u001b[20A\u001b[2K\u001b[3A\u001b[2K\u001b[20A\u001b[2K\u001b[3A\u001b[2K\u001b[20A\u001b[2K\u001b[20A\u001b[2K\u001b[20A\u001b[2K\u001b[3A\u001b[2K\u001b[20A\u001b[2K\u001b[3A\u001b[2K\u001b[3A\u001b[2K\u001b[20A\u001b[2K\u001b[3A\u001b[2K\u001b[3A\u001b[2K\u001b[20A\u001b[2K\u001b[3A\u001b[2K\u001b[20A\u001b[2K\u001b[20A\u001b[2K\u001b[3A\u001b[2K\u001b[20A\u001b[2K\u001b[3A\u001b[2K\u001b[20A\u001b[2K\u001b[3A\u001b[2K\u001b[3A\u001b[2K\u001b[20A\u001b[2K\u001b[3A\u001b[2K\u001b[20A\u001b[2K\u001b[3A\u001b[2K\u001b[20A\u001b[2K\u001b[3A\u001b[2K\u001b[3A\u001b[2K\u001b[20A\u001b[2K\u001b[3A\u001b[2K\u001b[20A\u001b[2K\u001b[3A\u001b[2K\u001b[20A\u001b[2K\u001b[3A\u001b[2K\u001b[20A\u001b[2K\u001b[3A\u001b[2K\u001b[20A\u001b[2K\u001b[3A\u001b[2K\u001b[20A\u001b[2K\u001b[3A\u001b[2K\u001b[3A\u001b[2K\u001b[20A\u001b[2K\u001b[3A\u001b[2K\u001b[20A\u001b[2K\u001b[3A\u001b[2K\u001b[20A\u001b[2K\u001b[3A\u001b[2K\u001b[3A\u001b[2K\u001b[20A\u001b[2K\u001b[3A\u001b[2K\u001b[20A\u001b[2K\u001b[3A\u001b[2K\u001b[20A\u001b[2K\u001b[3A\u001b[2K\u001b[20A\u001b[2K\u001b[3A\u001b[2K\u001b[20A\u001b[2K\u001b[3A\u001b[2K\u001b[20A\u001b[2K\u001b[3A\u001b[2K\u001b[20A\u001b[2K\u001b[20A\u001b[2K\u001b[3A\u001b[2K\u001b[20A\u001b[2K\u001b[3A\u001b[2K\u001b[3A\u001b[2K\u001b[20A\u001b[2K\u001b[3A\u001b[2K\u001b[20A\u001b[2K\u001b[20A\u001b[2K\u001b[20A\u001b[2K\u001b[3A\u001b[2K\u001b[20A\u001b[2K\u001b[20A\u001b[2K\u001b[20A\u001b[2K\u001b[3A\u001b[2K\u001b[3A\u001b[2K\u001b[3A\u001b[2K\u001b[3A\u001b[2K\u001b[20A\u001b[2K\u001b[3A\u001b[2K\u001b[20A\u001b[2K\u001b[3A\u001b[2K\u001b[3A\u001b[2K\u001b[20A\u001b[2K\u001b[3A\u001b[2K\u001b[20A\u001b[2K\u001b[20A\u001b[2K\u001b[20A\u001b[2K\u001b[3A\u001b[2K\u001b[20A\u001b[2K\u001b[20A\u001b[2K\u001b[3A\u001b[2K\u001b[20A\u001b[2K\u001b[3A\u001b[2K\u001b[20A\u001b[2K\u001b[20A\u001b[2K\u001b[20A\u001b[2K\u001b[3A\u001b[2K\u001b[20A\u001b[2K\u001b[3A\u001b[2K\u001b[20A\u001b[2K\u001b[20A\u001b[2K\u001b[3A\u001b[2K\u001b[20A\u001b[2K\u001b[20A\u001b[2K\u001b[20A\u001b[2K\u001b[3A\u001b[2K\u001b[3A\u001b[2K\u001b[3A\u001b[2K\u001b[3A\u001b[2K\u001b[20A\u001b[2K\u001b[3A\u001b[2K\u001b[20A\u001b[2K\u001b[3A\u001b[2K\u001b[3A\u001b[2K\u001b[20A\u001b[2K\u001b[3A\u001b[2K\u001b[20A\u001b[2K\u001b[3A\u001b[2K\u001b[20A\u001b[2K\u001b[3A\u001b[2K\u001b[20A\u001b[2K\u001b[3A\u001b[2K\u001b[3A\u001b[2K\u001b[20A\u001b[2K\u001b[3A\u001b[2K\u001b[3A\u001b[2K\u001b[3A\u001b[2K\u001b[3A\u001b[2K\u001b[3A\u001b[2K\u001b[20A\u001b[2K\u001b[3A\u001b[2K\u001b[20A\u001b[2K\u001b[3A\u001b[2K\u001b[20A\u001b[2K\u001b[3A\u001b[2K\u001b[20A\u001b[2K\u001b[3A\u001b[2K\u001b[20A\u001b[2K\u001b[3A\u001b[2K\u001b[3A\u001b[2K\u001b[3A\u001b[2K\u001b[20A\u001b[2K\u001b[3A\u001b[2K\u001b[3A\u001b[2K\u001b[20A\u001b[2K\u001b[3A\u001b[2K\u001b[3A\u001b[2K\u001b[3A\u001b[2K\u001b[3A\u001b[2K\u001b[3A\u001b[2K\u001b[20A\u001b[2K\u001b[20A\u001b[2K\u001b[3A\u001b[2K\u001b[20A\u001b[2K\u001b[20A\u001b[2K\u001b[3A\u001b[2K\u001b[20A\u001b[2K\u001b[3A\u001b[2K\u001b[20A\u001b[2K\u001b[3A\u001b[2K\u001b[20A\u001b[2K\u001b[3A\u001b[2K\u001b[20A\u001b[2K\u001b[3A\u001b[2K\u001b[20A\u001b[2K\u001b[3A\u001b[2K\u001b[3A\u001b[2K\u001b[3A\u001b[2K\u001b[20A\u001b[2K\u001b[20A\u001b[2K\u001b[3A\u001b[2K\u001b[20A\u001b[2K\u001b[3A\u001b[2K\u001b[20A\u001b[2K\u001b[20A\u001b[2K\u001b[3A\u001b[2K\u001b[20A\u001b[2K\u001b[3A\u001b[2K\u001b[20A\u001b[2K\u001b[3A\u001b[2K\u001b[3A\u001b[2K\u001b[3A\u001b[2K\u001b[3A\u001b[2K\u001b[20A\u001b[2K\u001b[3A\u001b[2K\u001b[20A\u001b[2K\u001b[3A\u001b[2K\u001b[20A\u001b[2K\u001b[20A\u001b[2K\u001b[20A\u001b[2K\u001b[3A\u001b[2K\u001b[20A\u001b[2K\u001b[3A\u001b[2K\u001b[20A\u001b[2K\u001b[3A\u001b[2K\u001b[20A\u001b[2K\u001b[3A\u001b[2K\u001b[20A\u001b[2K\u001b[20A\u001b[2K\u001b[20A\u001b[2K\u001b[20A\u001b[2K\u001b[3A\u001b[2K\u001b[3A\u001b[2K\u001b[20A\u001b[2K\u001b[3A\u001b[2K\u001b[20A\u001b[2K\u001b[3A\u001b[2K\u001b[20A\u001b[2K\u001b[3A\u001b[2K\u001b[20A\u001b[2K\u001b[3A\u001b[2K\u001b[20A\u001b[2K\u001b[3A\u001b[2K\u001b[20A\u001b[2K\u001b[3A\u001b[2K\u001b[20A\u001b[2K\u001b[20A\u001b[2K\u001b[20A\u001b[2K\u001b[3A\u001b[2K\u001b[20A\u001b[2K\u001b[20A\u001b[2K\u001b[20A\u001b[2K\u001b[20A\u001b[2K\u001b[3A\u001b[2K\u001b[20A\u001b[2K\u001b[20A\u001b[2K\u001b[20A\u001b[2K\u001b[20A\u001b[2K\u001b[20A\u001b[2K\u001b[20A\u001b[2K\u001b[20A\u001b[2K\u001b[20A\u001b[2K\u001b[20A\u001b[2K\u001b[20A\u001b[2K\u001b[20A\u001b[2K\u001b[20A\u001b[2K\u001b[20A\u001b[2K\u001b[20A\u001b[2K\u001b[20A\u001b[2K\u001b[20A\u001b[2K\u001b[20A\u001b[2K\u001b[20A\u001b[2K\u001b[20A\u001b[2K\u001b[20A\u001b[2K\u001b[20A\u001b[2K\u001b[20A\u001b[2K\u001b[20A\u001b[2K\u001b[20A\u001b[2K\u001b[20A\u001b[2K\u001b[20A\u001b[2K\u001b[20A\u001b[2K\u001b[20A\u001b[2K\u001b[20A\u001b[2K\u001b[20A\u001b[2K\u001b[20A\u001b[2K\u001b[20A\u001b[2K\u001b[20A\u001b[2K\u001b[20A\u001b[2K\u001b[20A\u001b[2K\u001b[20A\u001b[2K\u001b[20A\u001b[2K\u001b[20A\u001b[2K\u001b[20A\u001b[2K\u001b[20A\u001b[2K\u001b[20A\u001b[2K\u001b[20A\u001b[2K\u001b[20A\u001b[2K\u001b[20A\u001b[2K\u001b[20A\u001b[2K\u001b[20A\u001b[2K\u001b[20A\u001b[2K\u001b[20A\u001b[2K\u001b[20A\u001b[2K\u001b[20A\u001b[2K\u001b[20A\u001b[2K\u001b[20A\u001b[2K\u001b[20A\u001b[2K\u001b[20A\u001b[2K\u001b[20A\u001b[2K\u001b[20A\u001b[2K\u001b[20A\u001b[2K\u001b[20A\u001b[2K\u001b[20A\u001b[2K\u001b[20A\u001b[2K\u001b[20A\u001b[2K\u001b[20A\u001b[2K\u001b[20A\u001b[2K\u001b[20A\u001b[2K\u001b[20A\u001b[2K\u001b[20A\u001b[2K\u001b[20A\u001b[2K\u001b[20A\u001b[2K\u001b[20A\u001b[2K\u001b[20A\u001b[2K\u001b[20A\u001b[2K\u001b[20A\u001b[2K\u001b[20A\u001b[2K\u001b[20A\u001b[2K\u001b[20A\u001b[2K\u001b[20A\u001b[2K\u001b[20A\u001b[2K\u001b[20A\u001b[2K\u001b[20A\u001b[2K\u001b[20A\u001b[2K\u001b[20A\u001b[2K\u001b[20A\u001b[2K\u001b[20A\u001b[2K\u001b[20A\u001b[2K\u001b[20A\u001b[2K\u001b[20A\u001b[2K\u001b[20A\u001b[2K\u001b[20A\u001b[2K\u001b[20A\u001b[2K\u001b[20A\u001b[2K\u001b[20A\u001b[2K\u001b[20A\u001b[2K\u001b[20A\u001b[2K\u001b[20A\u001b[2K\u001b[20A\u001b[2K\u001b[20A\u001b[2K\u001b[20A\u001b[2K\u001b[20A\u001b[2K\u001b[20A\u001b[2K\u001b[20A\u001b[2K\u001b[20A\u001b[2K\u001b[20A\u001b[2K\u001b[20A\u001b[2K\u001b[20A\u001b[2K\u001b[20A\u001b[2K\u001b[20A\u001b[2K\u001b[20A\u001b[2K\u001b[20A\u001b[2K\u001b[20A\u001b[2K\u001b[20A\u001b[2K\u001b[20A\u001b[2K\u001b[20A\u001b[2K\u001b[20A\u001b[2K\u001b[20A\u001b[2K\u001b[20A\u001b[2K\u001b[20A\u001b[2K\u001b[20A\u001b[2K\u001b[20A\u001b[2K\u001b[20A\u001b[2K\u001b[20A\u001b[2Kmondo: digest: sha256:eec0559d8485f650829099629540e93389954e36fbdbbfaaaf2fdb26ef3e1222 size: 7459\n"
     ]
    }
   ],
   "source": [
    "!docker push 319840978863.dkr.ecr.us-east-1.amazonaws.com/tensorflow-training:mondo"
   ]
  },
  {
   "cell_type": "code",
   "execution_count": null,
   "id": "f115a5fe",
   "metadata": {},
   "outputs": [],
   "source": [
    "df = pd.read_csv(fr\"data/input/loan_data.csv\")\n",
    "\n",
    "# Prepare the data\n",
    "df_binary = df.copy()\n",
    "df_binary['person_gender'] = df['person_gender'].astype(str).str.strip().str.lower().map({'female': 0, 'male': 1})\n",
    "df_binary['previous_loan_defaults_on_file'] = df['previous_loan_defaults_on_file'].map({'Yes': 1, 'No': 0})\n",
    "\n",
    "# One hot encoding\n",
    "df_encoded = pd.get_dummies(df_binary, columns=['person_education'], prefix='edu', dtype=int)\n",
    "df_encoded['edu_High_School'] = df_encoded['edu_High School']\n",
    "df_encoded = df_encoded.drop(columns=['edu_High School'])\n",
    "df_encoded = pd.get_dummies(df_encoded, columns=['person_home_ownership'], prefix=\"home_own\", dtype=int)\n",
    "df_encoded = pd.get_dummies(df_encoded, columns=['loan_intent'], dtype=int)\n",
    "\n",
    "# Scaling\n",
    "columns_to_scale = [\n",
    "    'person_age', 'person_income', 'loan_amnt', 'credit_score', 'loan_int_rate'\n",
    "]\n",
    "scaler = StandardScaler()\n",
    "\n",
    "df_scaled = df_encoded.copy()\n",
    "df_scaled[columns_to_scale] = scaler.fit_transform(df_encoded[columns_to_scale])\n",
    "\n",
    "# Train-test split\n",
    "from sklearn.model_selection import train_test_split\n",
    "y = df_scaled['loan_status']\n",
    "x = df_scaled.drop(['loan_status'], axis=1)\n",
    "x_train, x_test, y_train, y_test = train_test_split(x, y, test_size=0.2, random_state=42)\n",
    "\n",
    "# Create a Random Forest Classifier\n",
    "model = RandomForestClassifier(random_state=42)\n",
    "\n",
    "# Train the model\n",
    "model.fit(x_train, y_train)\n",
    "\n",
    "#   predictions on the test set\n",
    "y_pred = model.predict(x_test)\n",
    "\n",
    "# Evaluate the model\n",
    "accuracy = accuracy_score(y_test, y_pred)\n",
    "precision = precision_score(y_test, y_pred)\n",
    "recall = recall_score(y_test, y_pred)\n",
    "f1 = f1_score(y_test, y_pred)\n",
    "\n",
    "print(f\"accuracy: {accuracy}\")\n",
    "print(f\"precision: {precision}\")\n",
    "print(f\"recall: {recall}\")\n",
    "print(f\"f1 score: {f1}\")"
   ]
  },
  {
   "cell_type": "code",
   "execution_count": null,
   "id": "2b263170",
   "metadata": {},
   "outputs": [],
   "source": [
    "import pickle\n",
    "\n",
    "# Save the model to a file\n",
    "with open('loan_data_model.pkl', 'wb') as file:\n",
    "    pickle.dump(model, file)"
   ]
  },
  {
   "cell_type": "code",
   "execution_count": null,
   "id": "b26170da",
   "metadata": {},
   "outputs": [],
   "source": [
    "import tarfile\n",
    "with tarfile.open('loan_data_model.tar.gz', 'w:gz') as tar:\n",
    "    tar.add('loan_data_model.pkl')"
   ]
  },
  {
   "cell_type": "code",
   "execution_count": 46,
   "id": "75e01896",
   "metadata": {},
   "outputs": [
    {
     "name": "stdout",
     "output_type": "stream",
     "text": [
      "image_name: tensorflow-inference ######################\n",
      "account: 319840978863 ######################\n",
      "region: us-east-1 ######################\n",
      "fullname: 319840978863.dkr.ecr.us-east-1.amazonaws.com/tensorflow-inference:2.12.0-cpu-py310-pluto-2 ######################\n",
      "{\n",
      "    \"repositories\": [\n",
      "        {\n",
      "            \"repositoryArn\": \"arn:aws:ecr:us-east-1:319840978863:repository/tensorflow-inference\",\n",
      "            \"registryId\": \"319840978863\",\n",
      "            \"repositoryName\": \"tensorflow-inference\",\n",
      "            \"repositoryUri\": \"319840978863.dkr.ecr.us-east-1.amazonaws.com/tensorflow-inference\",\n",
      "            \"createdAt\": 1732286852.334,\n",
      "            \"imageTagMutability\": \"MUTABLE\",\n",
      "            \"imageScanningConfiguration\": {\n",
      "                \"scanOnPush\": false\n",
      "            },\n",
      "            \"encryptionConfiguration\": {\n",
      "                \"encryptionType\": \"AES256\"\n",
      "            }\n",
      "        }\n",
      "    ]\n",
      "}\n"
     ]
    }
   ],
   "source": [
    "%%sh\n",
    "# Specify an image name\n",
    "image_name=tensorflow-inference\n",
    "echo \"image_name: ${image_name} ######################\"\n",
    "\n",
    "account=$(aws sts get-caller-identity --query Account --output text)\n",
    "echo \"account: ${account} ######################\"\n",
    "\n",
    "# Get the region defined in the current configuration (default to us-west-2 if none defined)\n",
    "region=$(aws configure get region)\n",
    "echo \"region: ${region} ######################\"\n",
    "\n",
    "fullname=\"${account}.dkr.ecr.${region}.amazonaws.com/${image_name}:2.12.0-cpu-py310-pluto-2\"\n",
    "echo \"fullname: ${fullname} ######################\"\n",
    "\n",
    "aws ecr describe-repositories --repository-names \"${image_name}\"\n",
    "if [ $? -ne 0 ]\n",
    "then\n",
    "aws ecr create-repository --repository-name \"${image_name}\"\n",
    "fi"
   ]
  },
  {
   "cell_type": "code",
   "execution_count": 56,
   "id": "f5b723a3",
   "metadata": {},
   "outputs": [
    {
     "name": "stdout",
     "output_type": "stream",
     "text": [
      "WARNING! Your password will be stored unencrypted in /home/ec2-user/.docker/config.json.\n",
      "Configure a credential helper to remove this warning. See\n",
      "https://docs.docker.com/engine/reference/commandline/login/#credentials-store\n",
      "\n",
      "Login Succeeded\n"
     ]
    }
   ],
   "source": [
    "!aws ecr get-login-password --region us-east-1 | docker login --username AWS --password-stdin 763104351884.dkr.ecr.us-east-1.amazonaws.com"
   ]
  },
  {
   "cell_type": "code",
   "execution_count": 57,
   "id": "242ba21d",
   "metadata": {},
   "outputs": [
    {
     "name": "stdout",
     "output_type": "stream",
     "text": [
      "\u001b[1A\u001b[1B\u001b[0G\u001b[?25l[+] Building 0.0s (0/1)                                          docker:default\n",
      "\u001b[?25h\u001b[1A\u001b[0G\u001b[?25l[+] Building 0.2s (3/3)                                          docker:default\n",
      "\u001b[34m => [internal] load build definition from Dockerfile.inference             0.0s\n",
      "\u001b[0m\u001b[34m => => transferring dockerfile: 425B                                       0.0s\n",
      "\u001b[0m\u001b[34m => [internal] load metadata for 763104351884.dkr.ecr.us-east-1.amazonaws  0.2s\n",
      "\u001b[0m\u001b[34m => [auth] sharing credentials for 763104351884.dkr.ecr.us-east-1.amazona  0.0s\n",
      "\u001b[0m\u001b[?25h\u001b[1A\u001b[1A\u001b[1A\u001b[1A\u001b[1A\u001b[0G\u001b[?25l[+] Building 0.3s (11/11) FINISHED                               docker:default\n",
      "\u001b[34m => [internal] load build definition from Dockerfile.inference             0.0s\n",
      "\u001b[0m\u001b[34m => => transferring dockerfile: 425B                                       0.0s\n",
      "\u001b[0m\u001b[34m => [internal] load metadata for 763104351884.dkr.ecr.us-east-1.amazonaws  0.2s\n",
      "\u001b[0m\u001b[34m => [auth] sharing credentials for 763104351884.dkr.ecr.us-east-1.amazona  0.0s\n",
      "\u001b[0m\u001b[34m => [internal] load .dockerignore                                          0.0s\n",
      "\u001b[0m\u001b[34m => => transferring context: 2B                                            0.0s\n",
      "\u001b[0m\u001b[34m => [1/5] FROM 763104351884.dkr.ecr.us-east-1.amazonaws.com/tensorflow-in  0.0s\n",
      "\u001b[0m\u001b[34m => [internal] load build context                                          0.0s\n",
      "\u001b[0m\u001b[34m => => transferring context: 106B                                          0.0s\n",
      "\u001b[0m\u001b[34m => CACHED [2/5] ADD ./requirements.inference.txt /opt/requirements.txt    0.0s\n",
      "\u001b[0m\u001b[34m => CACHED [3/5] RUN pip3 install -r /opt/requirements.txt                 0.0s\n",
      "\u001b[0m\u001b[34m => CACHED [4/5] ADD ./inference.py /opt/inference.py                      0.0s\n",
      "\u001b[0m\u001b[34m => CACHED [5/5] ADD ./pippo.sh /opt/pippo.sh                              0.0s\n",
      "\u001b[0m\u001b[34m => exporting to image                                                     0.0s\n",
      "\u001b[0m\u001b[34m => => exporting layers                                                    0.0s\n",
      "\u001b[0m\u001b[34m => => writing image sha256:763ef1a70752e633a3d38760707af02717c66e4b794a6  0.0s\n",
      "\u001b[0m\u001b[34m => => naming to 319840978863.dkr.ecr.us-east-1.amazonaws.com/tensorflow-  0.0s\n",
      "\u001b[0m\u001b[?25h"
     ]
    }
   ],
   "source": [
    "!docker build -t 319840978863.dkr.ecr.us-east-1.amazonaws.com/tensorflow-inference:mondo -f Dockerfile.inference ."
   ]
  },
  {
   "cell_type": "code",
   "execution_count": 58,
   "id": "eb09aa64",
   "metadata": {},
   "outputs": [
    {
     "name": "stdout",
     "output_type": "stream",
     "text": [
      "REPOSITORY                                                                  TAG          IMAGE ID       CREATED          SIZE\n",
      "319840978863.dkr.ecr.us-east-1.amazonaws.com/tensorflow-inference           mondo        763ef1a70752   12 minutes ago   4.53GB\n",
      "319840978863.dkr.ecr.us-east-1.amazonaws.com/tensorflow-training            mondo        f75946f23fd8   38 minutes ago   7GB\n",
      "319840978863.dkr.ecr.us-east-1.amazonaws.com/tensorflow-inference           <none>       26210a2e8da1   2 hours ago      4.53GB\n",
      "520713654638.dkr.ecr.us-east-1.amazonaws.com/sagemaker-tensorflow-serving   1.12.0-cpu   27aee10a9f6a   5 years ago      377MB\n"
     ]
    }
   ],
   "source": [
    "!docker images"
   ]
  },
  {
   "cell_type": "code",
   "execution_count": 59,
   "id": "7a45ee42",
   "metadata": {},
   "outputs": [
    {
     "name": "stdout",
     "output_type": "stream",
     "text": [
      "WARNING! Your password will be stored unencrypted in /home/ec2-user/.docker/config.json.\n",
      "Configure a credential helper to remove this warning. See\n",
      "https://docs.docker.com/engine/reference/commandline/login/#credentials-store\n",
      "\n",
      "Login Succeeded\n"
     ]
    }
   ],
   "source": [
    "!aws ecr get-login-password --region us-east-1 | docker login --username AWS --password-stdin 319840978863.dkr.ecr.us-east-1.amazonaws.com"
   ]
  },
  {
   "cell_type": "code",
   "execution_count": 60,
   "id": "4192308f",
   "metadata": {},
   "outputs": [
    {
     "name": "stdout",
     "output_type": "stream",
     "text": [
      "The push refers to repository [319840978863.dkr.ecr.us-east-1.amazonaws.com/tensorflow-inference]\n",
      "\n",
      "\u001b[1Bb4272b3a: Preparing \n",
      "\u001b[1B7d0cb892: Preparing \n",
      "\u001b[1Bc386816e: Preparing \n",
      "\u001b[1Bf1a769d3: Preparing \n",
      "\u001b[1B37bf1d61: Preparing \n",
      "\u001b[1B8df97c44: Preparing \n",
      "\u001b[1B764747b4: Preparing \n",
      "\u001b[1B1a68f579: Preparing \n",
      "\u001b[1B2eef5eea: Preparing \n",
      "\u001b[1Bb5bcc575: Preparing \n",
      "\u001b[1B5e5ce62f: Preparing \n",
      "\u001b[1B757a305d: Preparing \n",
      "\u001b[1Bc7cf6f28: Preparing \n",
      "\u001b[1B30092134: Preparing \n",
      "\u001b[1Bfb153852: Preparing \n",
      "\u001b[1B0903db8c: Preparing \n",
      "\u001b[1B19dec72a: Preparing \n",
      "\u001b[1Bdf04f233: Preparing \n",
      "\u001b[1Bf2dbc490: Preparing \n",
      "\u001b[1Bba0431f9: Preparing \n",
      "\u001b[1B71536788: Preparing \n",
      "\u001b[1B994107ae: Preparing \n",
      "\u001b[1B3a4f83e7: Preparing \n",
      "\u001b[1Bd6748243: Preparing \n",
      "\u001b[1Bf2c1e372: Preparing \n",
      "\u001b[1Bcd2b5d6d: Preparing \n",
      "\u001b[1Bca73c74f: Layer already exists \u001b[24A\u001b[2K\u001b[20A\u001b[2K\u001b[16A\u001b[2K\u001b[10A\u001b[2K\u001b[7A\u001b[2K\u001b[2A\u001b[2Kmondo: digest: sha256:2bfe6b7f4fa8358e37a9c0b84cd603b51ccb89d1e9ac61f21508a2cc06278cfd size: 5972\n"
     ]
    }
   ],
   "source": [
    "!docker push 319840978863.dkr.ecr.us-east-1.amazonaws.com/tensorflow-inference:mondo"
   ]
  },
  {
   "cell_type": "code",
   "execution_count": 63,
   "id": "066e6ee1",
   "metadata": {},
   "outputs": [],
   "source": [
    "\n",
    "from sagemaker import get_execution_role\n",
    "import boto3\n",
    "import datetime\n",
    "from time import gmtime, strftime\n",
    "\n",
    "# https://docs.aws.amazon.com/sagemaker/latest/dg/realtime-endpoints-deployment.html\n",
    "\n",
    "my_session = boto3.session.Session()\n",
    "aws_region = my_session.region_name\n",
    "\n",
    "sagemaker_client = boto3.client('sagemaker', region_name=aws_region)\n",
    "\n",
    "sagemaker_role = get_execution_role()\n",
    "\n",
    "model_name = '2modelLarocca'\n",
    "\n",
    "# Create model\n",
    "create_model_response = sagemaker_client.create_model(\n",
    "    ModelName = model_name,\n",
    "    ExecutionRoleArn = sagemaker_role,\n",
    "    PrimaryContainer = {\n",
    "        'Image': '319840978863.dkr.ecr.us-east-1.amazonaws.com/tensorflow-inference:mondo',\n",
    "        'ModelDataUrl': 's3://itsar123-larocca/data/output/loan_data_model.tar.gz',\n",
    "    })\n",
    "\n",
    "\n"
   ]
  },
  {
   "cell_type": "code",
   "execution_count": 67,
   "id": "8e59d7a6",
   "metadata": {},
   "outputs": [
    {
     "name": "stdout",
     "output_type": "stream",
     "text": [
      "Created EndpointConfig: arn:aws:sagemaker:us-east-1:319840978863:endpoint-config/prima-api-inferenza-larocca2\n"
     ]
    }
   ],
   "source": [
    "# Create an endpoint config name. Here we create one based on the date  \n",
    "# so it we can search endpoints based on creation time.\n",
    "endpoint_config_name = 'prima-api-inferenza-larocca2'\n",
    "\n",
    "instance_type = 'ml.m5.large'\n",
    "\n",
    "endpoint_config_response = sagemaker_client.create_endpoint_config(\n",
    "    EndpointConfigName=endpoint_config_name,\n",
    "    # You will specify this name in a CreateEndpoint request.\n",
    "    # List of ProductionVariant objects, one for each model that you want to host at this endpoint.\n",
    "    ProductionVariants=[\n",
    "        {\n",
    "            \"VariantName\": \"variant1\", # The name of the production variant.\n",
    "            \"ModelName\": model_name,\n",
    "            \"InstanceType\": instance_type, # Specify the compute instance type.\n",
    "            \"InitialInstanceCount\": 1 # Number of instances to launch initially.\n",
    "        }\n",
    "    ]\n",
    ")\n",
    "\n",
    "print(f\"Created EndpointConfig: {endpoint_config_response['EndpointConfigArn']}\")\n",
    "\n",
    "# The name of the endpoint. The name must be unique within an AWS Region in your AWS account.\n",
    "endpoint_name = 'prima-api-inferenza-larocca2'\n",
    "\n",
    "create_endpoint_response = sagemaker_client.create_endpoint(\n",
    "                                            EndpointName=endpoint_name, \n",
    "                                            EndpointConfigName=endpoint_config_name)\n"
   ]
  },
  {
   "cell_type": "code",
   "execution_count": 68,
   "id": "1a190190",
   "metadata": {},
   "outputs": [],
   "source": [
    "!chmod -x pippo.sh"
   ]
  },
  {
   "cell_type": "code",
   "execution_count": null,
   "id": "d635d18e",
   "metadata": {},
   "outputs": [],
   "source": []
  }
 ],
 "metadata": {
  "kernelspec": {
   "display_name": "conda_python3",
   "language": "python",
   "name": "conda_python3"
  },
  "language_info": {
   "codemirror_mode": {
    "name": "ipython",
    "version": 3
   },
   "file_extension": ".py",
   "mimetype": "text/x-python",
   "name": "python",
   "nbconvert_exporter": "python",
   "pygments_lexer": "ipython3",
   "version": "3.10.15"
  }
 },
 "nbformat": 4,
 "nbformat_minor": 5
}
