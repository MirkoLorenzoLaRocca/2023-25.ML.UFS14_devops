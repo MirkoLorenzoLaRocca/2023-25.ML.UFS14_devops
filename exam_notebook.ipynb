{
 "cells": [
  {
   "cell_type": "code",
   "execution_count": 1,
   "id": "c4559dda",
   "metadata": {},
   "outputs": [
    {
     "name": "stdout",
     "output_type": "stream",
     "text": [
      "tar: Ignoring unknown extended header keyword `LIBARCHIVE.creationtime'\n"
     ]
    }
   ],
   "source": [
    "!tar -xzf model.tar.gz"
   ]
  },
  {
   "cell_type": "code",
   "execution_count": null,
   "id": "93ab044d",
   "metadata": {},
   "outputs": [],
   "source": [
    "!pip install tensorflow keras"
   ]
  },
  {
   "cell_type": "code",
   "execution_count": 6,
   "id": "9f225504",
   "metadata": {},
   "outputs": [],
   "source": [
    "from sklearn.ensemble import RandomForestClassifier\n",
    "from sklearn.metrics import accuracy_score, precision_score, recall_score, f1_score, confusion_matrix\n",
    "from sklearn.preprocessing import StandardScaler\n",
    "import pandas as pd\n",
    "\n",
    "df = pd.read_csv(fr\"data/input/loan_data.csv\")\n",
    "\n",
    "# Prepare the data\n",
    "df_binary = df.copy()\n",
    "df_binary['person_gender'] = df['person_gender'].astype(str).str.strip().str.lower().map({'female': 0, 'male': 1})\n",
    "df_binary['previous_loan_defaults_on_file'] = df['previous_loan_defaults_on_file'].map({'Yes': 1, 'No': 0})\n",
    "\n",
    "# One hot encoding\n",
    "df_encoded = pd.get_dummies(df_binary, columns=['person_education'], prefix='edu', dtype=int)\n",
    "df_encoded['edu_High_School'] = df_encoded['edu_High School']\n",
    "df_encoded = df_encoded.drop(columns=['edu_High School'])\n",
    "df_encoded = pd.get_dummies(df_encoded, columns=['person_home_ownership'], prefix=\"home_own\", dtype=int)\n",
    "df_encoded = pd.get_dummies(df_encoded, columns=['loan_intent'], dtype=int)\n",
    "\n",
    "# Scaling\n",
    "columns_to_scale = [\n",
    "    'person_age', 'person_income', 'loan_amnt', 'credit_score', 'loan_int_rate'\n",
    "]\n",
    "scaler = StandardScaler()\n",
    "\n",
    "df_scaled = df_encoded.copy()\n",
    "df_scaled[columns_to_scale] = scaler.fit_transform(df_encoded[columns_to_scale])\n",
    "\n",
    "# Train-test split\n",
    "from sklearn.model_selection import train_test_split\n",
    "y = df_scaled['loan_status']\n",
    "x = df_scaled.drop(['loan_status'], axis=1)\n",
    "x_train, x_test, y_train, y_test = train_test_split(x, y, test_size=0.2, random_state=42)\n",
    "\n",
    "# Create a Random Forest Classifier\n",
    "model = RandomForestClassifier(random_state=42)\n",
    "\n",
    "# Train the model\n",
    "model.fit(x_train, y_train)\n",
    "\n",
    "#   predictions on the test set\n",
    "y_pred = model.predict(x_test)\n",
    "\n",
    "# Evaluate the model\n",
    "accuracy = accuracy_score(y_test, y_pred)\n",
    "precision = precision_score(y_test, y_pred)\n",
    "recall = recall_score(y_test, y_pred)\n",
    "f1 = f1_score(y_test, y_pred)"
   ]
  },
  {
   "cell_type": "code",
   "execution_count": 10,
   "id": "ce1890a6",
   "metadata": {},
   "outputs": [],
   "source": [
    "import pickle\n",
    "\n",
    "# Save the model to a file\n",
    "with open('loan_data_model.pkl', 'wb') as file:\n",
    "    pickle.dump(model, file)"
   ]
  },
  {
   "cell_type": "code",
   "execution_count": 8,
   "id": "3c0765e7",
   "metadata": {},
   "outputs": [
    {
     "name": "stdout",
     "output_type": "stream",
     "text": [
      "accuracy: 0.9283333333333333\n",
      "precision: 0.8947368421052632\n",
      "recall: 0.7696517412935323\n",
      "f1 score: 0.8274939823482215\n"
     ]
    }
   ],
   "source": [
    "print(f\"accuracy: {accuracy}\")\n",
    "print(f\"precision: {precision}\")\n",
    "print(f\"recall: {recall}\")\n",
    "print(f\"f1 score: {f1}\")"
   ]
  },
  {
   "cell_type": "code",
   "execution_count": 19,
   "id": "adc66d4d",
   "metadata": {},
   "outputs": [
    {
     "name": "stdout",
     "output_type": "stream",
     "text": [
      "[0 0 1 ... 0 0 1]\n"
     ]
    }
   ],
   "source": [
    "# Load the model back from the file\n",
    "with open('loan_data_model.pkl', 'rb') as file:\n",
    "    loaded_model = pickle.load(file)\n",
    "    \n",
    "# Use the loaded model for predictions\n",
    "predictions = loaded_model.predict(x_test)\n",
    "print(predictions)\n",
    "with open('data/output/predictions.txt', 'w') as pred:\n",
    "    pred.write(str(list(predictions)))"
   ]
  },
  {
   "cell_type": "code",
   "execution_count": 20,
   "id": "c6d956fb",
   "metadata": {},
   "outputs": [
    {
     "name": "stdout",
     "output_type": "stream",
     "text": [
      "image_name: tensorflow-inference ######################\n",
      "account: 319840978863 ######################\n",
      "region: us-east-1 ######################\n",
      "fullname: 319840978863.dkr.ecr.us-east-1.amazonaws.com/tensorflow-inference:2.12.0-cpu-py310-pluto-2 ######################\n"
     ]
    },
    {
     "name": "stderr",
     "output_type": "stream",
     "text": [
      "\n",
      "An error occurred (RepositoryNotFoundException) when calling the DescribeRepositories operation: The repository with name 'tensorflow-inference' does not exist in the registry with id '319840978863'\n"
     ]
    },
    {
     "name": "stdout",
     "output_type": "stream",
     "text": [
      "{\n",
      "    \"repository\": {\n",
      "        \"repositoryArn\": \"arn:aws:ecr:us-east-1:319840978863:repository/tensorflow-inference\",\n",
      "        \"registryId\": \"319840978863\",\n",
      "        \"repositoryName\": \"tensorflow-inference\",\n",
      "        \"repositoryUri\": \"319840978863.dkr.ecr.us-east-1.amazonaws.com/tensorflow-inference\",\n",
      "        \"createdAt\": 1731937483.712,\n",
      "        \"imageTagMutability\": \"MUTABLE\",\n",
      "        \"imageScanningConfiguration\": {\n",
      "            \"scanOnPush\": false\n",
      "        },\n",
      "        \"encryptionConfiguration\": {\n",
      "            \"encryptionType\": \"AES256\"\n",
      "        }\n",
      "    }\n",
      "}\n"
     ]
    }
   ],
   "source": [
    "%%sh\n",
    "# Specify an image name\n",
    "image_name=tensorflow-inference\n",
    "echo \"image_name: ${image_name} ######################\"\n",
    "\n",
    "account=$(aws sts get-caller-identity --query Account --output text)\n",
    "echo \"account: ${account} ######################\"\n",
    "\n",
    "# Get the region defined in the current configuration (default to us-west-2 if none defined)\n",
    "region=$(aws configure get region)\n",
    "echo \"region: ${region} ######################\"\n",
    "\n",
    "fullname=\"${account}.dkr.ecr.${region}.amazonaws.com/${image_name}:2.12.0-cpu-py310-pluto-2\"\n",
    "echo \"fullname: ${fullname} ######################\"\n",
    "\n",
    "aws ecr describe-repositories --repository-names \"${image_name}\"\n",
    "if [ $? -ne 0 ]\n",
    "then\n",
    "aws ecr create-repository --repository-name \"${image_name}\"\n",
    "fi"
   ]
  },
  {
   "cell_type": "code",
   "execution_count": 21,
   "id": "f07e6569",
   "metadata": {},
   "outputs": [
    {
     "name": "stdout",
     "output_type": "stream",
     "text": [
      "WARNING! Your password will be stored unencrypted in /home/ec2-user/.docker/config.json.\n",
      "Configure a credential helper to remove this warning. See\n",
      "https://docs.docker.com/engine/reference/commandline/login/#credentials-store\n",
      "\n",
      "Login Succeeded\n"
     ]
    }
   ],
   "source": [
    "!aws ecr get-login-password --region us-east-1 | docker login --username AWS --password-stdin 763104351884.dkr.ecr.us-east-1.amazonaws.com"
   ]
  },
  {
   "cell_type": "code",
   "execution_count": null,
   "id": "e7385baa",
   "metadata": {},
   "outputs": [],
   "source": [
    "!docker build -t 319840978863.dkr.ecr.us-east-1.amazonaws.com/tensorflow-inference:mondo -f Dockerfile.inference ."
   ]
  },
  {
   "cell_type": "code",
   "execution_count": 23,
   "id": "e5be2e94",
   "metadata": {},
   "outputs": [
    {
     "name": "stdout",
     "output_type": "stream",
     "text": [
      "REPOSITORY                                                          TAG       IMAGE ID       CREATED         SIZE\n",
      "319840978863.dkr.ecr.us-east-1.amazonaws.com/tensorflow-inference   mondo     6893cfe4a78b   5 minutes ago   4.53GB\n"
     ]
    }
   ],
   "source": [
    "!docker images"
   ]
  },
  {
   "cell_type": "code",
   "execution_count": 24,
   "id": "3f3bf5b7",
   "metadata": {},
   "outputs": [
    {
     "name": "stdout",
     "output_type": "stream",
     "text": [
      "WARNING! Your password will be stored unencrypted in /home/ec2-user/.docker/config.json.\n",
      "Configure a credential helper to remove this warning. See\n",
      "https://docs.docker.com/engine/reference/commandline/login/#credentials-store\n",
      "\n",
      "Login Succeeded\n"
     ]
    }
   ],
   "source": [
    "!aws ecr get-login-password --region us-east-1 | docker login --username AWS --password-stdin 319840978863.dkr.ecr.us-east-1.amazonaws.com"
   ]
  },
  {
   "cell_type": "code",
   "execution_count": 26,
   "id": "13dceb14",
   "metadata": {},
   "outputs": [
    {
     "name": "stdout",
     "output_type": "stream",
     "text": [
      "The push refers to repository [319840978863.dkr.ecr.us-east-1.amazonaws.com/tensorflow-inference]\n",
      "\n",
      "\u001b[1Bf9b57e1c: Preparing \n",
      "\u001b[1B95acb709: Preparing \n",
      "\u001b[1B3763e5d2: Preparing \n",
      "\u001b[1B37bf1d61: Preparing \n",
      "\u001b[1B8df97c44: Preparing \n",
      "\u001b[1B764747b4: Preparing \n",
      "\u001b[1B1a68f579: Preparing \n",
      "\u001b[1B2eef5eea: Preparing \n",
      "\u001b[1Bb5bcc575: Preparing \n",
      "\u001b[1B5e5ce62f: Preparing \n",
      "\u001b[1B757a305d: Preparing \n",
      "\u001b[1Bc7cf6f28: Preparing \n",
      "\u001b[1B30092134: Preparing \n",
      "\u001b[1Bfb153852: Preparing \n",
      "\u001b[1B0903db8c: Preparing \n",
      "\u001b[1B19dec72a: Preparing \n",
      "\u001b[1Bdf04f233: Preparing \n",
      "\u001b[1Bf2dbc490: Preparing \n",
      "\u001b[1Bba0431f9: Preparing \n",
      "\u001b[1B71536788: Preparing \n",
      "\u001b[1B994107ae: Preparing \n",
      "\u001b[1B3a4f83e7: Preparing \n",
      "\u001b[1Bd6748243: Preparing \n",
      "\u001b[1Bf2c1e372: Preparing \n",
      "\u001b[1Bcd2b5d6d: Preparing \n",
      "\u001b[25B5acb709: Pushed   2.641GB/2.621GB5A\u001b[2K\u001b[25A\u001b[2K\u001b[25A\u001b[2K\u001b[22A\u001b[2K\u001b[26A\u001b[2K\u001b[22A\u001b[2K\u001b[21A\u001b[2K\u001b[22A\u001b[2K\u001b[19A\u001b[2K\u001b[20A\u001b[2K\u001b[22A\u001b[2K\u001b[25A\u001b[2K\u001b[22A\u001b[2K\u001b[25A\u001b[2K\u001b[25A\u001b[2K\u001b[19A\u001b[2K\u001b[25A\u001b[2K\u001b[18A\u001b[2K\u001b[25A\u001b[2K\u001b[16A\u001b[2K\u001b[17A\u001b[2K\u001b[18A\u001b[2K\u001b[25A\u001b[2K\u001b[18A\u001b[2K\u001b[25A\u001b[2KPushing  27.79MB/2.621GB\u001b[25A\u001b[2K\u001b[22A\u001b[2K\u001b[25A\u001b[2K\u001b[22A\u001b[2K\u001b[18A\u001b[2K\u001b[22A\u001b[2K\u001b[16A\u001b[2K\u001b[14A\u001b[2K\u001b[16A\u001b[2K\u001b[15A\u001b[2K\u001b[16A\u001b[2K\u001b[15A\u001b[2K\u001b[16A\u001b[2K\u001b[25A\u001b[2K\u001b[22A\u001b[2K\u001b[25A\u001b[2K\u001b[22A\u001b[2K\u001b[25A\u001b[2K\u001b[22A\u001b[2K\u001b[15A\u001b[2K\u001b[22A\u001b[2K\u001b[16A\u001b[2K\u001b[22A\u001b[2K\u001b[16A\u001b[2K\u001b[13A\u001b[2K\u001b[22A\u001b[2K\u001b[13A\u001b[2K\u001b[16A\u001b[2K\u001b[13A\u001b[2K\u001b[16A\u001b[2K\u001b[22A\u001b[2K\u001b[15A\u001b[2K\u001b[22A\u001b[2K\u001b[16A\u001b[2K\u001b[12A\u001b[2K\u001b[25A\u001b[2K\u001b[25A\u001b[2K\u001b[22A\u001b[2K\u001b[25A\u001b[2K\u001b[22A\u001b[2K\u001b[12A\u001b[2K\u001b[22A\u001b[2K\u001b[16A\u001b[2K\u001b[25A\u001b[2K\u001b[9A\u001b[2K\u001b[11A\u001b[2K\u001b[22A\u001b[2K\u001b[10A\u001b[2K\u001b[25A\u001b[2K\u001b[8A\u001b[2K\u001b[25A\u001b[2K\u001b[7A\u001b[2K\u001b[9A\u001b[2K\u001b[25A\u001b[2K\u001b[25A\u001b[2K\u001b[8A\u001b[2K\u001b[6A\u001b[2K\u001b[8A\u001b[2K\u001b[6A\u001b[2K\u001b[8A\u001b[2K\u001b[22A\u001b[2K\u001b[8A\u001b[2K\u001b[22A\u001b[2K\u001b[25A\u001b[2K\u001b[6A\u001b[2K\u001b[25A\u001b[2K\u001b[6A\u001b[2K\u001b[25A\u001b[2K\u001b[22A\u001b[2K\u001b[25A\u001b[2K\u001b[6A\u001b[2K\u001b[8A\u001b[2K\u001b[6A\u001b[2K\u001b[8A\u001b[2K\u001b[5A\u001b[2K\u001b[22A\u001b[2K\u001b[8A\u001b[2K\u001b[25A\u001b[2K\u001b[22A\u001b[2K\u001b[25A\u001b[2K\u001b[6A\u001b[2K\u001b[25A\u001b[2K\u001b[8A\u001b[2K\u001b[25A\u001b[2K\u001b[8A\u001b[2K\u001b[5A\u001b[2K\u001b[22A\u001b[2K\u001b[5A\u001b[2K\u001b[25A\u001b[2K\u001b[22A\u001b[2K\u001b[25A\u001b[2K\u001b[22A\u001b[2K\u001b[25A\u001b[2K\u001b[8A\u001b[2K\u001b[25A\u001b[2K\u001b[8A\u001b[2K\u001b[5A\u001b[2K\u001b[8A\u001b[2K\u001b[5A\u001b[2K\u001b[8A\u001b[2K\u001b[25A\u001b[2K\u001b[5A\u001b[2K\u001b[22A\u001b[2K\u001b[5A\u001b[2K\u001b[22A\u001b[2K\u001b[5A\u001b[2K\u001b[22A\u001b[2K\u001b[5A\u001b[2K\u001b[22A\u001b[2K\u001b[25A\u001b[2K\u001b[5A\u001b[2K\u001b[22A\u001b[2K\u001b[5A\u001b[2K\u001b[22A\u001b[2K\u001b[5A\u001b[2K\u001b[22A\u001b[2K\u001b[25A\u001b[2K\u001b[22A\u001b[2K\u001b[6A\u001b[2K\u001b[22A\u001b[2K\u001b[25A\u001b[2K\u001b[22A\u001b[2K\u001b[25A\u001b[2K\u001b[8A\u001b[2K\u001b[25A\u001b[2K\u001b[8A\u001b[2K\u001b[22A\u001b[2K\u001b[8A\u001b[2K\u001b[22A\u001b[2K\u001b[8A\u001b[2K\u001b[6A\u001b[2K\u001b[8A\u001b[2K\u001b[6A\u001b[2K\u001b[22A\u001b[2K\u001b[25A\u001b[2K\u001b[22A\u001b[2K\u001b[25A\u001b[2K\u001b[8A\u001b[2K\u001b[6A\u001b[2K\u001b[8A\u001b[2K\u001b[4A\u001b[2K\u001b[8A\u001b[2K\u001b[4A\u001b[2K\u001b[8A\u001b[2K\u001b[25A\u001b[2K\u001b[6A\u001b[2K\u001b[25A\u001b[2K\u001b[22A\u001b[2K\u001b[4A\u001b[2K\u001b[8A\u001b[2K\u001b[22A\u001b[2K\u001b[8A\u001b[2K\u001b[22A\u001b[2K\u001b[25A\u001b[2K\u001b[22A\u001b[2K\u001b[25A\u001b[2K\u001b[6A\u001b[2K\u001b[6A\u001b[2K\u001b[25A\u001b[2K\u001b[6A\u001b[2K\u001b[22A\u001b[2K\u001b[6A\u001b[2K\u001b[8A\u001b[2K\u001b[6A\u001b[2K\u001b[8A\u001b[2K\u001b[25A\u001b[2K\u001b[6A\u001b[2K\u001b[8A\u001b[2K\u001b[6A\u001b[2K\u001b[4A\u001b[2K\u001b[22A\u001b[2K\u001b[22A\u001b[2K\u001b[8A\u001b[2K\u001b[6A\u001b[2K\u001b[4A\u001b[2K\u001b[6A\u001b[2K\u001b[22A\u001b[2K\u001b[8A\u001b[2K\u001b[22A\u001b[2K\u001b[25A\u001b[2K\u001b[6A\u001b[2K\u001b[4A\u001b[2K\u001b[6A\u001b[2K\u001b[4A\u001b[2K\u001b[8A\u001b[2K\u001b[6A\u001b[2K\u001b[8A\u001b[2K\u001b[22A\u001b[2K\u001b[6A\u001b[2K\u001b[22A\u001b[2K\u001b[6A\u001b[2K\u001b[6A\u001b[2K\u001b[8A\u001b[2K\u001b[6A\u001b[2K\u001b[22A\u001b[2K\u001b[4A\u001b[2K\u001b[8A\u001b[2K\u001b[4A\u001b[2K\u001b[6A\u001b[2K\u001b[4A\u001b[2K\u001b[6A\u001b[2K\u001b[25A\u001b[2K\u001b[4A\u001b[2K\u001b[8A\u001b[2K\u001b[25A\u001b[2K\u001b[4A\u001b[2K\u001b[25A\u001b[2K\u001b[6A\u001b[2K\u001b[4A\u001b[2K\u001b[8A\u001b[2K\u001b[22A\u001b[2K\u001b[25A\u001b[2K\u001b[6A\u001b[2K\u001b[25A\u001b[2K\u001b[8A\u001b[2K\u001b[4A\u001b[2K\u001b[25A\u001b[2K\u001b[6A\u001b[2K\u001b[4A\u001b[2K\u001b[6A\u001b[2K\u001b[8A\u001b[2K\u001b[6A\u001b[2K\u001b[25A\u001b[2K\u001b[6A\u001b[2K\u001b[8A\u001b[2K\u001b[4A\u001b[2K\u001b[8A\u001b[2K\u001b[25A\u001b[2K\u001b[22A\u001b[2K\u001b[8A\u001b[2K\u001b[4A\u001b[2K\u001b[25A\u001b[2K\u001b[4A\u001b[2K\u001b[22A\u001b[2K\u001b[4A\u001b[2K\u001b[8A\u001b[2K\u001b[4A\u001b[2K\u001b[22A\u001b[2K\u001b[4A\u001b[2K\u001b[8A\u001b[2K\u001b[6A\u001b[2K\u001b[25A\u001b[2K\u001b[4A\u001b[2K\u001b[8A\u001b[2K\u001b[22A\u001b[2K\u001b[6A\u001b[2K\u001b[22A\u001b[2K\u001b[8A\u001b[2K\u001b[22A\u001b[2K\u001b[6A\u001b[2K\u001b[25A\u001b[2K\u001b[4A\u001b[2K\u001b[25A\u001b[2K\u001b[8A\u001b[2K\u001b[4A\u001b[2K\u001b[8A\u001b[2K\u001b[4A\u001b[2K\u001b[6A\u001b[2K\u001b[22A\u001b[2K\u001b[25A\u001b[2K\u001b[8A\u001b[2K\u001b[25A\u001b[2K\u001b[22A\u001b[2K\u001b[25A\u001b[2K\u001b[4A\u001b[2K\u001b[25A\u001b[2K\u001b[8A\u001b[2K\u001b[6A\u001b[2K\u001b[25A\u001b[2K\u001b[4A\u001b[2K\u001b[6A\u001b[2K\u001b[22A\u001b[2K\u001b[25A\u001b[2K\u001b[4A\u001b[2K\u001b[22A\u001b[2K\u001b[8A\u001b[2K\u001b[4A\u001b[2K\u001b[8A\u001b[2K\u001b[4A\u001b[2K\u001b[8A\u001b[2K\u001b[6A\u001b[2K\u001b[25A\u001b[2K\u001b[25A\u001b[2K\u001b[4A\u001b[2K\u001b[25A\u001b[2K\u001b[22A\u001b[2K\u001b[8A\u001b[2K\u001b[22A\u001b[2K\u001b[4A\u001b[2K\u001b[25A\u001b[2K\u001b[8A\u001b[2K\u001b[4A\u001b[2K\u001b[6A\u001b[2K\u001b[25A\u001b[2K\u001b[8A\u001b[2K\u001b[22A\u001b[2K\u001b[8A\u001b[2K\u001b[22A\u001b[2K\u001b[25A\u001b[2K\u001b[6A\u001b[2K\u001b[22A\u001b[2K\u001b[4A\u001b[2K\u001b[25A\u001b[2K\u001b[4A\u001b[2K\u001b[25A\u001b[2K\u001b[22A\u001b[2K\u001b[4A\u001b[2K\u001b[8A\u001b[2K\u001b[6A\u001b[2K\u001b[8A\u001b[2K\u001b[4A\u001b[2K\u001b[6A\u001b[2K\u001b[4A\u001b[2K\u001b[25A\u001b[2K\u001b[8A\u001b[2K\u001b[6A\u001b[2K\u001b[22A\u001b[2K\u001b[4A\u001b[2K\u001b[22A\u001b[2K\u001b[8A\u001b[2K\u001b[22A\u001b[2K\u001b[25A\u001b[2K\u001b[8A\u001b[2K\u001b[22A\u001b[2K\u001b[25A\u001b[2K\u001b[25A\u001b[2K\u001b[4A\u001b[2K\u001b[25A\u001b[2K\u001b[25A\u001b[2K\u001b[8A\u001b[2K\u001b[25A\u001b[2K\u001b[4A\u001b[2K\u001b[25A\u001b[2K\u001b[22A\u001b[2K\u001b[25A\u001b[2K\u001b[22A\u001b[2K\u001b[4A\u001b[2K\u001b[22A\u001b[2K\u001b[4A\u001b[2K\u001b[25A\u001b[2K\u001b[8A\u001b[2K\u001b[25A\u001b[2K\u001b[22A\u001b[2K\u001b[25A\u001b[2K\u001b[22A\u001b[2K\u001b[8A\u001b[2K\u001b[22A\u001b[2K\u001b[3A\u001b[2K\u001b[8A\u001b[2K\u001b[25A\u001b[2K\u001b[4A\u001b[2K\u001b[3A\u001b[2K\u001b[4A\u001b[2K\u001b[8A\u001b[2K\u001b[25A\u001b[2K\u001b[22A\u001b[2K\u001b[25A\u001b[2K\u001b[4A\u001b[2K\u001b[25A\u001b[2K\u001b[4A\u001b[2K\u001b[25A\u001b[2K\u001b[8A\u001b[2K\u001b[25A\u001b[2K\u001b[8A\u001b[2K\u001b[25A\u001b[2K\u001b[3A\u001b[2K\u001b[25A\u001b[2K\u001b[22A\u001b[2K\u001b[8A\u001b[2K\u001b[3A\u001b[2K\u001b[25A\u001b[2K\u001b[4A\u001b[2K\u001b[25A\u001b[2K\u001b[4A\u001b[2K\u001b[25A\u001b[2K\u001b[8A\u001b[2K\u001b[4A\u001b[2K\u001b[8A\u001b[2K\u001b[4A\u001b[2K\u001b[22A\u001b[2K\u001b[25A\u001b[2K\u001b[8A\u001b[2K\u001b[25A\u001b[2K\u001b[3A\u001b[2K\u001b[22A\u001b[2K\u001b[3A\u001b[2K\u001b[4A\u001b[2K\u001b[3A\u001b[2K\u001b[3A\u001b[2K\u001b[4A\u001b[2K\u001b[22A\u001b[2K\u001b[8A\u001b[2K\u001b[4A\u001b[2K\u001b[3A\u001b[2K\u001b[25A\u001b[2KPushing  234.6MB/273.3MB\u001b[25A\u001b[2K\u001b[3A\u001b[2K\u001b[25A\u001b[2K\u001b[4A\u001b[2K\u001b[25A\u001b[2K\u001b[8A\u001b[2K\u001b[25A\u001b[2K\u001b[8A\u001b[2K\u001b[25A\u001b[2K\u001b[8A\u001b[2K\u001b[25A\u001b[2K\u001b[3A\u001b[2K\u001b[25A\u001b[2K\u001b[4A\u001b[2K\u001b[3A\u001b[2K\u001b[4A\u001b[2K\u001b[3A\u001b[2K\u001b[25A\u001b[2K\u001b[8A\u001b[2K\u001b[3A\u001b[2K\u001b[22A\u001b[2K\u001b[3A\u001b[2K\u001b[4A\u001b[2K\u001b[4A\u001b[2K\u001b[8A\u001b[2K\u001b[3A\u001b[2K\u001b[4A\u001b[2K\u001b[25A\u001b[2K\u001b[3A\u001b[2K\u001b[4A\u001b[2K\u001b[3A\u001b[2K\u001b[25A\u001b[2K\u001b[3A\u001b[2K\u001b[25A\u001b[2K\u001b[3A\u001b[2K\u001b[8A\u001b[2K\u001b[3A\u001b[2K\u001b[8A\u001b[2K\u001b[4A\u001b[2K\u001b[8A\u001b[2K\u001b[3A\u001b[2K\u001b[4A\u001b[2K\u001b[8A\u001b[2K\u001b[3A\u001b[2K\u001b[8A\u001b[2K\u001b[3A\u001b[2K\u001b[25A\u001b[2K\u001b[4A\u001b[2K\u001b[8A\u001b[2K\u001b[4A\u001b[2K\u001b[3A\u001b[2K\u001b[4A\u001b[2K\u001b[25A\u001b[2K\u001b[3A\u001b[2K\u001b[25A\u001b[2K\u001b[3A\u001b[2K\u001b[8A\u001b[2K\u001b[4A\u001b[2K\u001b[3A\u001b[2K\u001b[4A\u001b[2K\u001b[3A\u001b[2K\u001b[8A\u001b[2K\u001b[4A\u001b[2K\u001b[25A\u001b[2K\u001b[8A\u001b[2K\u001b[25A\u001b[2K\u001b[8A\u001b[2K\u001b[25A\u001b[2K\u001b[8A\u001b[2K\u001b[25A\u001b[2K\u001b[8A\u001b[2K\u001b[4A\u001b[2K\u001b[3A\u001b[2K\u001b[4A\u001b[2K\u001b[25A\u001b[2K\u001b[4A\u001b[2K\u001b[25A\u001b[2K\u001b[4A\u001b[2K\u001b[3A\u001b[2K\u001b[22A\u001b[2K\u001b[3A\u001b[2K\u001b[25A\u001b[2K\u001b[22A\u001b[2K\u001b[3A\u001b[2K\u001b[25A\u001b[2K\u001b[3A\u001b[2K\u001b[25A\u001b[2K\u001b[3A\u001b[2K\u001b[25A\u001b[2K\u001b[3A\u001b[2K\u001b[4A\u001b[2K\u001b[22A\u001b[2K\u001b[25A\u001b[2K\u001b[22A\u001b[2K\u001b[25A\u001b[2K\u001b[4A\u001b[2K\u001b[8A\u001b[2K\u001b[22A\u001b[2K\u001b[25A\u001b[2K\u001b[22A\u001b[2K\u001b[4A\u001b[2K\u001b[8A\u001b[2K\u001b[4A\u001b[2K\u001b[25A\u001b[2K\u001b[22A\u001b[2K\u001b[4A\u001b[2K\u001b[22A\u001b[2K\u001b[25A\u001b[2K\u001b[25A\u001b[2K\u001b[3A\u001b[2K\u001b[25A\u001b[2K\u001b[3A\u001b[2K\u001b[25A\u001b[2K\u001b[8A\u001b[2K\u001b[25A\u001b[2K\u001b[8A\u001b[2K\u001b[25A\u001b[2K\u001b[4A\u001b[2K\u001b[8A\u001b[2K\u001b[4A\u001b[2K\u001b[25A\u001b[2K\u001b[8A\u001b[2K\u001b[25A\u001b[2K\u001b[4A\u001b[2K\u001b[25A\u001b[2K\u001b[3A\u001b[2K\u001b[25A\u001b[2K\u001b[3A\u001b[2K\u001b[25A\u001b[2K\u001b[8A\u001b[2K\u001b[25A\u001b[2K\u001b[22A\u001b[2K\u001b[25A\u001b[2K\u001b[8A\u001b[2K\u001b[25A\u001b[2K\u001b[22A\u001b[2K\u001b[4A\u001b[2K\u001b[22A\u001b[2K\u001b[3A\u001b[2K\u001b[22A\u001b[2K\u001b[3A\u001b[2K\u001b[25A\u001b[2K\u001b[3A\u001b[2K\u001b[4A\u001b[2K\u001b[8A\u001b[2K\u001b[25A\u001b[2K\u001b[22A\u001b[2K\u001b[4A\u001b[2K\u001b[25A\u001b[2K\u001b[4A\u001b[2K\u001b[3A\u001b[2K\u001b[3A\u001b[2K\u001b[8A\u001b[2K\u001b[4A\u001b[2K\u001b[25A\u001b[2K\u001b[4A\u001b[2K\u001b[25A\u001b[2K\u001b[22A\u001b[2K\u001b[4A\u001b[2K\u001b[22A\u001b[2K\u001b[3A\u001b[2K\u001b[3A\u001b[2K\u001b[8A\u001b[2K\u001b[3A\u001b[2K\u001b[22A\u001b[2K\u001b[3A\u001b[2K\u001b[25A\u001b[2K\u001b[3A\u001b[2K\u001b[4A\u001b[2K\u001b[3A\u001b[2K\u001b[8A\u001b[2K\u001b[4A\u001b[2K\u001b[8A\u001b[2K\u001b[22A\u001b[2K\u001b[8A\u001b[2K\u001b[8A\u001b[2K\u001b[2A\u001b[2K\u001b[8A\u001b[2K\u001b[25A\u001b[2K\u001b[8A\u001b[2K\u001b[3A\u001b[2K\u001b[8A\u001b[2K\u001b[4A\u001b[2K\u001b[3A\u001b[2K\u001b[2A\u001b[2K\u001b[3A\u001b[2K\u001b[8A\u001b[2K\u001b[1A\u001b[2K\u001b[8A\u001b[2K\u001b[1A\u001b[2K\u001b[8A\u001b[2K\u001b[1A\u001b[2K\u001b[8A\u001b[2K\u001b[25A\u001b[2K\u001b[8A\u001b[2K\u001b[25A\u001b[2K\u001b[8A\u001b[2K\u001b[3A\u001b[2K\u001b[25A\u001b[2K\u001b[3A\u001b[2K\u001b[25A\u001b[2K\u001b[3A\u001b[2K\u001b[1A\u001b[2K\u001b[3A\u001b[2K\u001b[1A\u001b[2K\u001b[25A\u001b[2K\u001b[3A\u001b[2K\u001b[25A\u001b[2K\u001b[3A\u001b[2K\u001b[25A\u001b[2K\u001b[1A\u001b[2K\u001b[25A\u001b[2K\u001b[3A\u001b[2K\u001b[25A\u001b[2K\u001b[1A\u001b[2K\u001b[3A\u001b[2K\u001b[25A\u001b[2K\u001b[3A\u001b[2K\u001b[1A\u001b[2K\u001b[3A\u001b[2K\u001b[1A\u001b[2K\u001b[3A\u001b[2K\u001b[1A\u001b[2K\u001b[25A\u001b[2K\u001b[1A\u001b[2K\u001b[3A\u001b[2K\u001b[1A\u001b[2K\u001b[3A\u001b[2K\u001b[25A\u001b[2K\u001b[3A\u001b[2K\u001b[25A\u001b[2K\u001b[3A\u001b[2K\u001b[25A\u001b[2K\u001b[1A\u001b[2K\u001b[3A\u001b[2K\u001b[1A\u001b[2K\u001b[3A\u001b[2K\u001b[25A\u001b[2K\u001b[1A\u001b[2K\u001b[3A\u001b[2K\u001b[1A\u001b[2K\u001b[25A\u001b[2K\u001b[1A\u001b[2K\u001b[25A\u001b[2K\u001b[1A\u001b[2K\u001b[1A\u001b[2K\u001b[25A\u001b[2K\u001b[1A\u001b[2K\u001b[1A\u001b[2K\u001b[25A\u001b[2K\u001b[3A\u001b[2K\u001b[25A\u001b[2K\u001b[1A\u001b[2K\u001b[3A\u001b[2K\u001b[1A\u001b[2K\u001b[25A\u001b[2K\u001b[1A\u001b[2K\u001b[25A\u001b[2K\u001b[3A\u001b[2K\u001b[25A\u001b[2K\u001b[1A\u001b[2K\u001b[3A\u001b[2K\u001b[25A\u001b[2K\u001b[1A\u001b[2K\u001b[25A\u001b[2K\u001b[1A\u001b[2K\u001b[25A\u001b[2K\u001b[1A\u001b[2K\u001b[3A\u001b[2K\u001b[25A\u001b[2K\u001b[1A\u001b[2K\u001b[25A\u001b[2K\u001b[1A\u001b[2K\u001b[3A\u001b[2K\u001b[25A\u001b[2K\u001b[3A\u001b[2K\u001b[25A\u001b[2K\u001b[3A\u001b[2K\u001b[1A\u001b[2K\u001b[25A\u001b[2K\u001b[25A\u001b[2K\u001b[25A\u001b[2K\u001b[3A\u001b[2K\u001b[25A\u001b[2K\u001b[3A\u001b[2K\u001b[25A\u001b[2K\u001b[3A\u001b[2K\u001b[25A\u001b[2K\u001b[3A\u001b[2K\u001b[25A\u001b[2K\u001b[3A\u001b[2K\u001b[25A\u001b[2K\u001b[3A\u001b[2K\u001b[25A\u001b[2K\u001b[3A\u001b[2K\u001b[25A\u001b[2K\u001b[25A\u001b[2K\u001b[25A\u001b[2K\u001b[25A\u001b[2K\u001b[3A\u001b[2K\u001b[25A\u001b[2K\u001b[3A\u001b[2K\u001b[25A\u001b[2K\u001b[3A\u001b[2K\u001b[25A\u001b[2K\u001b[3A\u001b[2K\u001b[25A\u001b[2K\u001b[3A\u001b[2K\u001b[25A\u001b[2K\u001b[3A\u001b[2K\u001b[25A\u001b[2K\u001b[25A\u001b[2K\u001b[3A\u001b[2K\u001b[25A\u001b[2K\u001b[3A\u001b[2K\u001b[25A\u001b[2K\u001b[25A\u001b[2K\u001b[25A\u001b[2K\u001b[3A\u001b[2K\u001b[25A\u001b[2K\u001b[3A\u001b[2K\u001b[25A\u001b[2K\u001b[25A\u001b[2K\u001b[3A\u001b[2K\u001b[25A\u001b[2K\u001b[3A\u001b[2K\u001b[25A\u001b[2K\u001b[25A\u001b[2K\u001b[25A\u001b[2K\u001b[3A\u001b[2K\u001b[25A\u001b[2K\u001b[3A\u001b[2K\u001b[25A\u001b[2K\u001b[25A\u001b[2K\u001b[25A\u001b[2K\u001b[25A\u001b[2K\u001b[3A\u001b[2K\u001b[25A\u001b[2K\u001b[3A\u001b[2K\u001b[25A\u001b[2K\u001b[3A\u001b[2K\u001b[25A\u001b[2K\u001b[3A\u001b[2K\u001b[25A\u001b[2K\u001b[25A\u001b[2K\u001b[3A\u001b[2K\u001b[25A\u001b[2K\u001b[3A\u001b[2K\u001b[3A\u001b[2K\u001b[25A\u001b[2K\u001b[3A\u001b[2K\u001b[3A\u001b[2K\u001b[3A\u001b[2K\u001b[25A\u001b[2K\u001b[3A\u001b[2K\u001b[3A\u001b[2K\u001b[25A\u001b[2K\u001b[3A\u001b[2K\u001b[3A\u001b[2K\u001b[25A\u001b[2K\u001b[3A\u001b[2K\u001b[25A\u001b[2K\u001b[3A\u001b[2K\u001b[3A\u001b[2K\u001b[25A\u001b[2K\u001b[3A\u001b[2K\u001b[25A\u001b[2K\u001b[3A\u001b[2K\u001b[25A\u001b[2K\u001b[3A\u001b[2K\u001b[25A\u001b[2K\u001b[3A\u001b[2K\u001b[25A\u001b[2K\u001b[3A\u001b[2K\u001b[25A\u001b[2K\u001b[3A\u001b[2K\u001b[25A\u001b[2K\u001b[25A\u001b[2K\u001b[3A\u001b[2K\u001b[25A\u001b[2K\u001b[3A\u001b[2K\u001b[3A\u001b[2K\u001b[3A\u001b[2K\u001b[3A\u001b[2K\u001b[3A\u001b[2K\u001b[25A\u001b[2K\u001b[25A\u001b[2K\u001b[25A\u001b[2K\u001b[25A\u001b[2K\u001b[3A\u001b[2K\u001b[25A\u001b[2K\u001b[3A\u001b[2K\u001b[25A\u001b[2K\u001b[3A\u001b[2K\u001b[25A\u001b[2K\u001b[25A\u001b[2K\u001b[25A\u001b[2K\u001b[3A\u001b[2K\u001b[25A\u001b[2K\u001b[3A\u001b[2K\u001b[25A\u001b[2K\u001b[3A\u001b[2K\u001b[25A\u001b[2K\u001b[3A\u001b[2K\u001b[25A\u001b[2K\u001b[3A\u001b[2K\u001b[25A\u001b[2K\u001b[3A\u001b[2K\u001b[25A\u001b[2K\u001b[3A\u001b[2K\u001b[25A\u001b[2K\u001b[3A\u001b[2K\u001b[25A\u001b[2K\u001b[3A\u001b[2K\u001b[25A\u001b[2K\u001b[3A\u001b[2K\u001b[25A\u001b[2K\u001b[3A\u001b[2K\u001b[25A\u001b[2K\u001b[25A\u001b[2K\u001b[3A\u001b[2K\u001b[25A\u001b[2K\u001b[3A\u001b[2K\u001b[25A\u001b[2K\u001b[3A\u001b[2K\u001b[25A\u001b[2K\u001b[3A\u001b[2K\u001b[25A\u001b[2K\u001b[3A\u001b[2K\u001b[25A\u001b[2K\u001b[3A\u001b[2K\u001b[25A\u001b[2K\u001b[3A\u001b[2K\u001b[25A\u001b[2K\u001b[3A\u001b[2K\u001b[25A\u001b[2K\u001b[3A\u001b[2K\u001b[25A\u001b[2K\u001b[3A\u001b[2K\u001b[25A\u001b[2K\u001b[3A\u001b[2K\u001b[25A\u001b[2K\u001b[3A\u001b[2K\u001b[25A\u001b[2K\u001b[3A\u001b[2K\u001b[3A\u001b[2K\u001b[25A\u001b[2K\u001b[25A\u001b[2K\u001b[25A\u001b[2K\u001b[3A\u001b[2K\u001b[25A\u001b[2K\u001b[3A\u001b[2K\u001b[25A\u001b[2K\u001b[3A\u001b[2K\u001b[25A\u001b[2K\u001b[3A\u001b[2K\u001b[25A\u001b[2K\u001b[3A\u001b[2K\u001b[25A\u001b[2K\u001b[3A\u001b[2K\u001b[25A\u001b[2K\u001b[3A\u001b[2K\u001b[25A\u001b[2K\u001b[3A\u001b[2K\u001b[25A\u001b[2K\u001b[3A\u001b[2K\u001b[25A\u001b[2K\u001b[3A\u001b[2K\u001b[3A\u001b[2K\u001b[25A\u001b[2K\u001b[3A\u001b[2K\u001b[25A\u001b[2K\u001b[3A\u001b[2K\u001b[3A\u001b[2K\u001b[25A\u001b[2K\u001b[25A\u001b[2K\u001b[25A\u001b[2K\u001b[3A\u001b[2K\u001b[25A\u001b[2K\u001b[25A\u001b[2K\u001b[3A\u001b[2K\u001b[3A\u001b[2K\u001b[25A\u001b[2K\u001b[25A\u001b[2K\u001b[3A\u001b[2K\u001b[3A\u001b[2K\u001b[25A\u001b[2K\u001b[25A\u001b[2K\u001b[3A\u001b[2K\u001b[25A\u001b[2K\u001b[25A\u001b[2K\u001b[3A\u001b[2K\u001b[25A\u001b[2K\u001b[25A\u001b[2K\u001b[3A\u001b[2K\u001b[25A\u001b[2K\u001b[3A\u001b[2K\u001b[25A\u001b[2K\u001b[25A\u001b[2K\u001b[3A\u001b[2K\u001b[25A\u001b[2K\u001b[3A\u001b[2K\u001b[25A\u001b[2K\u001b[3A\u001b[2K\u001b[25A\u001b[2K\u001b[25A\u001b[2K\u001b[25A\u001b[2K\u001b[25A\u001b[2K\u001b[3A\u001b[2K\u001b[25A\u001b[2K\u001b[3A\u001b[2K\u001b[3A\u001b[2K\u001b[25A\u001b[2K\u001b[3A\u001b[2K\u001b[3A\u001b[2K\u001b[25A\u001b[2K\u001b[3A\u001b[2K\u001b[3A\u001b[2K\u001b[25A\u001b[2K\u001b[3A\u001b[2K\u001b[25A\u001b[2K\u001b[3A\u001b[2K\u001b[25A\u001b[2K\u001b[3A\u001b[2K\u001b[25A\u001b[2K\u001b[3A\u001b[2K\u001b[25A\u001b[2K\u001b[3A\u001b[2K\u001b[25A\u001b[2K\u001b[3A\u001b[2K\u001b[25A\u001b[2K\u001b[3A\u001b[2K\u001b[25A\u001b[2K\u001b[3A\u001b[2K\u001b[25A\u001b[2K\u001b[3A\u001b[2K\u001b[25A\u001b[2K\u001b[3A\u001b[2K\u001b[3A\u001b[2K\u001b[25A\u001b[2K\u001b[3A\u001b[2K\u001b[25A\u001b[2K\u001b[3A\u001b[2K\u001b[25A\u001b[2K\u001b[3A\u001b[2K\u001b[25A\u001b[2K\u001b[3A\u001b[2K\u001b[25A\u001b[2K\u001b[3A\u001b[2K\u001b[25A\u001b[2K\u001b[25A\u001b[2K\u001b[25A\u001b[2K\u001b[3A\u001b[2K\u001b[25A\u001b[2K\u001b[3A\u001b[2K\u001b[25A\u001b[2K\u001b[3A\u001b[2KPushing  527.7MB/648.4MB\u001b[25A\u001b[2K\u001b[25A\u001b[2K\u001b[3A\u001b[2K\u001b[25A\u001b[2K\u001b[25A\u001b[2K\u001b[3A\u001b[2K\u001b[25A\u001b[2K\u001b[3A\u001b[2K\u001b[25A\u001b[2K\u001b[3A\u001b[2K\u001b[25A\u001b[2K\u001b[25A\u001b[2K\u001b[25A\u001b[2K\u001b[25A\u001b[2K\u001b[3A\u001b[2K\u001b[3A\u001b[2KPushing    986MB/2.621GB\u001b[3A\u001b[2K\u001b[25A\u001b[2K\u001b[3A\u001b[2K\u001b[25A\u001b[2K\u001b[3A\u001b[2K\u001b[25A\u001b[2K\u001b[3A\u001b[2K\u001b[3A\u001b[2K\u001b[25A\u001b[2K\u001b[3A\u001b[2K\u001b[25A\u001b[2K\u001b[25A\u001b[2K\u001b[3A\u001b[2K\u001b[3A\u001b[2K\u001b[25A\u001b[2K\u001b[25A\u001b[2K\u001b[25A\u001b[2K\u001b[25A\u001b[2K\u001b[3A\u001b[2K\u001b[25A\u001b[2K\u001b[3A\u001b[2K\u001b[25A\u001b[2K\u001b[25A\u001b[2K\u001b[3A\u001b[2K\u001b[25A\u001b[2K\u001b[3A\u001b[2K\u001b[25A\u001b[2K\u001b[3A\u001b[2K\u001b[25A\u001b[2K\u001b[3A\u001b[2K\u001b[25A\u001b[2K\u001b[25A\u001b[2K\u001b[25A\u001b[2K\u001b[25A\u001b[2K\u001b[25A\u001b[2K\u001b[25A\u001b[2K\u001b[3A\u001b[2K\u001b[25A\u001b[2K\u001b[3A\u001b[2K\u001b[25A\u001b[2K\u001b[3A\u001b[2K\u001b[25A\u001b[2K\u001b[25A\u001b[2K\u001b[25A\u001b[2K\u001b[25A\u001b[2K\u001b[25A\u001b[2K\u001b[3A\u001b[2K\u001b[25A\u001b[2K\u001b[3A\u001b[2K\u001b[25A\u001b[2K\u001b[25A\u001b[2K\u001b[25A\u001b[2K\u001b[3A\u001b[2K\u001b[25A\u001b[2K\u001b[3A\u001b[2K\u001b[25A\u001b[2K\u001b[25A\u001b[2K\u001b[25A\u001b[2K\u001b[3A\u001b[2K\u001b[25A\u001b[2K\u001b[3A\u001b[2K\u001b[25A\u001b[2K\u001b[25A\u001b[2K\u001b[25A\u001b[2K\u001b[3A\u001b[2K\u001b[25A\u001b[2K\u001b[3A\u001b[2K\u001b[25A\u001b[2K\u001b[25A\u001b[2K\u001b[3A\u001b[2K\u001b[25A\u001b[2K\u001b[3A\u001b[2K\u001b[25A\u001b[2K\u001b[3A\u001b[2K\u001b[25A\u001b[2K\u001b[3A\u001b[2K\u001b[25A\u001b[2K\u001b[3A\u001b[2K\u001b[3A\u001b[2K\u001b[25A\u001b[2K\u001b[3A\u001b[2K\u001b[25A\u001b[2K\u001b[3A\u001b[2K\u001b[25A\u001b[2K\u001b[3A\u001b[2K\u001b[3A\u001b[2K\u001b[25A\u001b[2K\u001b[3A\u001b[2K\u001b[3A\u001b[2K\u001b[3A\u001b[2K\u001b[3A\u001b[2K\u001b[25A\u001b[2K\u001b[3A\u001b[2K\u001b[25A\u001b[2K\u001b[3A\u001b[2K\u001b[25A\u001b[2K\u001b[25A\u001b[2K\u001b[25A\u001b[2K\u001b[3A\u001b[2K\u001b[25A\u001b[2K\u001b[25A\u001b[2K\u001b[25A\u001b[2K\u001b[3A\u001b[2K\u001b[25A\u001b[2K\u001b[25A\u001b[2K\u001b[25A\u001b[2K\u001b[25A\u001b[2K\u001b[25A\u001b[2K\u001b[25A\u001b[2K\u001b[25A\u001b[2K\u001b[3A\u001b[2K\u001b[25A\u001b[2K\u001b[25A\u001b[2K\u001b[25A\u001b[2K\u001b[25A\u001b[2K\u001b[25A\u001b[2K\u001b[25A\u001b[2K\u001b[25A\u001b[2K\u001b[25A\u001b[2K\u001b[25A\u001b[2K\u001b[25A\u001b[2K\u001b[25A\u001b[2K\u001b[25A\u001b[2K\u001b[25A\u001b[2K\u001b[25A\u001b[2K\u001b[25A\u001b[2K\u001b[25A\u001b[2K\u001b[25A\u001b[2K\u001b[25A\u001b[2K\u001b[25A\u001b[2K\u001b[25A\u001b[2K\u001b[25A\u001b[2K\u001b[25A\u001b[2K\u001b[25A\u001b[2K\u001b[25A\u001b[2K\u001b[25A\u001b[2K\u001b[25A\u001b[2K\u001b[25A\u001b[2K\u001b[25A\u001b[2K\u001b[25A\u001b[2K\u001b[25A\u001b[2K\u001b[25A\u001b[2K\u001b[25A\u001b[2K\u001b[25A\u001b[2K\u001b[25A\u001b[2K\u001b[25A\u001b[2K\u001b[25A\u001b[2K\u001b[25A\u001b[2K\u001b[25A\u001b[2K\u001b[25A\u001b[2K\u001b[25A\u001b[2K\u001b[25A\u001b[2K\u001b[25A\u001b[2K\u001b[25A\u001b[2K\u001b[25A\u001b[2K\u001b[25A\u001b[2K\u001b[25A\u001b[2K\u001b[25A\u001b[2K\u001b[25A\u001b[2K\u001b[25A\u001b[2K\u001b[25A\u001b[2K\u001b[25A\u001b[2K\u001b[25A\u001b[2K\u001b[25A\u001b[2K\u001b[25A\u001b[2K\u001b[25A\u001b[2K\u001b[25A\u001b[2K\u001b[25A\u001b[2K\u001b[25A\u001b[2K\u001b[25A\u001b[2K\u001b[25A\u001b[2K\u001b[25A\u001b[2K\u001b[25A\u001b[2K\u001b[25A\u001b[2K\u001b[25A\u001b[2K\u001b[25A\u001b[2K\u001b[25A\u001b[2K\u001b[25A\u001b[2K\u001b[25A\u001b[2K\u001b[25A\u001b[2K\u001b[25A\u001b[2K\u001b[25A\u001b[2K\u001b[25A\u001b[2K\u001b[25A\u001b[2K\u001b[25A\u001b[2K\u001b[25A\u001b[2K\u001b[25A\u001b[2K\u001b[25A\u001b[2K\u001b[25A\u001b[2K\u001b[25A\u001b[2K\u001b[25A\u001b[2K\u001b[25A\u001b[2K\u001b[25A\u001b[2K\u001b[25A\u001b[2K\u001b[25A\u001b[2K\u001b[25A\u001b[2K\u001b[25A\u001b[2K\u001b[25A\u001b[2K\u001b[25A\u001b[2K\u001b[25A\u001b[2K\u001b[25A\u001b[2K\u001b[25A\u001b[2K\u001b[25A\u001b[2K\u001b[25A\u001b[2K\u001b[25A\u001b[2K\u001b[25A\u001b[2K\u001b[25A\u001b[2K\u001b[25A\u001b[2K\u001b[25A\u001b[2K\u001b[25A\u001b[2K\u001b[25A\u001b[2K\u001b[25A\u001b[2K\u001b[25A\u001b[2K\u001b[25A\u001b[2K\u001b[25A\u001b[2K\u001b[25A\u001b[2K\u001b[25A\u001b[2K\u001b[25A\u001b[2K\u001b[25A\u001b[2K\u001b[25A\u001b[2K\u001b[25A\u001b[2K\u001b[25A\u001b[2K\u001b[25A\u001b[2K\u001b[25A\u001b[2K\u001b[25A\u001b[2K\u001b[25A\u001b[2K\u001b[25A\u001b[2K\u001b[25A\u001b[2K\u001b[25A\u001b[2K\u001b[25A\u001b[2K\u001b[25A\u001b[2K\u001b[25A\u001b[2K\u001b[25A\u001b[2K\u001b[25A\u001b[2K\u001b[25A\u001b[2K\u001b[25A\u001b[2K\u001b[25A\u001b[2K\u001b[25A\u001b[2K\u001b[25A\u001b[2K\u001b[25A\u001b[2K\u001b[25A\u001b[2K\u001b[25A\u001b[2K\u001b[25A\u001b[2K\u001b[25A\u001b[2K\u001b[25A\u001b[2K\u001b[25A\u001b[2K\u001b[25A\u001b[2K\u001b[25A\u001b[2K\u001b[25A\u001b[2K\u001b[25A\u001b[2K\u001b[25A\u001b[2K\u001b[25A\u001b[2K\u001b[25A\u001b[2K\u001b[25A\u001b[2K\u001b[25A\u001b[2K\u001b[25A\u001b[2K\u001b[25A\u001b[2K\u001b[25A\u001b[2K\u001b[25A\u001b[2K\u001b[25A\u001b[2K\u001b[25A\u001b[2K\u001b[25A\u001b[2K\u001b[25A\u001b[2K\u001b[25A\u001b[2K\u001b[25A\u001b[2K\u001b[25A\u001b[2K\u001b[25A\u001b[2K\u001b[25A\u001b[2K\u001b[25A\u001b[2K\u001b[25A\u001b[2K\u001b[25A\u001b[2K\u001b[25A\u001b[2K\u001b[25A\u001b[2K\u001b[25A\u001b[2K\u001b[25A\u001b[2K\u001b[25A\u001b[2K\u001b[25A\u001b[2K\u001b[25A\u001b[2K\u001b[25A\u001b[2K\u001b[25A\u001b[2K\u001b[25A\u001b[2K\u001b[25A\u001b[2K\u001b[25A\u001b[2K\u001b[25A\u001b[2K\u001b[25A\u001b[2K\u001b[25A\u001b[2K\u001b[25A\u001b[2K\u001b[25A\u001b[2K\u001b[25A\u001b[2K\u001b[25A\u001b[2K\u001b[25A\u001b[2K\u001b[25A\u001b[2K\u001b[25A\u001b[2K\u001b[25A\u001b[2K\u001b[25A\u001b[2K\u001b[25A\u001b[2K\u001b[25A\u001b[2K\u001b[25A\u001b[2K\u001b[25A\u001b[2K\u001b[25A\u001b[2K\u001b[25A\u001b[2K\u001b[25A\u001b[2K\u001b[25A\u001b[2K\u001b[25A\u001b[2K\u001b[25A\u001b[2K\u001b[25A\u001b[2K\u001b[25A\u001b[2K\u001b[25A\u001b[2K\u001b[25A\u001b[2K\u001b[25A\u001b[2K\u001b[25A\u001b[2K\u001b[25A\u001b[2K\u001b[25A\u001b[2K\u001b[25A\u001b[2K\u001b[25A\u001b[2K\u001b[25A\u001b[2K\u001b[25A\u001b[2K\u001b[25A\u001b[2K\u001b[25A\u001b[2K\u001b[25A\u001b[2K\u001b[25A\u001b[2K\u001b[25A\u001b[2K\u001b[25A\u001b[2K\u001b[25A\u001b[2K\u001b[25A\u001b[2K\u001b[25A\u001b[2K\u001b[25A\u001b[2K\u001b[25A\u001b[2K\u001b[25A\u001b[2K\u001b[25A\u001b[2K\u001b[25A\u001b[2K\u001b[25A\u001b[2K\u001b[25A\u001b[2K\u001b[25A\u001b[2K\u001b[25A\u001b[2K\u001b[25A\u001b[2K\u001b[25A\u001b[2K\u001b[25A\u001b[2K\u001b[25A\u001b[2K\u001b[25A\u001b[2K\u001b[25A\u001b[2K\u001b[25A\u001b[2K\u001b[25A\u001b[2K\u001b[25A\u001b[2K\u001b[25A\u001b[2K\u001b[25A\u001b[2K\u001b[25A\u001b[2K\u001b[25A\u001b[2K\u001b[25A\u001b[2K\u001b[25A\u001b[2K\u001b[25A\u001b[2K\u001b[25A\u001b[2K\u001b[25A\u001b[2K\u001b[25A\u001b[2K\u001b[25A\u001b[2K\u001b[25A\u001b[2K\u001b[25A\u001b[2K\u001b[25A\u001b[2K\u001b[25A\u001b[2K\u001b[25A\u001b[2K\u001b[25A\u001b[2K\u001b[25A\u001b[2K\u001b[25A\u001b[2K\u001b[25A\u001b[2K\u001b[25A\u001b[2K\u001b[25A\u001b[2K\u001b[25A\u001b[2K\u001b[25A\u001b[2K\u001b[25A\u001b[2K\u001b[25A\u001b[2K\u001b[25A\u001b[2K\u001b[25A\u001b[2K\u001b[25A\u001b[2K\u001b[25A\u001b[2K\u001b[25A\u001b[2K\u001b[25A\u001b[2K\u001b[25A\u001b[2K\u001b[25A\u001b[2K\u001b[25A\u001b[2K\u001b[25A\u001b[2K\u001b[25A\u001b[2K\u001b[25A\u001b[2K\u001b[25A\u001b[2K\u001b[25A\u001b[2K\u001b[25A\u001b[2K\u001b[25A\u001b[2K\u001b[25A\u001b[2K\u001b[25A\u001b[2K\u001b[25A\u001b[2K\u001b[25A\u001b[2K\u001b[25A\u001b[2K\u001b[25A\u001b[2K\u001b[25A\u001b[2K\u001b[25A\u001b[2K\u001b[25A\u001b[2K\u001b[25A\u001b[2K\u001b[25A\u001b[2K\u001b[25A\u001b[2K\u001b[25A\u001b[2K\u001b[25A\u001b[2K\u001b[25A\u001b[2K\u001b[25A\u001b[2K\u001b[25A\u001b[2K\u001b[25A\u001b[2K\u001b[25A\u001b[2K\u001b[25A\u001b[2K\u001b[25A\u001b[2K\u001b[25A\u001b[2K\u001b[25A\u001b[2K\u001b[25A\u001b[2K\u001b[25A\u001b[2K\u001b[25A\u001b[2K\u001b[25A\u001b[2K\u001b[25A\u001b[2K\u001b[25A\u001b[2K\u001b[25A\u001b[2K\u001b[25A\u001b[2K\u001b[25A\u001b[2K\u001b[25A\u001b[2K\u001b[25A\u001b[2K\u001b[25A\u001b[2K\u001b[25A\u001b[2K\u001b[25A\u001b[2K\u001b[25A\u001b[2K\u001b[25A\u001b[2K\u001b[25A\u001b[2K\u001b[25A\u001b[2K\u001b[25A\u001b[2K\u001b[25A\u001b[2K\u001b[25A\u001b[2K\u001b[25A\u001b[2K\u001b[25A\u001b[2K\u001b[25A\u001b[2K\u001b[25A\u001b[2K\u001b[25A\u001b[2K\u001b[25A\u001b[2K\u001b[25A\u001b[2K\u001b[25A\u001b[2K\u001b[25A\u001b[2K\u001b[25A\u001b[2K\u001b[25A\u001b[2K\u001b[25A\u001b[2K\u001b[25A\u001b[2K\u001b[25A\u001b[2K\u001b[25A\u001b[2K\u001b[25A\u001b[2K\u001b[25A\u001b[2K\u001b[25A\u001b[2K\u001b[25A\u001b[2K\u001b[25A\u001b[2K\u001b[25A\u001b[2K\u001b[25A\u001b[2K\u001b[25A\u001b[2K\u001b[25A\u001b[2K\u001b[25A\u001b[2K\u001b[25A\u001b[2K\u001b[25A\u001b[2K\u001b[25A\u001b[2K\u001b[25A\u001b[2K\u001b[25A\u001b[2K\u001b[25A\u001b[2K\u001b[25A\u001b[2K\u001b[25A\u001b[2K\u001b[25A\u001b[2K\u001b[25A\u001b[2K\u001b[25A\u001b[2K\u001b[25A\u001b[2K\u001b[25A\u001b[2K\u001b[25A\u001b[2K\u001b[25A\u001b[2K\u001b[25A\u001b[2K\u001b[25A\u001b[2K\u001b[25A\u001b[2K\u001b[25A\u001b[2K\u001b[25A\u001b[2K\u001b[25A\u001b[2K\u001b[25A\u001b[2K\u001b[25A\u001b[2K\u001b[25A\u001b[2K\u001b[25A\u001b[2K\u001b[25A\u001b[2K\u001b[25A\u001b[2K\u001b[25A\u001b[2K\u001b[25A\u001b[2K\u001b[25A\u001b[2K\u001b[25A\u001b[2K\u001b[25A\u001b[2K\u001b[25A\u001b[2K\u001b[25A\u001b[2K\u001b[25A\u001b[2K\u001b[25A\u001b[2K\u001b[25A\u001b[2K\u001b[25A\u001b[2K\u001b[25A\u001b[2K\u001b[25A\u001b[2K\u001b[25A\u001b[2K\u001b[25A\u001b[2K\u001b[25A\u001b[2K\u001b[25A\u001b[2K\u001b[25A\u001b[2K\u001b[25A\u001b[2K\u001b[25A\u001b[2K\u001b[25A\u001b[2K\u001b[25A\u001b[2K\u001b[25A\u001b[2K\u001b[25A\u001b[2K\u001b[25A\u001b[2K\u001b[25A\u001b[2K\u001b[25A\u001b[2K\u001b[25A\u001b[2K\u001b[25A\u001b[2K\u001b[25A\u001b[2K\u001b[25A\u001b[2K\u001b[25A\u001b[2K\u001b[25A\u001b[2K\u001b[25A\u001b[2K\u001b[25A\u001b[2K\u001b[25A\u001b[2K\u001b[25A\u001b[2K\u001b[25A\u001b[2K\u001b[25A\u001b[2K\u001b[25A\u001b[2K\u001b[25A\u001b[2K\u001b[25A\u001b[2K\u001b[25A\u001b[2K\u001b[25A\u001b[2K\u001b[25A\u001b[2K\u001b[25A\u001b[2K\u001b[25A\u001b[2K\u001b[25A\u001b[2K\u001b[25A\u001b[2K\u001b[25A\u001b[2K\u001b[25A\u001b[2K\u001b[25A\u001b[2K\u001b[25A\u001b[2K\u001b[25A\u001b[2K\u001b[25A\u001b[2K\u001b[25A\u001b[2K\u001b[25A\u001b[2K\u001b[25A\u001b[2K\u001b[25A\u001b[2K\u001b[25A\u001b[2K\u001b[25A\u001b[2K\u001b[25A\u001b[2K\u001b[25A\u001b[2K\u001b[25A\u001b[2K\u001b[25A\u001b[2K\u001b[25A\u001b[2K\u001b[25A\u001b[2K\u001b[25A\u001b[2K\u001b[25A\u001b[2K\u001b[25A\u001b[2K\u001b[25A\u001b[2K\u001b[25A\u001b[2K\u001b[25A\u001b[2K\u001b[25A\u001b[2K\u001b[25A\u001b[2K\u001b[25A\u001b[2K\u001b[25A\u001b[2K\u001b[25A\u001b[2K\u001b[25A\u001b[2K\u001b[25A\u001b[2K\u001b[25A\u001b[2K\u001b[25A\u001b[2K\u001b[25A\u001b[2K\u001b[25A\u001b[2K\u001b[25A\u001b[2K\u001b[25A\u001b[2K\u001b[25A\u001b[2K\u001b[25A\u001b[2K\u001b[25A\u001b[2K\u001b[25A\u001b[2K\u001b[25A\u001b[2K\u001b[25A\u001b[2K\u001b[25A\u001b[2K\u001b[25A\u001b[2K\u001b[25A\u001b[2K\u001b[25A\u001b[2K\u001b[25A\u001b[2K\u001b[25A\u001b[2K\u001b[25A\u001b[2K\u001b[25A\u001b[2K\u001b[25A\u001b[2K\u001b[25A\u001b[2K\u001b[25A\u001b[2K\u001b[25A\u001b[2K\u001b[25A\u001b[2K\u001b[25A\u001b[2K\u001b[25A\u001b[2K\u001b[25A\u001b[2K\u001b[25A\u001b[2K\u001b[25A\u001b[2K\u001b[25A\u001b[2K\u001b[25A\u001b[2K\u001b[25A\u001b[2K\u001b[25A\u001b[2K\u001b[25A\u001b[2K\u001b[25A\u001b[2K\u001b[25A\u001b[2K\u001b[25A\u001b[2K\u001b[25A\u001b[2K\u001b[25A\u001b[2K\u001b[25A\u001b[2K\u001b[25A\u001b[2K\u001b[25A\u001b[2K\u001b[25A\u001b[2K\u001b[25A\u001b[2K\u001b[25A\u001b[2K\u001b[25A\u001b[2K\u001b[25A\u001b[2K\u001b[25A\u001b[2K\u001b[25A\u001b[2K\u001b[25A\u001b[2K\u001b[25A\u001b[2K\u001b[25A\u001b[2K\u001b[25A\u001b[2K\u001b[25A\u001b[2K\u001b[25A\u001b[2K\u001b[25A\u001b[2K\u001b[25A\u001b[2K\u001b[25A\u001b[2K\u001b[25A\u001b[2K\u001b[25A\u001b[2K\u001b[25A\u001b[2K\u001b[25A\u001b[2K\u001b[25A\u001b[2K\u001b[25A\u001b[2K\u001b[25A\u001b[2K\u001b[25A\u001b[2K\u001b[25A\u001b[2K\u001b[25A\u001b[2K\u001b[25A\u001b[2K\u001b[25A\u001b[2K\u001b[25A\u001b[2K\u001b[25A\u001b[2K\u001b[25A\u001b[2K\u001b[25A\u001b[2K\u001b[25A\u001b[2K\u001b[25A\u001b[2K\u001b[25A\u001b[2K\u001b[25A\u001b[2K\u001b[25A\u001b[2K\u001b[25A\u001b[2K\u001b[25A\u001b[2K\u001b[25A\u001b[2K\u001b[25A\u001b[2K\u001b[25A\u001b[2K\u001b[25A\u001b[2K\u001b[25A\u001b[2K\u001b[25A\u001b[2K\u001b[25A\u001b[2K\u001b[25A\u001b[2K\u001b[25A\u001b[2K\u001b[25A\u001b[2K\u001b[25A\u001b[2K\u001b[25A\u001b[2K\u001b[25A\u001b[2K\u001b[25A\u001b[2Kmondo: digest: sha256:2e9a19f5b9b4a9cd9a80aa0a885c0bb6c2c1290cdbc2e874e104d86484ad0f08 size: 5765\n"
     ]
    }
   ],
   "source": [
    "!docker push 319840978863.dkr.ecr.us-east-1.amazonaws.com/tensorflow-inference:mondo"
   ]
  },
  {
   "cell_type": "code",
   "execution_count": 33,
   "id": "9236f93b",
   "metadata": {},
   "outputs": [],
   "source": [
    "\n",
    "from sagemaker import get_execution_role\n",
    "import boto3\n",
    "import datetime\n",
    "from time import gmtime, strftime\n",
    "\n",
    "# https://docs.aws.amazon.com/sagemaker/latest/dg/realtime-endpoints-deployment.html\n",
    "\n",
    "my_session = boto3.session.Session()\n",
    "aws_region = my_session.region_name\n",
    "\n",
    "sagemaker_client = boto3.client('sagemaker', region_name=aws_region)\n",
    "\n",
    "sagemaker_role = get_execution_role()\n",
    "\n",
    "model_name = 'modelLarocca'\n",
    "\n",
    "# Create model\n",
    "create_model_response = sagemaker_client.create_model(\n",
    "    ModelName = model_name,\n",
    "    ExecutionRoleArn = sagemaker_role,\n",
    "    PrimaryContainer = {\n",
    "        'Image': '319840978863.dkr.ecr.us-east-1.amazonaws.com/tensorflow-inference:mondo',\n",
    "        'ModelDataUrl': 's3://itsar123-larocca/data/output/loan_data_model.pkl',\n",
    "    })\n",
    "\n",
    "\n"
   ]
  },
  {
   "cell_type": "code",
   "execution_count": 34,
   "id": "57b40e3f",
   "metadata": {},
   "outputs": [
    {
     "name": "stdout",
     "output_type": "stream",
     "text": [
      "Created EndpointConfig: arn:aws:sagemaker:us-east-1:319840978863:endpoint-config/prima-api-inferenza-larocca\n"
     ]
    }
   ],
   "source": [
    "# Create an endpoint config name. Here we create one based on the date  \n",
    "# so it we can search endpoints based on creation time.\n",
    "endpoint_config_name = 'prima-api-inferenza-larocca'\n",
    "\n",
    "instance_type = 'ml.p2.xlarge'\n",
    "\n",
    "endpoint_config_response = sagemaker_client.create_endpoint_config(\n",
    "    EndpointConfigName=endpoint_config_name,\n",
    "    # You will specify this name in a CreateEndpoint request.\n",
    "    # List of ProductionVariant objects, one for each model that you want to host at this endpoint.\n",
    "    ProductionVariants=[\n",
    "        {\n",
    "            \"VariantName\": \"variant1\", # The name of the production variant.\n",
    "            \"ModelName\": model_name,\n",
    "            \"InstanceType\": instance_type, # Specify the compute instance type.\n",
    "            \"InitialInstanceCount\": 1 # Number of instances to launch initially.\n",
    "        }\n",
    "    ]\n",
    ")\n",
    "\n",
    "print(f\"Created EndpointConfig: {endpoint_config_response['EndpointConfigArn']}\")\n",
    "\n",
    "# The name of the endpoint. The name must be unique within an AWS Region in your AWS account.\n",
    "endpoint_name = 'prima-api-inferenza-larocca'\n",
    "\n",
    "create_endpoint_response = sagemaker_client.create_endpoint(\n",
    "                                            EndpointName=endpoint_name, \n",
    "                                            EndpointConfigName=endpoint_config_name)\n"
   ]
  },
  {
   "cell_type": "code",
   "execution_count": 35,
   "id": "f64717cb",
   "metadata": {},
   "outputs": [
    {
     "name": "stdout",
     "output_type": "stream",
     "text": [
      "Requirement already satisfied: flask in /home/ec2-user/anaconda3/envs/python3/lib/python3.10/site-packages (3.0.3)\n",
      "Requirement already satisfied: Werkzeug>=3.0.0 in /home/ec2-user/anaconda3/envs/python3/lib/python3.10/site-packages (from flask) (3.0.4)\n",
      "Requirement already satisfied: Jinja2>=3.1.2 in /home/ec2-user/anaconda3/envs/python3/lib/python3.10/site-packages (from flask) (3.1.4)\n",
      "Requirement already satisfied: itsdangerous>=2.1.2 in /home/ec2-user/anaconda3/envs/python3/lib/python3.10/site-packages (from flask) (2.2.0)\n",
      "Requirement already satisfied: click>=8.1.3 in /home/ec2-user/anaconda3/envs/python3/lib/python3.10/site-packages (from flask) (8.1.7)\n",
      "Requirement already satisfied: blinker>=1.6.2 in /home/ec2-user/anaconda3/envs/python3/lib/python3.10/site-packages (from flask) (1.8.2)\n",
      "Requirement already satisfied: MarkupSafe>=2.0 in /home/ec2-user/anaconda3/envs/python3/lib/python3.10/site-packages (from Jinja2>=3.1.2->flask) (3.0.2)\n"
     ]
    }
   ],
   "source": [
    "!pip install flask"
   ]
  },
  {
   "cell_type": "code",
   "execution_count": null,
   "id": "8879701a",
   "metadata": {},
   "outputs": [],
   "source": []
  }
 ],
 "metadata": {
  "kernelspec": {
   "display_name": "conda_python3",
   "language": "python",
   "name": "conda_python3"
  },
  "language_info": {
   "codemirror_mode": {
    "name": "ipython",
    "version": 3
   },
   "file_extension": ".py",
   "mimetype": "text/x-python",
   "name": "python",
   "nbconvert_exporter": "python",
   "pygments_lexer": "ipython3",
   "version": "3.10.15"
  }
 },
 "nbformat": 4,
 "nbformat_minor": 5
}
