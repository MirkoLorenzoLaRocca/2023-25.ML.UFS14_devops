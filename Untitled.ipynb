{
 "cells": [
  {
   "cell_type": "code",
   "execution_count": 19,
   "id": "85df3888",
   "metadata": {},
   "outputs": [
    {
     "name": "stdout",
     "output_type": "stream",
     "text": [
      "sagemaker.config INFO - Not applying SDK defaults from location: /etc/xdg/sagemaker/config.yaml\n",
      "sagemaker.config INFO - Not applying SDK defaults from location: /home/ec2-user/.config/sagemaker/config.yaml\n"
     ]
    },
    {
     "data": {
      "text/plain": [
       "'763104351884.dkr.ecr.us-east-1.amazonaws.com/tensorflow-inference:2.12.1-cpu'"
      ]
     },
     "execution_count": 19,
     "metadata": {},
     "output_type": "execute_result"
    }
   ],
   "source": [
    "import scipy.sparse\n",
    "from sagemaker import image_uris\n",
    "image_uris.retrieve(framework='tensorflow',region='us-east-1',version='2.12.1',image_scope='inference',instance_type='ml.c5.4xlarge')"
   ]
  },
  {
   "cell_type": "code",
   "execution_count": null,
   "id": "27cf922f",
   "metadata": {},
   "outputs": [],
   "source": [
    "!aws ecr get-login-password --region us-east-1 | docker login --username AWS --password-stdin 520713654638.dkr.ecr.us-east-1.amazonaws.com"
   ]
  },
  {
   "cell_type": "code",
   "execution_count": null,
   "id": "1f8442d5",
   "metadata": {},
   "outputs": [],
   "source": [
    "!docker pull 520713654638.dkr.ecr.us-east-1.amazonaws.com/sagemaker-tensorflow-serving:1.12.0-cpu"
   ]
  },
  {
   "cell_type": "code",
   "execution_count": null,
   "id": "95e48342",
   "metadata": {},
   "outputs": [],
   "source": [
    "import scipy.sparse\n",
    "from sagemaker import image_uris\n",
    "image_uris.retrieve(framework='tensorflow',region='us-east-1',version='2.12.0',image_scope='training',instance_type='ml.c5.4xlarge')"
   ]
  },
  {
   "cell_type": "code",
   "execution_count": null,
   "id": "d4d030e3",
   "metadata": {},
   "outputs": [],
   "source": [
    "!aws ecr get-login-password --region us-east-1 | docker login --username AWS --password-stdin 763104351884.dkr.ecr.us-east-1.amazonaws.com"
   ]
  },
  {
   "cell_type": "code",
   "execution_count": null,
   "id": "8c4c7b25",
   "metadata": {},
   "outputs": [],
   "source": [
    "!docker images"
   ]
  },
  {
   "cell_type": "code",
   "execution_count": null,
   "id": "7026ca7c",
   "metadata": {},
   "outputs": [],
   "source": [
    "!docker build -t 319840978863.dkr.ecr.us-east-1.amazonaws.com/tensorflow-training:mondo -f Dockerfile.train ."
   ]
  },
  {
   "cell_type": "code",
   "execution_count": null,
   "id": "28eb5ddd",
   "metadata": {},
   "outputs": [],
   "source": [
    "!docker images"
   ]
  },
  {
   "cell_type": "code",
   "execution_count": null,
   "id": "af992ada",
   "metadata": {},
   "outputs": [],
   "source": [
    "from sagemaker import get_execution_role\n",
    "from sagemaker.estimator import Estimator\n",
    "import os\n",
    "\n",
    "role=get_execution_role()\n",
    "\n",
    "hyperparameters={'epochs': 1}\n",
    "\n",
    "estimator=Estimator(\n",
    "    image_uri='319840978863.dkr.ecr.us-east-1.amazonaws.com/tensorflow-training:mondo',\n",
    "    role=role,\n",
    "    instance_count=1,\n",
    "    instance_type='local',\n",
    "    hyperparameters=hyperparameters,\n",
    "    output_path='file://{}/data/output'.format(os.getcwd())\n",
    ")\n",
    "\n",
    "print('##### ESTIMATOR FIT STARTED')\n",
    "estimator.fit('file://{}/data/input/abalone.data'.format(os.getcwd()))\n",
    "print('##### ESTIMATOR FIT COMPLETED')"
   ]
  },
  {
   "cell_type": "code",
   "execution_count": null,
   "id": "02b90260",
   "metadata": {},
   "outputs": [],
   "source": [
    "!tar -xzf data/output/output.tar.gz"
   ]
  },
  {
   "cell_type": "code",
   "execution_count": null,
   "id": "e9728424",
   "metadata": {},
   "outputs": [],
   "source": [
    "!tar -xzf ./data/output/model.tar.gz"
   ]
  },
  {
   "cell_type": "code",
   "execution_count": null,
   "id": "cba75eb5",
   "metadata": {},
   "outputs": [],
   "source": [
    "%%sh\n",
    "# Specify an image name\n",
    "image_name=tensorflow-training\n",
    "echo \"image_name: ${image_name} ######################\"\n",
    "\n",
    "account=$(aws sts get-caller-identity --query Account --output text)\n",
    "echo \"account: ${account} ######################\"\n",
    "\n",
    "# Get the region defined in the current configuration (default to us-west-2 if none defined)\n",
    "region=$(aws configure get region)\n",
    "echo \"region: ${region} ######################\"\n",
    "\n",
    "fullname=\"${account}.dkr.ecr.${region}.amazonaws.com/${image_name}:2.12.0-cpu-py310-pluto-2\"\n",
    "echo \"fullname: ${fullname} ######################\"\n",
    "\n",
    "aws ecr describe-repositories --repository-names \"${image_name}\"\n",
    "if [ $? -ne 0 ]\n",
    "then\n",
    "aws ecr create-repository --repository-name \"${image_name}\"\n",
    "fi"
   ]
  },
  {
   "cell_type": "code",
   "execution_count": null,
   "id": "d77423d2",
   "metadata": {},
   "outputs": [],
   "source": [
    "!aws ecr get-login-password --region us-east-1 | docker login --username AWS --password-stdin  319840978863.dkr.ecr.us-east-1.amazonaws.com"
   ]
  },
  {
   "cell_type": "code",
   "execution_count": null,
   "id": "e1bf75b3",
   "metadata": {},
   "outputs": [],
   "source": [
    "!docker images"
   ]
  },
  {
   "cell_type": "code",
   "execution_count": null,
   "id": "cda20860",
   "metadata": {},
   "outputs": [],
   "source": [
    "!docker tag ciao:mondo 319840978863.dkr.ecr.us-east-1.amazonaws.com/tensorflow-training:mondo"
   ]
  },
  {
   "cell_type": "code",
   "execution_count": null,
   "id": "66a61747",
   "metadata": {},
   "outputs": [],
   "source": [
    "!docker images"
   ]
  },
  {
   "cell_type": "code",
   "execution_count": null,
   "id": "3fe0ed16",
   "metadata": {},
   "outputs": [],
   "source": [
    "!docker push 319840978863.dkr.ecr.us-east-1.amazonaws.com/tensorflow-training:mondo"
   ]
  },
  {
   "cell_type": "code",
   "execution_count": null,
   "id": "f8a9c766",
   "metadata": {},
   "outputs": [],
   "source": [
    "from sagemaker import get_execution_role\n",
    "from sagemaker.estimator import Estimator\n",
    "import os\n",
    "\n",
    "role=get_execution_role()\n",
    "\n",
    "hyperparameters={'epochs': 1}\n",
    "\n",
    "estimator=Estimator(\n",
    "    image_uri='319840978863.dkr.ecr.us-east-1.amazonaws.com/tensorflow-training:mondo',\n",
    "    role=role,\n",
    "    instance_count=1,\n",
    "    instance_type='ml.p2.xlarge',\n",
    "    hyperparameters=hyperparameters,\n",
    "    output_path='s3://itsar123-larocca/data/output/'\n",
    ")\n",
    "\n",
    "print('##### ESTIMATOR FIT STARTED')\n",
    "estimator.fit('s3://itsar123-larocca/data/input/train.csv')\n",
    "print('##### ESTIMATOR FIT COMPLETED')"
   ]
  },
  {
   "cell_type": "code",
   "execution_count": null,
   "id": "e84ccf25",
   "metadata": {},
   "outputs": [],
   "source": [
    "!tar -xzf model.tar.gz"
   ]
  },
  {
   "cell_type": "code",
   "execution_count": null,
   "id": "4a9acb46",
   "metadata": {},
   "outputs": [],
   "source": [
    "!pip install tensorflow keras"
   ]
  },
  {
   "cell_type": "code",
   "execution_count": null,
   "id": "77d1ba62",
   "metadata": {},
   "outputs": [],
   "source": [
    "from keras import models\n",
    "model = models.load_model(\"abalone_model.keras\")"
   ]
  },
  {
   "cell_type": "code",
   "execution_count": null,
   "id": "5dbb4981",
   "metadata": {},
   "outputs": [],
   "source": [
    "from keras import models\n",
    "import numpy as np\n",
    "import json\n",
    "\n",
    "model = models.load_model(\"abalone_model.keras\")\n",
    "type(model)\n",
    "\n",
    "predict_input = np.array([[0.475,0.37,0.125,0.5095,0.2165,0.1125,0.165,9]])\n",
    "predict_result = model.predict(predict_input)\n",
    "\n",
    "json.dumps({\"predict_result\": predict_result.tolist()})"
   ]
  },
  {
   "cell_type": "code",
   "execution_count": 5,
   "id": "09724602",
   "metadata": {},
   "outputs": [
    {
     "name": "stdout",
     "output_type": "stream",
     "text": [
      "image_name: tensorflow-inference ######################\n",
      "account: 319840978863 ######################\n",
      "region: us-east-1 ######################\n",
      "fullname: 319840978863.dkr.ecr.us-east-1.amazonaws.com/tensorflow-inference:2.12.0-cpu-py310-pluto-2 ######################\n"
     ]
    },
    {
     "name": "stderr",
     "output_type": "stream",
     "text": [
      "\n",
      "An error occurred (RepositoryNotFoundException) when calling the DescribeRepositories operation: The repository with name 'tensorflow-inference' does not exist in the registry with id '319840978863'\n"
     ]
    },
    {
     "name": "stdout",
     "output_type": "stream",
     "text": [
      "{\n",
      "    \"repository\": {\n",
      "        \"repositoryArn\": \"arn:aws:ecr:us-east-1:319840978863:repository/tensorflow-inference\",\n",
      "        \"registryId\": \"319840978863\",\n",
      "        \"repositoryName\": \"tensorflow-inference\",\n",
      "        \"repositoryUri\": \"319840978863.dkr.ecr.us-east-1.amazonaws.com/tensorflow-inference\",\n",
      "        \"createdAt\": 1730815866.843,\n",
      "        \"imageTagMutability\": \"MUTABLE\",\n",
      "        \"imageScanningConfiguration\": {\n",
      "            \"scanOnPush\": false\n",
      "        },\n",
      "        \"encryptionConfiguration\": {\n",
      "            \"encryptionType\": \"AES256\"\n",
      "        }\n",
      "    }\n",
      "}\n"
     ]
    }
   ],
   "source": [
    "%%sh\n",
    "# Specify an image name\n",
    "image_name=tensorflow-inference\n",
    "echo \"image_name: ${image_name} ######################\"\n",
    "\n",
    "account=$(aws sts get-caller-identity --query Account --output text)\n",
    "echo \"account: ${account} ######################\"\n",
    "\n",
    "# Get the region defined in the current configuration (default to us-west-2 if none defined)\n",
    "region=$(aws configure get region)\n",
    "echo \"region: ${region} ######################\"\n",
    "\n",
    "fullname=\"${account}.dkr.ecr.${region}.amazonaws.com/${image_name}:2.12.0-cpu-py310-pluto-2\"\n",
    "echo \"fullname: ${fullname} ######################\"\n",
    "\n",
    "aws ecr describe-repositories --repository-names \"${image_name}\"\n",
    "if [ $? -ne 0 ]\n",
    "then\n",
    "aws ecr create-repository --repository-name \"${image_name}\"\n",
    "fi"
   ]
  },
  {
   "cell_type": "code",
   "execution_count": 21,
   "id": "d241e995",
   "metadata": {},
   "outputs": [
    {
     "name": "stdout",
     "output_type": "stream",
     "text": [
      "WARNING! Your password will be stored unencrypted in /home/ec2-user/.docker/config.json.\n",
      "Configure a credential helper to remove this warning. See\n",
      "https://docs.docker.com/engine/reference/commandline/login/#credentials-store\n",
      "\n",
      "Login Succeeded\n"
     ]
    }
   ],
   "source": [
    "!aws ecr get-login-password --region us-east-1 | docker login --username AWS --password-stdin 763104351884.dkr.ecr.us-east-1.amazonaws.com"
   ]
  },
  {
   "cell_type": "code",
   "execution_count": 24,
   "id": "daf6a615",
   "metadata": {},
   "outputs": [
    {
     "name": "stdout",
     "output_type": "stream",
     "text": [
      "\u001b[1A\u001b[1B\u001b[0G\u001b[?25l[+] Building 0.0s (0/1)                                          docker:default\n",
      " => [internal] load build definition from Dockerfile.inference             0.0s\n",
      "\u001b[?25h\u001b[1A\u001b[1A\u001b[0G\u001b[?25l[+] Building 0.1s (3/3)                                          docker:default\n",
      "\u001b[34m => [internal] load build definition from Dockerfile.inference             0.0s\n",
      "\u001b[0m\u001b[34m => => transferring dockerfile: 359B                                       0.0s\n",
      "\u001b[0m\u001b[34m => [internal] load metadata for 763104351884.dkr.ecr.us-east-1.amazonaws  0.1s\n",
      "\u001b[0m\u001b[34m => [auth] sharing credentials for 763104351884.dkr.ecr.us-east-1.amazona  0.0s\n",
      "\u001b[0m\u001b[?25h\u001b[1A\u001b[1A\u001b[1A\u001b[1A\u001b[1A\u001b[0G\u001b[?25l[+] Building 0.2s (10/10) FINISHED                               docker:default\n",
      "\u001b[34m => [internal] load build definition from Dockerfile.inference             0.0s\n",
      "\u001b[0m\u001b[34m => => transferring dockerfile: 359B                                       0.0s\n",
      "\u001b[0m\u001b[34m => [internal] load metadata for 763104351884.dkr.ecr.us-east-1.amazonaws  0.1s\n",
      "\u001b[0m\u001b[34m => [auth] sharing credentials for 763104351884.dkr.ecr.us-east-1.amazona  0.0s\n",
      "\u001b[0m\u001b[34m => [internal] load .dockerignore                                          0.0s\n",
      "\u001b[0m\u001b[34m => => transferring context: 2B                                            0.0s\n",
      "\u001b[0m\u001b[34m => [1/4] FROM 763104351884.dkr.ecr.us-east-1.amazonaws.com/tensorflow-in  0.0s\n",
      "\u001b[0m\u001b[34m => [internal] load build context                                          0.0s\n",
      "\u001b[0m\u001b[34m => => transferring context: 79B                                           0.0s\n",
      "\u001b[0m\u001b[34m => CACHED [2/4] ADD ./requirements.inference.txt /opt/requirements.txt    0.0s\n",
      "\u001b[0m\u001b[34m => CACHED [3/4] RUN pip3 install -r /opt/requirements.txt                 0.0s\n",
      "\u001b[0m\u001b[34m => CACHED [4/4] ADD ./inference.py /opt/inference.py                      0.0s\n",
      "\u001b[0m\u001b[34m => exporting to image                                                     0.0s\n",
      "\u001b[0m\u001b[34m => => exporting layers                                                    0.0s\n",
      "\u001b[0m\u001b[34m => => writing image sha256:ae845066464184eef8f4c69ad645dcfbe743ad640fdfb  0.0s\n",
      "\u001b[0m\u001b[34m => => naming to 319840978863.dkr.ecr.us-east-1.amazonaws.com/tensorflow-  0.0s\n",
      "\u001b[0m\u001b[?25h"
     ]
    }
   ],
   "source": [
    "!docker build -t 319840978863.dkr.ecr.us-east-1.amazonaws.com/tensorflow-inference:mondo -f Dockerfile.inference ."
   ]
  },
  {
   "cell_type": "code",
   "execution_count": 23,
   "id": "1c4ba0ce",
   "metadata": {},
   "outputs": [
    {
     "name": "stdout",
     "output_type": "stream",
     "text": [
      "REPOSITORY                                                          TAG       IMAGE ID       CREATED         SIZE\n",
      "319840978863.dkr.ecr.us-east-1.amazonaws.com/tensorflow-inference   mondo     cf43d8666de7   3 minutes ago   4.53GB\n",
      "319840978863.dkr.ecr.us-east-1.amazonaws.com/tensorflow-inference   <none>    6c4e927c7041   5 years ago     377MB\n"
     ]
    }
   ],
   "source": [
    "!docker images"
   ]
  },
  {
   "cell_type": "code",
   "execution_count": 12,
   "id": "25d9b0d8",
   "metadata": {},
   "outputs": [
    {
     "name": "stdout",
     "output_type": "stream",
     "text": [
      "WARNING! Your password will be stored unencrypted in /home/ec2-user/.docker/config.json.\n",
      "Configure a credential helper to remove this warning. See\n",
      "https://docs.docker.com/engine/reference/commandline/login/#credentials-store\n",
      "\n",
      "Login Succeeded\n"
     ]
    }
   ],
   "source": [
    "!aws ecr get-login-password --region us-east-1 | docker login --username AWS --password-stdin 319840978863.dkr.ecr.us-east-1.amazonaws.com"
   ]
  },
  {
   "cell_type": "code",
   "execution_count": 25,
   "id": "d5c73ca0",
   "metadata": {},
   "outputs": [
    {
     "name": "stdout",
     "output_type": "stream",
     "text": [
      "The push refers to repository [319840978863.dkr.ecr.us-east-1.amazonaws.com/tensorflow-inference]\n",
      "\n",
      "\u001b[1B937cf7ff: Preparing \n",
      "\u001b[1B0d089e66: Preparing \n",
      "\u001b[1Bc8bc0dda: Preparing \n",
      "\u001b[1B37bf1d61: Preparing \n",
      "\u001b[1B8df97c44: Preparing \n",
      "\u001b[1B764747b4: Preparing \n",
      "\u001b[1B1a68f579: Preparing \n",
      "\u001b[1B2eef5eea: Preparing \n",
      "\u001b[1Bb5bcc575: Preparing \n",
      "\u001b[1B5e5ce62f: Preparing \n",
      "\u001b[1B757a305d: Preparing \n",
      "\u001b[1Bc7cf6f28: Preparing \n",
      "\u001b[1B30092134: Preparing \n",
      "\u001b[1Bfb153852: Preparing \n",
      "\u001b[1B0903db8c: Preparing \n",
      "\u001b[1B19dec72a: Preparing \n",
      "\u001b[1Bdf04f233: Preparing \n",
      "\u001b[1Bf2dbc490: Preparing \n",
      "\u001b[1Bba0431f9: Preparing \n",
      "\u001b[1B71536788: Preparing \n",
      "\u001b[1B994107ae: Preparing \n",
      "\u001b[1B3a4f83e7: Preparing \n",
      "\u001b[1Bd6748243: Preparing \n",
      "\u001b[1Bf2c1e372: Preparing \n",
      "\u001b[1Bcd2b5d6d: Preparing \n",
      "\u001b[25Bd089e66: Pushed   2.641GB/2.621GB5A\u001b[2K\u001b[22A\u001b[2K\u001b[25A\u001b[2K\u001b[22A\u001b[2K\u001b[25A\u001b[2K\u001b[22A\u001b[2K\u001b[25A\u001b[2K\u001b[26A\u001b[2K\u001b[25A\u001b[2K\u001b[21A\u001b[2K\u001b[20A\u001b[2K\u001b[25A\u001b[2K\u001b[25A\u001b[2K\u001b[22A\u001b[2K\u001b[25A\u001b[2K\u001b[22A\u001b[2K\u001b[19A\u001b[2K\u001b[18A\u001b[2K\u001b[22A\u001b[2K\u001b[18A\u001b[2K\u001b[17A\u001b[2K\u001b[18A\u001b[2K\u001b[18A\u001b[2K\u001b[25A\u001b[2K\u001b[22A\u001b[2K\u001b[22A\u001b[2K\u001b[16A\u001b[2K\u001b[18A\u001b[2K\u001b[15A\u001b[2K\u001b[16A\u001b[2K\u001b[14A\u001b[2K\u001b[15A\u001b[2K\u001b[15A\u001b[2K\u001b[25A\u001b[2K\u001b[15A\u001b[2K\u001b[16A\u001b[2K\u001b[15A\u001b[2K\u001b[16A\u001b[2K\u001b[15A\u001b[2K\u001b[22A\u001b[2K\u001b[15A\u001b[2K\u001b[16A\u001b[2K\u001b[15A\u001b[2K\u001b[14A\u001b[2K\u001b[22A\u001b[2K\u001b[25A\u001b[2K\u001b[16A\u001b[2K\u001b[13A\u001b[2K\u001b[16A\u001b[2K\u001b[22A\u001b[2K\u001b[25A\u001b[2K\u001b[22A\u001b[2K\u001b[25A\u001b[2K\u001b[13A\u001b[2K\u001b[22A\u001b[2K\u001b[13A\u001b[2K\u001b[22A\u001b[2K\u001b[12A\u001b[2K\u001b[25A\u001b[2K\u001b[22A\u001b[2K\u001b[16A\u001b[2K\u001b[22A\u001b[2K\u001b[13A\u001b[2K\u001b[12A\u001b[2K\u001b[25A\u001b[2K\u001b[11A\u001b[2K\u001b[25A\u001b[2K\u001b[22A\u001b[2K\u001b[25A\u001b[2K\u001b[22A\u001b[2K\u001b[25A\u001b[2K\u001b[22A\u001b[2K\u001b[11A\u001b[2K\u001b[22A\u001b[2K\u001b[16A\u001b[2K\u001b[9A\u001b[2K\u001b[22A\u001b[2K\u001b[25A\u001b[2K\u001b[22A\u001b[2K\u001b[25A\u001b[2K\u001b[22A\u001b[2K\u001b[8A\u001b[2K\u001b[9A\u001b[2K\u001b[7A\u001b[2K\u001b[25A\u001b[2K\u001b[22A\u001b[2K\u001b[8A\u001b[2K\u001b[22A\u001b[2K\u001b[5A\u001b[2K\u001b[6A\u001b[2K\u001b[25A\u001b[2K\u001b[6A\u001b[2K\u001b[25A\u001b[2K\u001b[6A\u001b[2K\u001b[5A\u001b[2K\u001b[25A\u001b[2K\u001b[6A\u001b[2K\u001b[22A\u001b[2K\u001b[6A\u001b[2K\u001b[6A\u001b[2K\u001b[8A\u001b[2K\u001b[22A\u001b[2K\u001b[5A\u001b[2K\u001b[8A\u001b[2K\u001b[22A\u001b[2K\u001b[6A\u001b[2K\u001b[8A\u001b[2K\u001b[25A\u001b[2K\u001b[6A\u001b[2K\u001b[22A\u001b[2K\u001b[6A\u001b[2K\u001b[8A\u001b[2K\u001b[25A\u001b[2K\u001b[6A\u001b[2K\u001b[8A\u001b[2K\u001b[22A\u001b[2K\u001b[8A\u001b[2K\u001b[5A\u001b[2K\u001b[22A\u001b[2K\u001b[8A\u001b[2K\u001b[22A\u001b[2K\u001b[22A\u001b[2K\u001b[8A\u001b[2K\u001b[22A\u001b[2K\u001b[5A\u001b[2K\u001b[22A\u001b[2K\u001b[25A\u001b[2K\u001b[8A\u001b[2K\u001b[22A\u001b[2K\u001b[6A\u001b[2K\u001b[25A\u001b[2K\u001b[22A\u001b[2K\u001b[25A\u001b[2K\u001b[5A\u001b[2K\u001b[6A\u001b[2K\u001b[5A\u001b[2K\u001b[6A\u001b[2K\u001b[22A\u001b[2K\u001b[25A\u001b[2K\u001b[22A\u001b[2K\u001b[25A\u001b[2K\u001b[6A\u001b[2K\u001b[22A\u001b[2K\u001b[8A\u001b[2K\u001b[6A\u001b[2K\u001b[22A\u001b[2K\u001b[8A\u001b[2K\u001b[22A\u001b[2K\u001b[8A\u001b[2K\u001b[25A\u001b[2K\u001b[6A\u001b[2K\u001b[25A\u001b[2K\u001b[8A\u001b[2K\u001b[8A\u001b[2K\u001b[22A\u001b[2K\u001b[8A\u001b[2K\u001b[4A\u001b[2K\u001b[8A\u001b[2K\u001b[4A\u001b[2K\u001b[22A\u001b[2K\u001b[8A\u001b[2K\u001b[25A\u001b[2K\u001b[4A\u001b[2K\u001b[4A\u001b[2K\u001b[4A\u001b[2K\u001b[25A\u001b[2K\u001b[4A\u001b[2K\u001b[25A\u001b[2K\u001b[22A\u001b[2K\u001b[4A\u001b[2K\u001b[22A\u001b[2K\u001b[4A\u001b[2K\u001b[8A\u001b[2K\u001b[25A\u001b[2K\u001b[8A\u001b[2K\u001b[25A\u001b[2K\u001b[4A\u001b[2K\u001b[25A\u001b[2K\u001b[4A\u001b[2K\u001b[6A\u001b[2K\u001b[25A\u001b[2K\u001b[4A\u001b[2K\u001b[22A\u001b[2K\u001b[8A\u001b[2K\u001b[22A\u001b[2K\u001b[4A\u001b[2K\u001b[22A\u001b[2K\u001b[4A\u001b[2K\u001b[22A\u001b[2K\u001b[25A\u001b[2K\u001b[8A\u001b[2K\u001b[25A\u001b[2K\u001b[4A\u001b[2K\u001b[25A\u001b[2K\u001b[8A\u001b[2K\u001b[4A\u001b[2K\u001b[22A\u001b[2K\u001b[4A\u001b[2K\u001b[25A\u001b[2K\u001b[4A\u001b[2K\u001b[8A\u001b[2K\u001b[25A\u001b[2K\u001b[22A\u001b[2K\u001b[8A\u001b[2K\u001b[22A\u001b[2K\u001b[4A\u001b[2K\u001b[25A\u001b[2K\u001b[22A\u001b[2K\u001b[25A\u001b[2K\u001b[22A\u001b[2K\u001b[4A\u001b[2K\u001b[22A\u001b[2K\u001b[4A\u001b[2K\u001b[22A\u001b[2K\u001b[25A\u001b[2K\u001b[8A\u001b[2K\u001b[25A\u001b[2K\u001b[22A\u001b[2K\u001b[25A\u001b[2K\u001b[22A\u001b[2K\u001b[25A\u001b[2K\u001b[8A\u001b[2K\u001b[22A\u001b[2K\u001b[25A\u001b[2K\u001b[4A\u001b[2K\u001b[8A\u001b[2K\u001b[4A\u001b[2K\u001b[25A\u001b[2K\u001b[8A\u001b[2K\u001b[25A\u001b[2K\u001b[8A\u001b[2K\u001b[25A\u001b[2K\u001b[6A\u001b[2K\u001b[4A\u001b[2K\u001b[22A\u001b[2K\u001b[4A\u001b[2K\u001b[22A\u001b[2K\u001b[4A\u001b[2K\u001b[8A\u001b[2K\u001b[4A\u001b[2K\u001b[25A\u001b[2K\u001b[22A\u001b[2K\u001b[4A\u001b[2K\u001b[6A\u001b[2K\u001b[4A\u001b[2K\u001b[22A\u001b[2K\u001b[8A\u001b[2K\u001b[22A\u001b[2K\u001b[25A\u001b[2K\u001b[8A\u001b[2K\u001b[25A\u001b[2K\u001b[8A\u001b[2K\u001b[25A\u001b[2K\u001b[4A\u001b[2K\u001b[25A\u001b[2K\u001b[22A\u001b[2K\u001b[8A\u001b[2K\u001b[22A\u001b[2K\u001b[8A\u001b[2K\u001b[6A\u001b[2K\u001b[25A\u001b[2K\u001b[22A\u001b[2K\u001b[6A\u001b[2K\u001b[4A\u001b[2K\u001b[22A\u001b[2K\u001b[4A\u001b[2K\u001b[22A\u001b[2K\u001b[8A\u001b[2K\u001b[6A\u001b[2K\u001b[25A\u001b[2K\u001b[4A\u001b[2K\u001b[25A\u001b[2K\u001b[6A\u001b[2K\u001b[25A\u001b[2K\u001b[6A\u001b[2K\u001b[25A\u001b[2K\u001b[6A\u001b[2K\u001b[25A\u001b[2K\u001b[4A\u001b[2K\u001b[8A\u001b[2K\u001b[6A\u001b[2K\u001b[4A\u001b[2K\u001b[8A\u001b[2K\u001b[22A\u001b[2K\u001b[8A\u001b[2K\u001b[22A\u001b[2K\u001b[8A\u001b[2K\u001b[6A\u001b[2K\u001b[4A\u001b[2K\u001b[25A\u001b[2K\u001b[6A\u001b[2K\u001b[25A\u001b[2K\u001b[6A\u001b[2K\u001b[25A\u001b[2K\u001b[4A\u001b[2K\u001b[25A\u001b[2K\u001b[6A\u001b[2K\u001b[25A\u001b[2K\u001b[8A\u001b[2K\u001b[4A\u001b[2K\u001b[6A\u001b[2K\u001b[25A\u001b[2K\u001b[8A\u001b[2K\u001b[4A\u001b[2K\u001b[8A\u001b[2K\u001b[4A\u001b[2K\u001b[6A\u001b[2K\u001b[8A\u001b[2K\u001b[4A\u001b[2K\u001b[8A\u001b[2K\u001b[25A\u001b[2K\u001b[25A\u001b[2K\u001b[25A\u001b[2K\u001b[6A\u001b[2K\u001b[25A\u001b[2K\u001b[22A\u001b[2K\u001b[6A\u001b[2K\u001b[8A\u001b[2K\u001b[25A\u001b[2K\u001b[4A\u001b[2K\u001b[8A\u001b[2K\u001b[4A\u001b[2K\u001b[25A\u001b[2K\u001b[22A\u001b[2K\u001b[25A\u001b[2K\u001b[4A\u001b[2K\u001b[22A\u001b[2K\u001b[4A\u001b[2K\u001b[8A\u001b[2K\u001b[4A\u001b[2K\u001b[8A\u001b[2K\u001b[22A\u001b[2K\u001b[8A\u001b[2K\u001b[4A\u001b[2K\u001b[25A\u001b[2K\u001b[6A\u001b[2K\u001b[25A\u001b[2K\u001b[6A\u001b[2K\u001b[25A\u001b[2K\u001b[8A\u001b[2K\u001b[25A\u001b[2K\u001b[8A\u001b[2K\u001b[25A\u001b[2K\u001b[6A\u001b[2K\u001b[25A\u001b[2K\u001b[22A\u001b[2K\u001b[25A\u001b[2K\u001b[22A\u001b[2K\u001b[6A\u001b[2K\u001b[22A\u001b[2K\u001b[8A\u001b[2K\u001b[4A\u001b[2K\u001b[8A\u001b[2K\u001b[6A\u001b[2K\u001b[22A\u001b[2K\u001b[6A\u001b[2KPushing  310.5MB/2.621GB\u001b[6A\u001b[2K\u001b[25A\u001b[2K\u001b[6A\u001b[2K\u001b[4A\u001b[2K\u001b[25A\u001b[2K\u001b[6A\u001b[2K\u001b[4A\u001b[2K\u001b[25A\u001b[2K\u001b[4A\u001b[2K\u001b[8A\u001b[2K\u001b[4A\u001b[2K\u001b[8A\u001b[2K\u001b[22A\u001b[2K\u001b[25A\u001b[2K\u001b[22A\u001b[2K\u001b[4A\u001b[2K\u001b[22A\u001b[2K\u001b[25A\u001b[2K\u001b[8A\u001b[2K\u001b[4A\u001b[2K\u001b[6A\u001b[2K\u001b[22A\u001b[2K\u001b[4A\u001b[2K\u001b[8A\u001b[2K\u001b[6A\u001b[2K\u001b[8A\u001b[2K\u001b[6A\u001b[2K\u001b[8A\u001b[2K\u001b[6A\u001b[2K\u001b[4A\u001b[2K\u001b[25A\u001b[2K\u001b[22A\u001b[2K\u001b[25A\u001b[2K\u001b[4A\u001b[2K\u001b[8A\u001b[2K\u001b[22A\u001b[2K\u001b[8A\u001b[2K\u001b[22A\u001b[2K\u001b[6A\u001b[2K\u001b[22A\u001b[2K\u001b[25A\u001b[2K\u001b[22A\u001b[2K\u001b[6A\u001b[2K\u001b[4A\u001b[2K\u001b[6A\u001b[2K\u001b[4A\u001b[2K\u001b[6A\u001b[2K\u001b[6A\u001b[2K\u001b[4A\u001b[2K\u001b[6A\u001b[2K\u001b[25A\u001b[2K\u001b[6A\u001b[2K\u001b[8A\u001b[2K\u001b[4A\u001b[2K\u001b[8A\u001b[2K\u001b[4A\u001b[2K\u001b[8A\u001b[2K\u001b[25A\u001b[2K\u001b[8A\u001b[2K\u001b[25A\u001b[2K\u001b[8A\u001b[2K\u001b[25A\u001b[2K\u001b[8A\u001b[2K\u001b[25A\u001b[2K\u001b[8A\u001b[2K\u001b[6A\u001b[2K\u001b[25A\u001b[2K\u001b[6A\u001b[2K\u001b[25A\u001b[2K\u001b[6A\u001b[2K\u001b[25A\u001b[2K\u001b[8A\u001b[2K\u001b[4A\u001b[2K\u001b[22A\u001b[2K\u001b[4A\u001b[2K\u001b[8A\u001b[2K\u001b[22A\u001b[2K\u001b[4A\u001b[2K\u001b[6A\u001b[2K\u001b[4A\u001b[2K\u001b[8A\u001b[2K\u001b[4A\u001b[2K\u001b[8A\u001b[2K\u001b[4A\u001b[2K\u001b[25A\u001b[2K\u001b[8A\u001b[2K\u001b[6A\u001b[2K\u001b[25A\u001b[2K\u001b[4A\u001b[2K\u001b[6A\u001b[2K\u001b[4A\u001b[2K\u001b[22A\u001b[2K\u001b[25A\u001b[2K\u001b[22A\u001b[2K\u001b[4A\u001b[2K\u001b[22A\u001b[2K\u001b[8A\u001b[2K\u001b[25A\u001b[2K\u001b[6A\u001b[2K\u001b[25A\u001b[2K\u001b[6A\u001b[2K\u001b[22A\u001b[2K\u001b[4A\u001b[2K\u001b[8A\u001b[2K\u001b[22A\u001b[2K\u001b[6A\u001b[2K\u001b[4A\u001b[2K\u001b[22A\u001b[2K\u001b[6A\u001b[2K\u001b[25A\u001b[2K\u001b[8A\u001b[2K\u001b[25A\u001b[2K\u001b[8A\u001b[2K\u001b[25A\u001b[2K\u001b[8A\u001b[2K\u001b[25A\u001b[2K\u001b[8A\u001b[2K\u001b[25A\u001b[2K\u001b[6A\u001b[2K\u001b[8A\u001b[2K\u001b[6A\u001b[2K\u001b[8A\u001b[2K\u001b[4A\u001b[2K\u001b[8A\u001b[2K\u001b[6A\u001b[2K\u001b[6A\u001b[2K\u001b[25A\u001b[2K\u001b[22A\u001b[2K\u001b[25A\u001b[2K\u001b[6A\u001b[2K\u001b[22A\u001b[2K\u001b[8A\u001b[2K\u001b[25A\u001b[2K\u001b[22A\u001b[2K\u001b[25A\u001b[2K\u001b[8A\u001b[2K\u001b[6A\u001b[2K\u001b[8A\u001b[2K\u001b[6A\u001b[2K\u001b[8A\u001b[2K\u001b[4A\u001b[2K\u001b[8A\u001b[2K\u001b[4A\u001b[2K\u001b[8A\u001b[2K\u001b[4A\u001b[2K\u001b[8A\u001b[2K\u001b[25A\u001b[2K\u001b[4A\u001b[2K\u001b[8A\u001b[2K\u001b[25A\u001b[2K\u001b[22A\u001b[2K\u001b[25A\u001b[2K\u001b[4A\u001b[2K\u001b[6A\u001b[2K\u001b[4A\u001b[2K\u001b[25A\u001b[2K\u001b[6A\u001b[2K\u001b[22A\u001b[2K\u001b[6A\u001b[2K\u001b[8A\u001b[2K\u001b[22A\u001b[2K\u001b[8A\u001b[2K\u001b[6A\u001b[2K\u001b[22A\u001b[2K\u001b[6A\u001b[2K\u001b[8A\u001b[2K\u001b[22A\u001b[2K\u001b[6A\u001b[2K\u001b[22A\u001b[2K\u001b[4A\u001b[2K\u001b[8A\u001b[2K\u001b[6A\u001b[2K\u001b[8A\u001b[2K\u001b[25A\u001b[2K\u001b[8A\u001b[2K\u001b[25A\u001b[2K\u001b[25A\u001b[2K\u001b[22A\u001b[2K\u001b[25A\u001b[2K\u001b[8A\u001b[2K\u001b[4A\u001b[2K\u001b[22A\u001b[2K\u001b[6A\u001b[2K\u001b[8A\u001b[2K\u001b[25A\u001b[2K\u001b[8A\u001b[2K\u001b[4A\u001b[2K\u001b[3A\u001b[2K\u001b[8A\u001b[2K\u001b[25A\u001b[2K\u001b[3A\u001b[2K\u001b[25A\u001b[2K\u001b[3A\u001b[2K\u001b[4A\u001b[2K\u001b[25A\u001b[2K\u001b[3A\u001b[2K\u001b[25A\u001b[2K\u001b[3A\u001b[2K\u001b[25A\u001b[2K\u001b[3A\u001b[2K\u001b[4A\u001b[2K\u001b[2A\u001b[2K\u001b[4A\u001b[2K\u001b[8A\u001b[2K\u001b[3A\u001b[2K\u001b[8A\u001b[2K\u001b[25A\u001b[2K\u001b[8A\u001b[2K\u001b[25A\u001b[2K\u001b[8A\u001b[2K\u001b[4A\u001b[2K\u001b[3A\u001b[2K\u001b[2A\u001b[2K\u001b[3A\u001b[2K\u001b[4A\u001b[2K\u001b[25A\u001b[2K\u001b[4A\u001b[2K\u001b[8A\u001b[2K\u001b[4A\u001b[2K\u001b[8A\u001b[2K\u001b[4A\u001b[2K\u001b[8A\u001b[2K\u001b[25A\u001b[2K\u001b[3A\u001b[2K\u001b[25A\u001b[2K\u001b[1A\u001b[2K\u001b[3A\u001b[2K\u001b[4A\u001b[2K\u001b[8A\u001b[2K\u001b[25A\u001b[2K\u001b[8A\u001b[2K\u001b[3A\u001b[2K\u001b[4A\u001b[2K\u001b[3A\u001b[2K\u001b[8A\u001b[2K\u001b[4A\u001b[2K\u001b[3A\u001b[2K\u001b[8A\u001b[2K\u001b[1A\u001b[2K\u001b[8A\u001b[2K\u001b[1A\u001b[2K\u001b[8A\u001b[2K\u001b[8A\u001b[2K\u001b[4A\u001b[2K\u001b[8A\u001b[2K\u001b[25A\u001b[2K\u001b[3A\u001b[2K\u001b[25A\u001b[2K\u001b[3A\u001b[2K\u001b[25A\u001b[2K\u001b[3A\u001b[2K\u001b[25A\u001b[2K\u001b[1A\u001b[2K\u001b[25A\u001b[2K\u001b[25A\u001b[2K\u001b[1A\u001b[2K\u001b[25A\u001b[2K\u001b[3A\u001b[2K\u001b[1A\u001b[2K\u001b[3A\u001b[2K\u001b[1A\u001b[2K\u001b[25A\u001b[2K\u001b[1A\u001b[2K\u001b[25A\u001b[2K\u001b[1A\u001b[2K\u001b[25A\u001b[2K\u001b[1A\u001b[2K\u001b[25A\u001b[2K\u001b[8A\u001b[2K\u001b[25A\u001b[2K\u001b[3A\u001b[2K\u001b[3A\u001b[2K\u001b[1A\u001b[2K\u001b[3A\u001b[2K\u001b[1A\u001b[2K\u001b[25A\u001b[2K\u001b[1A\u001b[2K\u001b[3A\u001b[2K\u001b[25A\u001b[2K\u001b[25A\u001b[2K\u001b[1A\u001b[2K\u001b[3A\u001b[2K\u001b[1A\u001b[2K\u001b[3A\u001b[2K\u001b[25A\u001b[2K\u001b[3A\u001b[2K\u001b[1A\u001b[2K\u001b[3A\u001b[2K\u001b[1A\u001b[2K\u001b[25A\u001b[2K\u001b[3A\u001b[2K\u001b[25A\u001b[2K\u001b[3A\u001b[2K\u001b[1A\u001b[2K\u001b[3A\u001b[2K\u001b[1A\u001b[2K\u001b[25A\u001b[2K\u001b[1A\u001b[2K\u001b[25A\u001b[2K\u001b[1A\u001b[2K\u001b[3A\u001b[2K\u001b[1A\u001b[2K\u001b[25A\u001b[2K\u001b[1A\u001b[2K\u001b[1A\u001b[2K\u001b[25A\u001b[2K\u001b[1A\u001b[2K\u001b[25A\u001b[2K\u001b[3A\u001b[2K\u001b[1A\u001b[2K\u001b[3A\u001b[2K\u001b[25A\u001b[2K\u001b[1A\u001b[2K\u001b[3A\u001b[2K\u001b[1A\u001b[2K\u001b[1A\u001b[2K\u001b[3A\u001b[2K\u001b[1A\u001b[2K\u001b[3A\u001b[2K\u001b[1A\u001b[2K\u001b[25A\u001b[2K\u001b[3A\u001b[2K\u001b[25A\u001b[2K\u001b[3A\u001b[2K\u001b[25A\u001b[2K\u001b[25A\u001b[2K\u001b[3A\u001b[2K\u001b[1A\u001b[2K\u001b[3A\u001b[2K\u001b[25A\u001b[2K\u001b[3A\u001b[2K\u001b[25A\u001b[2K\u001b[3A\u001b[2K\u001b[25A\u001b[2K\u001b[3A\u001b[2K\u001b[25A\u001b[2K\u001b[25A\u001b[2K\u001b[3A\u001b[2K\u001b[25A\u001b[2K\u001b[3A\u001b[2K\u001b[25A\u001b[2K\u001b[3A\u001b[2K\u001b[3A\u001b[2K\u001b[25A\u001b[2K\u001b[25A\u001b[2K\u001b[25A\u001b[2K\u001b[25A\u001b[2K\u001b[3A\u001b[2K\u001b[25A\u001b[2K\u001b[25A\u001b[2K\u001b[3A\u001b[2K\u001b[25A\u001b[2K\u001b[3A\u001b[2K\u001b[3A\u001b[2K\u001b[25A\u001b[2K\u001b[3A\u001b[2K\u001b[25A\u001b[2K\u001b[3A\u001b[2K\u001b[25A\u001b[2K\u001b[3A\u001b[2K\u001b[25A\u001b[2K\u001b[3A\u001b[2K\u001b[25A\u001b[2K\u001b[3A\u001b[2K\u001b[25A\u001b[2K\u001b[3A\u001b[2K\u001b[25A\u001b[2KPushing  656.4MB/2.621GB\u001b[3A\u001b[2K\u001b[25A\u001b[2K\u001b[3A\u001b[2K\u001b[25A\u001b[2K\u001b[3A\u001b[2K\u001b[25A\u001b[2K\u001b[3A\u001b[2K\u001b[25A\u001b[2K\u001b[3A\u001b[2K\u001b[25A\u001b[2K\u001b[3A\u001b[2K\u001b[25A\u001b[2K\u001b[3A\u001b[2K\u001b[25A\u001b[2K\u001b[3A\u001b[2K\u001b[25A\u001b[2K\u001b[3A\u001b[2K\u001b[3A\u001b[2K\u001b[25A\u001b[2K\u001b[3A\u001b[2K\u001b[25A\u001b[2K\u001b[25A\u001b[2K\u001b[3A\u001b[2K\u001b[25A\u001b[2K\u001b[3A\u001b[2K\u001b[25A\u001b[2K\u001b[25A\u001b[2K\u001b[25A\u001b[2K\u001b[3A\u001b[2K\u001b[25A\u001b[2K\u001b[3A\u001b[2K\u001b[25A\u001b[2K\u001b[25A\u001b[2K\u001b[25A\u001b[2K\u001b[3A\u001b[2K\u001b[25A\u001b[2K\u001b[25A\u001b[2K\u001b[3A\u001b[2K\u001b[25A\u001b[2K\u001b[25A\u001b[2K\u001b[3A\u001b[2K\u001b[25A\u001b[2K\u001b[25A\u001b[2K\u001b[3A\u001b[2K\u001b[25A\u001b[2K\u001b[3A\u001b[2K\u001b[25A\u001b[2K\u001b[3A\u001b[2K\u001b[25A\u001b[2K\u001b[3A\u001b[2K\u001b[3A\u001b[2K\u001b[25A\u001b[2K\u001b[25A\u001b[2K\u001b[3A\u001b[2K\u001b[3A\u001b[2K\u001b[25A\u001b[2K\u001b[3A\u001b[2K\u001b[3A\u001b[2K\u001b[3A\u001b[2K\u001b[3A\u001b[2K\u001b[3A\u001b[2K\u001b[25A\u001b[2K\u001b[3A\u001b[2K\u001b[25A\u001b[2K\u001b[3A\u001b[2K\u001b[25A\u001b[2K\u001b[3A\u001b[2K\u001b[25A\u001b[2K\u001b[3A\u001b[2K\u001b[25A\u001b[2K\u001b[3A\u001b[2K\u001b[25A\u001b[2K\u001b[3A\u001b[2K\u001b[3A\u001b[2K\u001b[3A\u001b[2K\u001b[25A\u001b[2K\u001b[3A\u001b[2K\u001b[25A\u001b[2K\u001b[3A\u001b[2K\u001b[3A\u001b[2K\u001b[25A\u001b[2K\u001b[3A\u001b[2K\u001b[25A\u001b[2K\u001b[3A\u001b[2K\u001b[25A\u001b[2K\u001b[3A\u001b[2K\u001b[25A\u001b[2K\u001b[3A\u001b[2K\u001b[25A\u001b[2K\u001b[3A\u001b[2K\u001b[25A\u001b[2K\u001b[3A\u001b[2K\u001b[25A\u001b[2K\u001b[3A\u001b[2K\u001b[25A\u001b[2K\u001b[3A\u001b[2K\u001b[25A\u001b[2K\u001b[3A\u001b[2K\u001b[25A\u001b[2K\u001b[25A\u001b[2K\u001b[3A\u001b[2K\u001b[25A\u001b[2K\u001b[3A\u001b[2K\u001b[25A\u001b[2K\u001b[3A\u001b[2K\u001b[25A\u001b[2K\u001b[3A\u001b[2K\u001b[25A\u001b[2K\u001b[3A\u001b[2K\u001b[25A\u001b[2K\u001b[3A\u001b[2K\u001b[25A\u001b[2K\u001b[25A\u001b[2K\u001b[3A\u001b[2K\u001b[25A\u001b[2K\u001b[3A\u001b[2K\u001b[25A\u001b[2K\u001b[3A\u001b[2K\u001b[25A\u001b[2K\u001b[3A\u001b[2K\u001b[25A\u001b[2K\u001b[3A\u001b[2K\u001b[25A\u001b[2K\u001b[3A\u001b[2K\u001b[3A\u001b[2K\u001b[25A\u001b[2K\u001b[3A\u001b[2K\u001b[25A\u001b[2K\u001b[3A\u001b[2K\u001b[25A\u001b[2K\u001b[3A\u001b[2K\u001b[25A\u001b[2K\u001b[3A\u001b[2K\u001b[3A\u001b[2K\u001b[25A\u001b[2K\u001b[3A\u001b[2K\u001b[25A\u001b[2K\u001b[3A\u001b[2K\u001b[25A\u001b[2K\u001b[25A\u001b[2K\u001b[25A\u001b[2K\u001b[25A\u001b[2K\u001b[3A\u001b[2K\u001b[25A\u001b[2K\u001b[3A\u001b[2K\u001b[25A\u001b[2K\u001b[3A\u001b[2K\u001b[25A\u001b[2K\u001b[3A\u001b[2K\u001b[25A\u001b[2K\u001b[3A\u001b[2K\u001b[25A\u001b[2K\u001b[25A\u001b[2K\u001b[25A\u001b[2K\u001b[25A\u001b[2K\u001b[3A\u001b[2K\u001b[25A\u001b[2K\u001b[3A\u001b[2K\u001b[25A\u001b[2K\u001b[3A\u001b[2K\u001b[25A\u001b[2K\u001b[3A\u001b[2K\u001b[25A\u001b[2K\u001b[3A\u001b[2K\u001b[25A\u001b[2K\u001b[3A\u001b[2K\u001b[3A\u001b[2K\u001b[25A\u001b[2K\u001b[3A\u001b[2K\u001b[25A\u001b[2K\u001b[3A\u001b[2K\u001b[25A\u001b[2K\u001b[3A\u001b[2K\u001b[25A\u001b[2K\u001b[3A\u001b[2K\u001b[3A\u001b[2K\u001b[25A\u001b[2K\u001b[3A\u001b[2K\u001b[25A\u001b[2K\u001b[3A\u001b[2K\u001b[25A\u001b[2K\u001b[3A\u001b[2K\u001b[25A\u001b[2K\u001b[3A\u001b[2K\u001b[3A\u001b[2K\u001b[25A\u001b[2K\u001b[3A\u001b[2K\u001b[25A\u001b[2K\u001b[3A\u001b[2K\u001b[25A\u001b[2K\u001b[3A\u001b[2K\u001b[25A\u001b[2K\u001b[3A\u001b[2K\u001b[25A\u001b[2K\u001b[3A\u001b[2K\u001b[3A\u001b[2K\u001b[3A\u001b[2K\u001b[25A\u001b[2K\u001b[3A\u001b[2K\u001b[25A\u001b[2K\u001b[3A\u001b[2K\u001b[3A\u001b[2K\u001b[25A\u001b[2K\u001b[25A\u001b[2K\u001b[3A\u001b[2K\u001b[3A\u001b[2K\u001b[25A\u001b[2K\u001b[3A\u001b[2K\u001b[25A\u001b[2K\u001b[3A\u001b[2K\u001b[25A\u001b[2K\u001b[25A\u001b[2K\u001b[3A\u001b[2K\u001b[25A\u001b[2K\u001b[25A\u001b[2K\u001b[3A\u001b[2K\u001b[25A\u001b[2K\u001b[3A\u001b[2K\u001b[25A\u001b[2K\u001b[25A\u001b[2K\u001b[3A\u001b[2K\u001b[25A\u001b[2K\u001b[3A\u001b[2K\u001b[25A\u001b[2K\u001b[3A\u001b[2K\u001b[25A\u001b[2K\u001b[3A\u001b[2K\u001b[25A\u001b[2K\u001b[3A\u001b[2K\u001b[25A\u001b[2K\u001b[3A\u001b[2K\u001b[3A\u001b[2K\u001b[3A\u001b[2K\u001b[25A\u001b[2K\u001b[3A\u001b[2K\u001b[3A\u001b[2K\u001b[3A\u001b[2K\u001b[25A\u001b[2K\u001b[3A\u001b[2K\u001b[25A\u001b[2K\u001b[3A\u001b[2K\u001b[3A\u001b[2K\u001b[25A\u001b[2K\u001b[3A\u001b[2K\u001b[25A\u001b[2K\u001b[3A\u001b[2K\u001b[3A\u001b[2K\u001b[3A\u001b[2K\u001b[25A\u001b[2K\u001b[3A\u001b[2K\u001b[25A\u001b[2K\u001b[3A\u001b[2K\u001b[25A\u001b[2K\u001b[3A\u001b[2K\u001b[25A\u001b[2K\u001b[3A\u001b[2K\u001b[25A\u001b[2K\u001b[3A\u001b[2K\u001b[3A\u001b[2K\u001b[25A\u001b[2K\u001b[3A\u001b[2K\u001b[3A\u001b[2K\u001b[25A\u001b[2K\u001b[3A\u001b[2K\u001b[25A\u001b[2K\u001b[3A\u001b[2K\u001b[3A\u001b[2K\u001b[25A\u001b[2K\u001b[3A\u001b[2K\u001b[25A\u001b[2K\u001b[3A\u001b[2K\u001b[25A\u001b[2K\u001b[3A\u001b[2K\u001b[25A\u001b[2K\u001b[3A\u001b[2K\u001b[25A\u001b[2K\u001b[3A\u001b[2K\u001b[25A\u001b[2K\u001b[3A\u001b[2K\u001b[3A\u001b[2K\u001b[25A\u001b[2K\u001b[3A\u001b[2K\u001b[25A\u001b[2K\u001b[3A\u001b[2K\u001b[25A\u001b[2K\u001b[3A\u001b[2K\u001b[3A\u001b[2K\u001b[3A\u001b[2K\u001b[3A\u001b[2K\u001b[25A\u001b[2K\u001b[3A\u001b[2K\u001b[25A\u001b[2K\u001b[3A\u001b[2K\u001b[25A\u001b[2K\u001b[3A\u001b[2K\u001b[25A\u001b[2K\u001b[3A\u001b[2K\u001b[3A\u001b[2K\u001b[25A\u001b[2K\u001b[3A\u001b[2K\u001b[25A\u001b[2K\u001b[3A\u001b[2K\u001b[25A\u001b[2K\u001b[25A\u001b[2K\u001b[3A\u001b[2K\u001b[25A\u001b[2K\u001b[3A\u001b[2K\u001b[25A\u001b[2K\u001b[3A\u001b[2K\u001b[25A\u001b[2K\u001b[3A\u001b[2K\u001b[25A\u001b[2K\u001b[3A\u001b[2K\u001b[25A\u001b[2K\u001b[3A\u001b[2K\u001b[25A\u001b[2K\u001b[3A\u001b[2K\u001b[25A\u001b[2K\u001b[3A\u001b[2K\u001b[3A\u001b[2K\u001b[3A\u001b[2K\u001b[25A\u001b[2K\u001b[3A\u001b[2K\u001b[25A\u001b[2K\u001b[3A\u001b[2K\u001b[25A\u001b[2K\u001b[25A\u001b[2K\u001b[3A\u001b[2K\u001b[25A\u001b[2K\u001b[3A\u001b[2K\u001b[25A\u001b[2K\u001b[25A\u001b[2K\u001b[3A\u001b[2K\u001b[25A\u001b[2K\u001b[3A\u001b[2K\u001b[25A\u001b[2K\u001b[25A\u001b[2K\u001b[25A\u001b[2K\u001b[3A\u001b[2K\u001b[25A\u001b[2K\u001b[3A\u001b[2K\u001b[25A\u001b[2K\u001b[25A\u001b[2K\u001b[3A\u001b[2K\u001b[25A\u001b[2K\u001b[3A\u001b[2K\u001b[25A\u001b[2K\u001b[3A\u001b[2K\u001b[25A\u001b[2K\u001b[3A\u001b[2K\u001b[25A\u001b[2K\u001b[3A\u001b[2K\u001b[25A\u001b[2K\u001b[3A\u001b[2K\u001b[25A\u001b[2K\u001b[3A\u001b[2K\u001b[25A\u001b[2K\u001b[3A\u001b[2K\u001b[25A\u001b[2K\u001b[3A\u001b[2K\u001b[25A\u001b[2K\u001b[3A\u001b[2K\u001b[3A\u001b[2K\u001b[25A\u001b[2K\u001b[3A\u001b[2K\u001b[25A\u001b[2K\u001b[3A\u001b[2K\u001b[25A\u001b[2K\u001b[3A\u001b[2K\u001b[25A\u001b[2K\u001b[3A\u001b[2K\u001b[25A\u001b[2K\u001b[3A\u001b[2K\u001b[25A\u001b[2K\u001b[3A\u001b[2K\u001b[25A\u001b[2K\u001b[3A\u001b[2K\u001b[25A\u001b[2K\u001b[3A\u001b[2K\u001b[3A\u001b[2K\u001b[3A\u001b[2K\u001b[25A\u001b[2K\u001b[3A\u001b[2K\u001b[25A\u001b[2K\u001b[3A\u001b[2K\u001b[25A\u001b[2K\u001b[3A\u001b[2K\u001b[25A\u001b[2K\u001b[3A\u001b[2K\u001b[3A\u001b[2K\u001b[3A\u001b[2K\u001b[25A\u001b[2K\u001b[3A\u001b[2K\u001b[25A\u001b[2K\u001b[25A\u001b[2K\u001b[3A\u001b[2K\u001b[3A\u001b[2K\u001b[3A\u001b[2K\u001b[25A\u001b[2K\u001b[25A\u001b[2K\u001b[3A\u001b[2K\u001b[25A\u001b[2K\u001b[25A\u001b[2K\u001b[3A\u001b[2K\u001b[25A\u001b[2K\u001b[3A\u001b[2K\u001b[25A\u001b[2K\u001b[3A\u001b[2K\u001b[25A\u001b[2K\u001b[3A\u001b[2K\u001b[25A\u001b[2K\u001b[3A\u001b[2K\u001b[25A\u001b[2K\u001b[3A\u001b[2K\u001b[25A\u001b[2K\u001b[3A\u001b[2K\u001b[3A\u001b[2K\u001b[25A\u001b[2K\u001b[3A\u001b[2K\u001b[25A\u001b[2K\u001b[3A\u001b[2K\u001b[3A\u001b[2K\u001b[25A\u001b[2K\u001b[25A\u001b[2K\u001b[25A\u001b[2K\u001b[3A\u001b[2K\u001b[25A\u001b[2K\u001b[3A\u001b[2K\u001b[25A\u001b[2K\u001b[3A\u001b[2K\u001b[25A\u001b[2K\u001b[3A\u001b[2K\u001b[25A\u001b[2K\u001b[3A\u001b[2K\u001b[25A\u001b[2K\u001b[3A\u001b[2K\u001b[25A\u001b[2K\u001b[3A\u001b[2K\u001b[25A\u001b[2K\u001b[3A\u001b[2K\u001b[3A\u001b[2K\u001b[25A\u001b[2K\u001b[3A\u001b[2K\u001b[25A\u001b[2K\u001b[3A\u001b[2K\u001b[3A\u001b[2K\u001b[25A\u001b[2K\u001b[3A\u001b[2K\u001b[3A\u001b[2K\u001b[25A\u001b[2K\u001b[3A\u001b[2K\u001b[25A\u001b[2K\u001b[3A\u001b[2K\u001b[25A\u001b[2K\u001b[3A\u001b[2K\u001b[3A\u001b[2K\u001b[25A\u001b[2K\u001b[3A\u001b[2K\u001b[3A\u001b[2K\u001b[3A\u001b[2K\u001b[25A\u001b[2K\u001b[3A\u001b[2K\u001b[25A\u001b[2K\u001b[3A\u001b[2K\u001b[25A\u001b[2K\u001b[3A\u001b[2K\u001b[25A\u001b[2K\u001b[3A\u001b[2K\u001b[3A\u001b[2K\u001b[25A\u001b[2K\u001b[25A\u001b[2K\u001b[3A\u001b[2K\u001b[3A\u001b[2K\u001b[25A\u001b[2K\u001b[3A\u001b[2K\u001b[25A\u001b[2K\u001b[25A\u001b[2K\u001b[25A\u001b[2K\u001b[25A\u001b[2K\u001b[25A\u001b[2K\u001b[25A\u001b[2K\u001b[25A\u001b[2K\u001b[25A\u001b[2K\u001b[25A\u001b[2K\u001b[25A\u001b[2K\u001b[25A\u001b[2K\u001b[25A\u001b[2K\u001b[25A\u001b[2K\u001b[25A\u001b[2K\u001b[25A\u001b[2K\u001b[25A\u001b[2K\u001b[25A\u001b[2K\u001b[25A\u001b[2K\u001b[25A\u001b[2K\u001b[25A\u001b[2K\u001b[25A\u001b[2K\u001b[25A\u001b[2K\u001b[25A\u001b[2K\u001b[25A\u001b[2K\u001b[25A\u001b[2K\u001b[25A\u001b[2K\u001b[25A\u001b[2K\u001b[25A\u001b[2K\u001b[25A\u001b[2K\u001b[25A\u001b[2K\u001b[25A\u001b[2K\u001b[25A\u001b[2K\u001b[25A\u001b[2K\u001b[25A\u001b[2K\u001b[25A\u001b[2K\u001b[25A\u001b[2K\u001b[25A\u001b[2K\u001b[25A\u001b[2K\u001b[25A\u001b[2K\u001b[25A\u001b[2K\u001b[25A\u001b[2K\u001b[25A\u001b[2K\u001b[25A\u001b[2K\u001b[25A\u001b[2K\u001b[25A\u001b[2K\u001b[25A\u001b[2K\u001b[25A\u001b[2K\u001b[25A\u001b[2K\u001b[25A\u001b[2K\u001b[25A\u001b[2K\u001b[25A\u001b[2K\u001b[25A\u001b[2K\u001b[25A\u001b[2K\u001b[25A\u001b[2K\u001b[25A\u001b[2K\u001b[25A\u001b[2K\u001b[25A\u001b[2K\u001b[25A\u001b[2K\u001b[25A\u001b[2K\u001b[25A\u001b[2K\u001b[25A\u001b[2K\u001b[25A\u001b[2K\u001b[25A\u001b[2K\u001b[25A\u001b[2K\u001b[25A\u001b[2K\u001b[25A\u001b[2K\u001b[25A\u001b[2K\u001b[25A\u001b[2K\u001b[25A\u001b[2K\u001b[25A\u001b[2K\u001b[25A\u001b[2K\u001b[25A\u001b[2K\u001b[25A\u001b[2K\u001b[25A\u001b[2K\u001b[25A\u001b[2K\u001b[25A\u001b[2K\u001b[25A\u001b[2K\u001b[25A\u001b[2K\u001b[25A\u001b[2K\u001b[25A\u001b[2K\u001b[25A\u001b[2K\u001b[25A\u001b[2K\u001b[25A\u001b[2K\u001b[25A\u001b[2K\u001b[25A\u001b[2K\u001b[25A\u001b[2K\u001b[25A\u001b[2K\u001b[25A\u001b[2K\u001b[25A\u001b[2K\u001b[25A\u001b[2K\u001b[25A\u001b[2K\u001b[25A\u001b[2K\u001b[25A\u001b[2K\u001b[25A\u001b[2K\u001b[25A\u001b[2K\u001b[25A\u001b[2K\u001b[25A\u001b[2K\u001b[25A\u001b[2K\u001b[25A\u001b[2K\u001b[25A\u001b[2K\u001b[25A\u001b[2K\u001b[25A\u001b[2K\u001b[25A\u001b[2K\u001b[25A\u001b[2K\u001b[25A\u001b[2K\u001b[25A\u001b[2K\u001b[25A\u001b[2K\u001b[25A\u001b[2K\u001b[25A\u001b[2K\u001b[25A\u001b[2K\u001b[25A\u001b[2K\u001b[25A\u001b[2K\u001b[25A\u001b[2K\u001b[25A\u001b[2K\u001b[25A\u001b[2K\u001b[25A\u001b[2K\u001b[25A\u001b[2K\u001b[25A\u001b[2K\u001b[25A\u001b[2K\u001b[25A\u001b[2K\u001b[25A\u001b[2K\u001b[25A\u001b[2K\u001b[25A\u001b[2K\u001b[25A\u001b[2K\u001b[25A\u001b[2K\u001b[25A\u001b[2K\u001b[25A\u001b[2K\u001b[25A\u001b[2K\u001b[25A\u001b[2K\u001b[25A\u001b[2K\u001b[25A\u001b[2K\u001b[25A\u001b[2K\u001b[25A\u001b[2K\u001b[25A\u001b[2K\u001b[25A\u001b[2K\u001b[25A\u001b[2K\u001b[25A\u001b[2K\u001b[25A\u001b[2K\u001b[25A\u001b[2K\u001b[25A\u001b[2K\u001b[25A\u001b[2K\u001b[25A\u001b[2K\u001b[25A\u001b[2K\u001b[25A\u001b[2K\u001b[25A\u001b[2K\u001b[25A\u001b[2K\u001b[25A\u001b[2K\u001b[25A\u001b[2K\u001b[25A\u001b[2K\u001b[25A\u001b[2K\u001b[25A\u001b[2K\u001b[25A\u001b[2K\u001b[25A\u001b[2K\u001b[25A\u001b[2K\u001b[25A\u001b[2K\u001b[25A\u001b[2K\u001b[25A\u001b[2K\u001b[25A\u001b[2K\u001b[25A\u001b[2K\u001b[25A\u001b[2K\u001b[25A\u001b[2K\u001b[25A\u001b[2K\u001b[25A\u001b[2K\u001b[25A\u001b[2K\u001b[25A\u001b[2K\u001b[25A\u001b[2K\u001b[25A\u001b[2K\u001b[25A\u001b[2K\u001b[25A\u001b[2K\u001b[25A\u001b[2K\u001b[25A\u001b[2K\u001b[25A\u001b[2K\u001b[25A\u001b[2K\u001b[25A\u001b[2K\u001b[25A\u001b[2K\u001b[25A\u001b[2K\u001b[25A\u001b[2K\u001b[25A\u001b[2K\u001b[25A\u001b[2K\u001b[25A\u001b[2K\u001b[25A\u001b[2K\u001b[25A\u001b[2K\u001b[25A\u001b[2K\u001b[25A\u001b[2K\u001b[25A\u001b[2K\u001b[25A\u001b[2K\u001b[25A\u001b[2K\u001b[25A\u001b[2K\u001b[25A\u001b[2K\u001b[25A\u001b[2K\u001b[25A\u001b[2K\u001b[25A\u001b[2K\u001b[25A\u001b[2K\u001b[25A\u001b[2K\u001b[25A\u001b[2K\u001b[25A\u001b[2K\u001b[25A\u001b[2K\u001b[25A\u001b[2K\u001b[25A\u001b[2K\u001b[25A\u001b[2K\u001b[25A\u001b[2K\u001b[25A\u001b[2K\u001b[25A\u001b[2K\u001b[25A\u001b[2K\u001b[25A\u001b[2K\u001b[25A\u001b[2K\u001b[25A\u001b[2K\u001b[25A\u001b[2K\u001b[25A\u001b[2K\u001b[25A\u001b[2K\u001b[25A\u001b[2K\u001b[25A\u001b[2K\u001b[25A\u001b[2K\u001b[25A\u001b[2K\u001b[25A\u001b[2K\u001b[25A\u001b[2K\u001b[25A\u001b[2K\u001b[25A\u001b[2K\u001b[25A\u001b[2K\u001b[25A\u001b[2K\u001b[25A\u001b[2K\u001b[25A\u001b[2K\u001b[25A\u001b[2K\u001b[25A\u001b[2K\u001b[25A\u001b[2K\u001b[25A\u001b[2K\u001b[25A\u001b[2K\u001b[25A\u001b[2K\u001b[25A\u001b[2K\u001b[25A\u001b[2K\u001b[25A\u001b[2K\u001b[25A\u001b[2K\u001b[25A\u001b[2K\u001b[25A\u001b[2K\u001b[25A\u001b[2K\u001b[25A\u001b[2K\u001b[25A\u001b[2K\u001b[25A\u001b[2K\u001b[25A\u001b[2K\u001b[25A\u001b[2K\u001b[25A\u001b[2K\u001b[25A\u001b[2K\u001b[25A\u001b[2K\u001b[25A\u001b[2K\u001b[25A\u001b[2K\u001b[25A\u001b[2K\u001b[25A\u001b[2K\u001b[25A\u001b[2K\u001b[25A\u001b[2K\u001b[25A\u001b[2K\u001b[25A\u001b[2K\u001b[25A\u001b[2K\u001b[25A\u001b[2K\u001b[25A\u001b[2K\u001b[25A\u001b[2K\u001b[25A\u001b[2K\u001b[25A\u001b[2K\u001b[25A\u001b[2K\u001b[25A\u001b[2K\u001b[25A\u001b[2K\u001b[25A\u001b[2K\u001b[25A\u001b[2K\u001b[25A\u001b[2K\u001b[25A\u001b[2K\u001b[25A\u001b[2K\u001b[25A\u001b[2K\u001b[25A\u001b[2K\u001b[25A\u001b[2K\u001b[25A\u001b[2K\u001b[25A\u001b[2K\u001b[25A\u001b[2K\u001b[25A\u001b[2K\u001b[25A\u001b[2K\u001b[25A\u001b[2K\u001b[25A\u001b[2K\u001b[25A\u001b[2K\u001b[25A\u001b[2K\u001b[25A\u001b[2K\u001b[25A\u001b[2K\u001b[25A\u001b[2K\u001b[25A\u001b[2K\u001b[25A\u001b[2K\u001b[25A\u001b[2K\u001b[25A\u001b[2K\u001b[25A\u001b[2K\u001b[25A\u001b[2K\u001b[25A\u001b[2K\u001b[25A\u001b[2K\u001b[25A\u001b[2K\u001b[25A\u001b[2K\u001b[25A\u001b[2K\u001b[25A\u001b[2K\u001b[25A\u001b[2K\u001b[25A\u001b[2K\u001b[25A\u001b[2K\u001b[25A\u001b[2K\u001b[25A\u001b[2K\u001b[25A\u001b[2K\u001b[25A\u001b[2K\u001b[25A\u001b[2K\u001b[25A\u001b[2K\u001b[25A\u001b[2K\u001b[25A\u001b[2K\u001b[25A\u001b[2K\u001b[25A\u001b[2K\u001b[25A\u001b[2K\u001b[25A\u001b[2K\u001b[25A\u001b[2K\u001b[25A\u001b[2K\u001b[25A\u001b[2K\u001b[25A\u001b[2K\u001b[25A\u001b[2K\u001b[25A\u001b[2K\u001b[25A\u001b[2K\u001b[25A\u001b[2K\u001b[25A\u001b[2K\u001b[25A\u001b[2K\u001b[25A\u001b[2K\u001b[25A\u001b[2K\u001b[25A\u001b[2K\u001b[25A\u001b[2K\u001b[25A\u001b[2K\u001b[25A\u001b[2K\u001b[25A\u001b[2K\u001b[25A\u001b[2K\u001b[25A\u001b[2K\u001b[25A\u001b[2K\u001b[25A\u001b[2K\u001b[25A\u001b[2K\u001b[25A\u001b[2K\u001b[25A\u001b[2K\u001b[25A\u001b[2K\u001b[25A\u001b[2K\u001b[25A\u001b[2K\u001b[25A\u001b[2K\u001b[25A\u001b[2K\u001b[25A\u001b[2K\u001b[25A\u001b[2K\u001b[25A\u001b[2K\u001b[25A\u001b[2K\u001b[25A\u001b[2K\u001b[25A\u001b[2K\u001b[25A\u001b[2K\u001b[25A\u001b[2K\u001b[25A\u001b[2K\u001b[25A\u001b[2K\u001b[25A\u001b[2K\u001b[25A\u001b[2K\u001b[25A\u001b[2K\u001b[25A\u001b[2K\u001b[25A\u001b[2K\u001b[25A\u001b[2K\u001b[25A\u001b[2K\u001b[25A\u001b[2K\u001b[25A\u001b[2K\u001b[25A\u001b[2K\u001b[25A\u001b[2K\u001b[25A\u001b[2K\u001b[25A\u001b[2K\u001b[25A\u001b[2K\u001b[25A\u001b[2K\u001b[25A\u001b[2K\u001b[25A\u001b[2K\u001b[25A\u001b[2K\u001b[25A\u001b[2K\u001b[25A\u001b[2K\u001b[25A\u001b[2K\u001b[25A\u001b[2K\u001b[25A\u001b[2K\u001b[25A\u001b[2K\u001b[25A\u001b[2K\u001b[25A\u001b[2K\u001b[25A\u001b[2K\u001b[25A\u001b[2K\u001b[25A\u001b[2K\u001b[25A\u001b[2K\u001b[25A\u001b[2K\u001b[25A\u001b[2K\u001b[25A\u001b[2K\u001b[25A\u001b[2K\u001b[25A\u001b[2K\u001b[25A\u001b[2K\u001b[25A\u001b[2K\u001b[25A\u001b[2K\u001b[25A\u001b[2K\u001b[25A\u001b[2K\u001b[25A\u001b[2K\u001b[25A\u001b[2K\u001b[25A\u001b[2K\u001b[25A\u001b[2K\u001b[25A\u001b[2K\u001b[25A\u001b[2K\u001b[25A\u001b[2K\u001b[25A\u001b[2K\u001b[25A\u001b[2K\u001b[25A\u001b[2K\u001b[25A\u001b[2K\u001b[25A\u001b[2K\u001b[25A\u001b[2K\u001b[25A\u001b[2K\u001b[25A\u001b[2K\u001b[25A\u001b[2K\u001b[25A\u001b[2K\u001b[25A\u001b[2K\u001b[25A\u001b[2K\u001b[25A\u001b[2K\u001b[25A\u001b[2K\u001b[25A\u001b[2K\u001b[25A\u001b[2K\u001b[25A\u001b[2K\u001b[25A\u001b[2K\u001b[25A\u001b[2K\u001b[25A\u001b[2K\u001b[25A\u001b[2K\u001b[25A\u001b[2K\u001b[25A\u001b[2K\u001b[25A\u001b[2K\u001b[25A\u001b[2K\u001b[25A\u001b[2K\u001b[25A\u001b[2K\u001b[25A\u001b[2K\u001b[25A\u001b[2K\u001b[25A\u001b[2K\u001b[25A\u001b[2K\u001b[25A\u001b[2K\u001b[25A\u001b[2K\u001b[25A\u001b[2K\u001b[25A\u001b[2K\u001b[25A\u001b[2K\u001b[25A\u001b[2K\u001b[25A\u001b[2K\u001b[25A\u001b[2K\u001b[25A\u001b[2K\u001b[25A\u001b[2K\u001b[25A\u001b[2K\u001b[25A\u001b[2K\u001b[25A\u001b[2K\u001b[25A\u001b[2K\u001b[25A\u001b[2K\u001b[25A\u001b[2K\u001b[25A\u001b[2K\u001b[25A\u001b[2K\u001b[25A\u001b[2K\u001b[25A\u001b[2K\u001b[25A\u001b[2K\u001b[25A\u001b[2K\u001b[25A\u001b[2K\u001b[25A\u001b[2K\u001b[25A\u001b[2K\u001b[25A\u001b[2K\u001b[25A\u001b[2K\u001b[25A\u001b[2K\u001b[25A\u001b[2K\u001b[25A\u001b[2K\u001b[25A\u001b[2K\u001b[25A\u001b[2K\u001b[25A\u001b[2K\u001b[25A\u001b[2K\u001b[25A\u001b[2K\u001b[25A\u001b[2K\u001b[25A\u001b[2K\u001b[25A\u001b[2K\u001b[25A\u001b[2K\u001b[25A\u001b[2K\u001b[25A\u001b[2K\u001b[25A\u001b[2K\u001b[25A\u001b[2K\u001b[25A\u001b[2K\u001b[25A\u001b[2K\u001b[25A\u001b[2K\u001b[25A\u001b[2K\u001b[25A\u001b[2K\u001b[25A\u001b[2K\u001b[25A\u001b[2K\u001b[25A\u001b[2K\u001b[25A\u001b[2K\u001b[25A\u001b[2K\u001b[25A\u001b[2K\u001b[25A\u001b[2K\u001b[25A\u001b[2K\u001b[25A\u001b[2K\u001b[25A\u001b[2K\u001b[25A\u001b[2K\u001b[25A\u001b[2K\u001b[25A\u001b[2K\u001b[25A\u001b[2K\u001b[25A\u001b[2K\u001b[25A\u001b[2K\u001b[25A\u001b[2K\u001b[25A\u001b[2K\u001b[25A\u001b[2K\u001b[25A\u001b[2K\u001b[25A\u001b[2K\u001b[25A\u001b[2K\u001b[25A\u001b[2K\u001b[25A\u001b[2K\u001b[25A\u001b[2K\u001b[25A\u001b[2K\u001b[25A\u001b[2K\u001b[25A\u001b[2K\u001b[25A\u001b[2K\u001b[25A\u001b[2K\u001b[25A\u001b[2K\u001b[25A\u001b[2K\u001b[25A\u001b[2Kmondo: digest: sha256:a03b90b35e34f2552b4c2163c4877e2815d2b2a536b909be8c6e3a094c192734 size: 5765\n"
     ]
    }
   ],
   "source": [
    "!docker push 319840978863.dkr.ecr.us-east-1.amazonaws.com/tensorflow-inference:mondo"
   ]
  },
  {
   "cell_type": "code",
   "execution_count": 27,
   "id": "abe2690a",
   "metadata": {},
   "outputs": [
    {
     "ename": "ClientError",
     "evalue": "An error occurred (ValidationException) when calling the CreateModel operation: Cannot create already existing model \"arn:aws:sagemaker:us-east-1:319840978863:model/training-2023-11-23-18-45-31-074\".",
     "output_type": "error",
     "traceback": [
      "\u001b[0;31m---------------------------------------------------------------------------\u001b[0m",
      "\u001b[0;31mClientError\u001b[0m                               Traceback (most recent call last)",
      "Cell \u001b[0;32mIn[27], line 18\u001b[0m\n\u001b[1;32m     15\u001b[0m model_name \u001b[38;5;241m=\u001b[39m \u001b[38;5;124m'\u001b[39m\u001b[38;5;124mtraining-2023-11-23-18-45-31-074\u001b[39m\u001b[38;5;124m'\u001b[39m\n\u001b[1;32m     17\u001b[0m \u001b[38;5;66;03m# Create model\u001b[39;00m\n\u001b[0;32m---> 18\u001b[0m create_model_response \u001b[38;5;241m=\u001b[39m \u001b[43msagemaker_client\u001b[49m\u001b[38;5;241;43m.\u001b[39;49m\u001b[43mcreate_model\u001b[49m\u001b[43m(\u001b[49m\n\u001b[1;32m     19\u001b[0m \u001b[43m    \u001b[49m\u001b[43mModelName\u001b[49m\u001b[43m \u001b[49m\u001b[38;5;241;43m=\u001b[39;49m\u001b[43m \u001b[49m\u001b[43mmodel_name\u001b[49m\u001b[43m,\u001b[49m\n\u001b[1;32m     20\u001b[0m \u001b[43m    \u001b[49m\u001b[43mExecutionRoleArn\u001b[49m\u001b[43m \u001b[49m\u001b[38;5;241;43m=\u001b[39;49m\u001b[43m \u001b[49m\u001b[43msagemaker_role\u001b[49m\u001b[43m,\u001b[49m\n\u001b[1;32m     21\u001b[0m \u001b[43m    \u001b[49m\u001b[43mPrimaryContainer\u001b[49m\u001b[43m \u001b[49m\u001b[38;5;241;43m=\u001b[39;49m\u001b[43m \u001b[49m\u001b[43m{\u001b[49m\n\u001b[1;32m     22\u001b[0m \u001b[43m        \u001b[49m\u001b[38;5;124;43m'\u001b[39;49m\u001b[38;5;124;43mImage\u001b[39;49m\u001b[38;5;124;43m'\u001b[39;49m\u001b[43m:\u001b[49m\u001b[43m \u001b[49m\u001b[38;5;124;43m'\u001b[39;49m\u001b[38;5;124;43m319840978863.dkr.ecr.us-east-1.amazonaws.com/tensorflow-inference:mondo\u001b[39;49m\u001b[38;5;124;43m'\u001b[39;49m\u001b[43m,\u001b[49m\n\u001b[1;32m     23\u001b[0m \u001b[43m        \u001b[49m\u001b[38;5;124;43m'\u001b[39;49m\u001b[38;5;124;43mModelDataUrl\u001b[39;49m\u001b[38;5;124;43m'\u001b[39;49m\u001b[43m:\u001b[49m\u001b[43m \u001b[49m\u001b[38;5;124;43m'\u001b[39;49m\u001b[38;5;124;43ms3://itsar123-larocca/data/output/training_job-2024-11-05-14-05-20/output/model.tar.gz\u001b[39;49m\u001b[38;5;124;43m'\u001b[39;49m\u001b[43m,\u001b[49m\n\u001b[1;32m     24\u001b[0m \u001b[43m    \u001b[49m\u001b[43m}\u001b[49m\u001b[43m)\u001b[49m\n",
      "File \u001b[0;32m~/anaconda3/envs/python3/lib/python3.10/site-packages/botocore/client.py:569\u001b[0m, in \u001b[0;36mClientCreator._create_api_method.<locals>._api_call\u001b[0;34m(self, *args, **kwargs)\u001b[0m\n\u001b[1;32m    565\u001b[0m     \u001b[38;5;28;01mraise\u001b[39;00m \u001b[38;5;167;01mTypeError\u001b[39;00m(\n\u001b[1;32m    566\u001b[0m         \u001b[38;5;124mf\u001b[39m\u001b[38;5;124m\"\u001b[39m\u001b[38;5;132;01m{\u001b[39;00mpy_operation_name\u001b[38;5;132;01m}\u001b[39;00m\u001b[38;5;124m() only accepts keyword arguments.\u001b[39m\u001b[38;5;124m\"\u001b[39m\n\u001b[1;32m    567\u001b[0m     )\n\u001b[1;32m    568\u001b[0m \u001b[38;5;66;03m# The \"self\" in this scope is referring to the BaseClient.\u001b[39;00m\n\u001b[0;32m--> 569\u001b[0m \u001b[38;5;28;01mreturn\u001b[39;00m \u001b[38;5;28;43mself\u001b[39;49m\u001b[38;5;241;43m.\u001b[39;49m\u001b[43m_make_api_call\u001b[49m\u001b[43m(\u001b[49m\u001b[43moperation_name\u001b[49m\u001b[43m,\u001b[49m\u001b[43m \u001b[49m\u001b[43mkwargs\u001b[49m\u001b[43m)\u001b[49m\n",
      "File \u001b[0;32m~/anaconda3/envs/python3/lib/python3.10/site-packages/botocore/client.py:1023\u001b[0m, in \u001b[0;36mBaseClient._make_api_call\u001b[0;34m(self, operation_name, api_params)\u001b[0m\n\u001b[1;32m   1019\u001b[0m     error_code \u001b[38;5;241m=\u001b[39m error_info\u001b[38;5;241m.\u001b[39mget(\u001b[38;5;124m\"\u001b[39m\u001b[38;5;124mQueryErrorCode\u001b[39m\u001b[38;5;124m\"\u001b[39m) \u001b[38;5;129;01mor\u001b[39;00m error_info\u001b[38;5;241m.\u001b[39mget(\n\u001b[1;32m   1020\u001b[0m         \u001b[38;5;124m\"\u001b[39m\u001b[38;5;124mCode\u001b[39m\u001b[38;5;124m\"\u001b[39m\n\u001b[1;32m   1021\u001b[0m     )\n\u001b[1;32m   1022\u001b[0m     error_class \u001b[38;5;241m=\u001b[39m \u001b[38;5;28mself\u001b[39m\u001b[38;5;241m.\u001b[39mexceptions\u001b[38;5;241m.\u001b[39mfrom_code(error_code)\n\u001b[0;32m-> 1023\u001b[0m     \u001b[38;5;28;01mraise\u001b[39;00m error_class(parsed_response, operation_name)\n\u001b[1;32m   1024\u001b[0m \u001b[38;5;28;01melse\u001b[39;00m:\n\u001b[1;32m   1025\u001b[0m     \u001b[38;5;28;01mreturn\u001b[39;00m parsed_response\n",
      "\u001b[0;31mClientError\u001b[0m: An error occurred (ValidationException) when calling the CreateModel operation: Cannot create already existing model \"arn:aws:sagemaker:us-east-1:319840978863:model/training-2023-11-23-18-45-31-074\"."
     ]
    }
   ],
   "source": [
    "\n",
    "from sagemaker import get_execution_role\n",
    "import boto3\n",
    "import datetime\n",
    "from time import gmtime, strftime\n",
    "\n",
    "# https://docs.aws.amazon.com/sagemaker/latest/dg/realtime-endpoints-deployment.html\n",
    "\n",
    "my_session = boto3.session.Session()\n",
    "aws_region = my_session.region_name\n",
    "\n",
    "sagemaker_client = boto3.client('sagemaker', region_name=aws_region)\n",
    "\n",
    "sagemaker_role = get_execution_role()\n",
    "\n",
    "model_name = 'predappio'\n",
    "\n",
    "# Create model\n",
    "create_model_response = sagemaker_client.create_model(\n",
    "    ModelName = model_name,\n",
    "    ExecutionRoleArn = sagemaker_role,\n",
    "    PrimaryContainer = {\n",
    "        'Image': '319840978863.dkr.ecr.us-east-1.amazonaws.com/tensorflow-inference:mondo',\n",
    "        'ModelDataUrl': 's3://itsar123-larocca/data/output/training_job-2024-11-05-14-05-20/output/model.tar.gz',\n",
    "    })\n",
    "\n",
    "\n"
   ]
  },
  {
   "cell_type": "code",
   "execution_count": 31,
   "id": "d02a671d",
   "metadata": {},
   "outputs": [
    {
     "name": "stdout",
     "output_type": "stream",
     "text": [
      "Created EndpointConfig: arn:aws:sagemaker:us-east-1:319840978863:endpoint-config/prima-api-inferenza-larocca\n"
     ]
    },
    {
     "ename": "ResourceLimitExceeded",
     "evalue": "An error occurred (ResourceLimitExceeded) when calling the CreateEndpoint operation: The account-level service limit 'ml.p2.xlarge for endpoint usage' is 1 Instances, with current utilization of 1 Instances and a request delta of 1 Instances. Please use AWS Service Quotas to request an increase for this quota. If AWS Service Quotas is not available, contact AWS support to request an increase for this quota.",
     "output_type": "error",
     "traceback": [
      "\u001b[0;31m---------------------------------------------------------------------------\u001b[0m",
      "\u001b[0;31mResourceLimitExceeded\u001b[0m                     Traceback (most recent call last)",
      "Cell \u001b[0;32mIn[31], line 26\u001b[0m\n\u001b[1;32m     23\u001b[0m \u001b[38;5;66;03m# The name of the endpoint. The name must be unique within an AWS Region in your AWS account.\u001b[39;00m\n\u001b[1;32m     24\u001b[0m endpoint_name \u001b[38;5;241m=\u001b[39m \u001b[38;5;124m'\u001b[39m\u001b[38;5;124mprima-api-inferenza-larocca\u001b[39m\u001b[38;5;124m'\u001b[39m\n\u001b[0;32m---> 26\u001b[0m create_endpoint_response \u001b[38;5;241m=\u001b[39m \u001b[43msagemaker_client\u001b[49m\u001b[38;5;241;43m.\u001b[39;49m\u001b[43mcreate_endpoint\u001b[49m\u001b[43m(\u001b[49m\n\u001b[1;32m     27\u001b[0m \u001b[43m                                            \u001b[49m\u001b[43mEndpointName\u001b[49m\u001b[38;5;241;43m=\u001b[39;49m\u001b[43mendpoint_name\u001b[49m\u001b[43m,\u001b[49m\u001b[43m \u001b[49m\n\u001b[1;32m     28\u001b[0m \u001b[43m                                            \u001b[49m\u001b[43mEndpointConfigName\u001b[49m\u001b[38;5;241;43m=\u001b[39;49m\u001b[43mendpoint_config_name\u001b[49m\u001b[43m)\u001b[49m\n",
      "File \u001b[0;32m~/anaconda3/envs/python3/lib/python3.10/site-packages/botocore/client.py:569\u001b[0m, in \u001b[0;36mClientCreator._create_api_method.<locals>._api_call\u001b[0;34m(self, *args, **kwargs)\u001b[0m\n\u001b[1;32m    565\u001b[0m     \u001b[38;5;28;01mraise\u001b[39;00m \u001b[38;5;167;01mTypeError\u001b[39;00m(\n\u001b[1;32m    566\u001b[0m         \u001b[38;5;124mf\u001b[39m\u001b[38;5;124m\"\u001b[39m\u001b[38;5;132;01m{\u001b[39;00mpy_operation_name\u001b[38;5;132;01m}\u001b[39;00m\u001b[38;5;124m() only accepts keyword arguments.\u001b[39m\u001b[38;5;124m\"\u001b[39m\n\u001b[1;32m    567\u001b[0m     )\n\u001b[1;32m    568\u001b[0m \u001b[38;5;66;03m# The \"self\" in this scope is referring to the BaseClient.\u001b[39;00m\n\u001b[0;32m--> 569\u001b[0m \u001b[38;5;28;01mreturn\u001b[39;00m \u001b[38;5;28;43mself\u001b[39;49m\u001b[38;5;241;43m.\u001b[39;49m\u001b[43m_make_api_call\u001b[49m\u001b[43m(\u001b[49m\u001b[43moperation_name\u001b[49m\u001b[43m,\u001b[49m\u001b[43m \u001b[49m\u001b[43mkwargs\u001b[49m\u001b[43m)\u001b[49m\n",
      "File \u001b[0;32m~/anaconda3/envs/python3/lib/python3.10/site-packages/botocore/client.py:1023\u001b[0m, in \u001b[0;36mBaseClient._make_api_call\u001b[0;34m(self, operation_name, api_params)\u001b[0m\n\u001b[1;32m   1019\u001b[0m     error_code \u001b[38;5;241m=\u001b[39m error_info\u001b[38;5;241m.\u001b[39mget(\u001b[38;5;124m\"\u001b[39m\u001b[38;5;124mQueryErrorCode\u001b[39m\u001b[38;5;124m\"\u001b[39m) \u001b[38;5;129;01mor\u001b[39;00m error_info\u001b[38;5;241m.\u001b[39mget(\n\u001b[1;32m   1020\u001b[0m         \u001b[38;5;124m\"\u001b[39m\u001b[38;5;124mCode\u001b[39m\u001b[38;5;124m\"\u001b[39m\n\u001b[1;32m   1021\u001b[0m     )\n\u001b[1;32m   1022\u001b[0m     error_class \u001b[38;5;241m=\u001b[39m \u001b[38;5;28mself\u001b[39m\u001b[38;5;241m.\u001b[39mexceptions\u001b[38;5;241m.\u001b[39mfrom_code(error_code)\n\u001b[0;32m-> 1023\u001b[0m     \u001b[38;5;28;01mraise\u001b[39;00m error_class(parsed_response, operation_name)\n\u001b[1;32m   1024\u001b[0m \u001b[38;5;28;01melse\u001b[39;00m:\n\u001b[1;32m   1025\u001b[0m     \u001b[38;5;28;01mreturn\u001b[39;00m parsed_response\n",
      "\u001b[0;31mResourceLimitExceeded\u001b[0m: An error occurred (ResourceLimitExceeded) when calling the CreateEndpoint operation: The account-level service limit 'ml.p2.xlarge for endpoint usage' is 1 Instances, with current utilization of 1 Instances and a request delta of 1 Instances. Please use AWS Service Quotas to request an increase for this quota. If AWS Service Quotas is not available, contact AWS support to request an increase for this quota."
     ]
    }
   ],
   "source": [
    "# Create an endpoint config name. Here we create one based on the date  \n",
    "# so it we can search endpoints based on creation time.\n",
    "endpoint_config_name = 'prima-api-inferenza-larocca'\n",
    "\n",
    "instance_type = 'ml.p2.xlarge'\n",
    "\n",
    "endpoint_config_response = sagemaker_client.create_endpoint_config(\n",
    "    EndpointConfigName=endpoint_config_name,\n",
    "    # You will specify this name in a CreateEndpoint request.\n",
    "    # List of ProductionVariant objects, one for each model that you want to host at this endpoint.\n",
    "    ProductionVariants=[\n",
    "        {\n",
    "            \"VariantName\": \"variant1\", # The name of the production variant.\n",
    "            \"ModelName\": model_name,\n",
    "            \"InstanceType\": instance_type, # Specify the compute instance type.\n",
    "            \"InitialInstanceCount\": 1 # Number of instances to launch initially.\n",
    "        }\n",
    "    ]\n",
    ")\n",
    "\n",
    "print(f\"Created EndpointConfig: {endpoint_config_response['EndpointConfigArn']}\")\n",
    "\n",
    "# The name of the endpoint. The name must be unique within an AWS Region in your AWS account.\n",
    "endpoint_name = 'prima-api-inferenza-larocca'\n",
    "\n",
    "create_endpoint_response = sagemaker_client.create_endpoint(\n",
    "                                            EndpointName=endpoint_name, \n",
    "                                            EndpointConfigName=endpoint_config_name)\n"
   ]
  },
  {
   "cell_type": "code",
   "execution_count": null,
   "id": "3b6e1ce6",
   "metadata": {},
   "outputs": [],
   "source": []
  }
 ],
 "metadata": {
  "kernelspec": {
   "display_name": "conda_python3",
   "language": "python",
   "name": "conda_python3"
  },
  "language_info": {
   "codemirror_mode": {
    "name": "ipython",
    "version": 3
   },
   "file_extension": ".py",
   "mimetype": "text/x-python",
   "name": "python",
   "nbconvert_exporter": "python",
   "pygments_lexer": "ipython3",
   "version": "3.10.15"
  }
 },
 "nbformat": 4,
 "nbformat_minor": 5
}
